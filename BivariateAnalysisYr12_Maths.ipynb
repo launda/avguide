{
 "cells": [
  {
   "cell_type": "code",
   "execution_count": 1,
   "metadata": {
    "scrolled": true
   },
   "outputs": [
    {
     "name": "stdout",
     "output_type": "stream",
     "text": [
      "<class 'pandas.core.frame.DataFrame'>\n",
      "RangeIndex: 50 entries, 0 to 49\n",
      "Data columns (total 7 columns):\n",
      "Gaming           50 non-null int64\n",
      "Exercising       50 non-null int64\n",
      "Social media     50 non-null int64\n",
      "Leisure          50 non-null int64\n",
      "Sleeping         50 non-null int64\n",
      "Studying         50 non-null float64\n",
      "Grade_percent    50 non-null int64\n",
      "dtypes: float64(1), int64(6)\n",
      "memory usage: 2.9 KB\n"
     ]
    }
   ],
   "source": [
    "import pandas as pd\n",
    "from pandas import read_excel\n",
    "import pandas_profiling\n",
    "import numpy as np\n",
    "\n",
    "df = pd.read_excel('academic.xlsx',dtype={'Gaming':int, 'Exercising':int, \\\n",
    "                    'Social media':int, 'Leisure':int, 'Sleeping':int,\\\n",
    "                    'Studying':float, 'Grade_percent':int})\n",
    "df.info()"
   ]
  },
  {
   "cell_type": "code",
   "execution_count": 2,
   "metadata": {},
   "outputs": [
    {
     "name": "stdout",
     "output_type": "stream",
     "text": [
      "Index(['Gaming', 'Exercising', 'Social media', 'Leisure', 'Sleeping',\n",
      "       'Studying', 'Grade_percent'],\n",
      "      dtype='object')\n"
     ]
    },
    {
     "data": {
      "text/html": [
       "<div>\n",
       "<style scoped>\n",
       "    .dataframe tbody tr th:only-of-type {\n",
       "        vertical-align: middle;\n",
       "    }\n",
       "\n",
       "    .dataframe tbody tr th {\n",
       "        vertical-align: top;\n",
       "    }\n",
       "\n",
       "    .dataframe thead th {\n",
       "        text-align: right;\n",
       "    }\n",
       "</style>\n",
       "<table border=\"1\" class=\"dataframe\">\n",
       "  <thead>\n",
       "    <tr style=\"text-align: right;\">\n",
       "      <th></th>\n",
       "      <th>Gaming</th>\n",
       "      <th>Exercising</th>\n",
       "      <th>Social media</th>\n",
       "      <th>Leisure</th>\n",
       "      <th>Sleeping</th>\n",
       "      <th>Studying</th>\n",
       "      <th>Grade_percent</th>\n",
       "    </tr>\n",
       "  </thead>\n",
       "  <tbody>\n",
       "    <tr>\n",
       "      <th>0</th>\n",
       "      <td>40</td>\n",
       "      <td>10</td>\n",
       "      <td>6</td>\n",
       "      <td>56</td>\n",
       "      <td>49</td>\n",
       "      <td>0.0</td>\n",
       "      <td>34</td>\n",
       "    </tr>\n",
       "    <tr>\n",
       "      <th>1</th>\n",
       "      <td>56</td>\n",
       "      <td>3</td>\n",
       "      <td>10</td>\n",
       "      <td>69</td>\n",
       "      <td>56</td>\n",
       "      <td>0.0</td>\n",
       "      <td>35</td>\n",
       "    </tr>\n",
       "    <tr>\n",
       "      <th>2</th>\n",
       "      <td>5</td>\n",
       "      <td>3</td>\n",
       "      <td>18</td>\n",
       "      <td>26</td>\n",
       "      <td>51</td>\n",
       "      <td>2.0</td>\n",
       "      <td>67</td>\n",
       "    </tr>\n",
       "    <tr>\n",
       "      <th>3</th>\n",
       "      <td>18</td>\n",
       "      <td>7</td>\n",
       "      <td>30</td>\n",
       "      <td>55</td>\n",
       "      <td>49</td>\n",
       "      <td>9.0</td>\n",
       "      <td>82</td>\n",
       "    </tr>\n",
       "    <tr>\n",
       "      <th>4</th>\n",
       "      <td>10</td>\n",
       "      <td>10</td>\n",
       "      <td>7</td>\n",
       "      <td>27</td>\n",
       "      <td>45</td>\n",
       "      <td>5.0</td>\n",
       "      <td>67</td>\n",
       "    </tr>\n",
       "  </tbody>\n",
       "</table>\n",
       "</div>"
      ],
      "text/plain": [
       "   Gaming  Exercising  Social media  Leisure  Sleeping  Studying  \\\n",
       "0      40          10             6       56        49       0.0   \n",
       "1      56           3            10       69        56       0.0   \n",
       "2       5           3            18       26        51       2.0   \n",
       "3      18           7            30       55        49       9.0   \n",
       "4      10          10             7       27        45       5.0   \n",
       "\n",
       "   Grade_percent  \n",
       "0             34  \n",
       "1             35  \n",
       "2             67  \n",
       "3             82  \n",
       "4             67  "
      ]
     },
     "execution_count": 2,
     "metadata": {},
     "output_type": "execute_result"
    }
   ],
   "source": [
    "#df = df[df.columns].as_type(int)\n",
    "#df.head()\n",
    "print(df.columns)\n",
    "df.head()"
   ]
  },
  {
   "cell_type": "code",
   "execution_count": 3,
   "metadata": {
    "scrolled": true
   },
   "outputs": [
    {
     "data": {
      "text/html": [
       "<div>\n",
       "<style scoped>\n",
       "    .dataframe tbody tr th:only-of-type {\n",
       "        vertical-align: middle;\n",
       "    }\n",
       "\n",
       "    .dataframe tbody tr th {\n",
       "        vertical-align: top;\n",
       "    }\n",
       "\n",
       "    .dataframe thead th {\n",
       "        text-align: right;\n",
       "    }\n",
       "</style>\n",
       "<table border=\"1\" class=\"dataframe\">\n",
       "  <thead>\n",
       "    <tr style=\"text-align: right;\">\n",
       "      <th></th>\n",
       "      <th>Gaming</th>\n",
       "      <th>Exercising</th>\n",
       "      <th>Social media</th>\n",
       "      <th>Leisure</th>\n",
       "      <th>Sleeping</th>\n",
       "      <th>Studying</th>\n",
       "      <th>Grade_percent</th>\n",
       "    </tr>\n",
       "  </thead>\n",
       "  <tbody>\n",
       "    <tr>\n",
       "      <th>0</th>\n",
       "      <td>40</td>\n",
       "      <td>10</td>\n",
       "      <td>6</td>\n",
       "      <td>56</td>\n",
       "      <td>49</td>\n",
       "      <td>0.0</td>\n",
       "      <td>34</td>\n",
       "    </tr>\n",
       "    <tr>\n",
       "      <th>1</th>\n",
       "      <td>56</td>\n",
       "      <td>3</td>\n",
       "      <td>10</td>\n",
       "      <td>69</td>\n",
       "      <td>56</td>\n",
       "      <td>0.0</td>\n",
       "      <td>35</td>\n",
       "    </tr>\n",
       "    <tr>\n",
       "      <th>2</th>\n",
       "      <td>5</td>\n",
       "      <td>3</td>\n",
       "      <td>18</td>\n",
       "      <td>26</td>\n",
       "      <td>51</td>\n",
       "      <td>2.0</td>\n",
       "      <td>67</td>\n",
       "    </tr>\n",
       "    <tr>\n",
       "      <th>3</th>\n",
       "      <td>18</td>\n",
       "      <td>7</td>\n",
       "      <td>30</td>\n",
       "      <td>55</td>\n",
       "      <td>49</td>\n",
       "      <td>9.0</td>\n",
       "      <td>82</td>\n",
       "    </tr>\n",
       "    <tr>\n",
       "      <th>4</th>\n",
       "      <td>10</td>\n",
       "      <td>10</td>\n",
       "      <td>7</td>\n",
       "      <td>27</td>\n",
       "      <td>45</td>\n",
       "      <td>5.0</td>\n",
       "      <td>67</td>\n",
       "    </tr>\n",
       "  </tbody>\n",
       "</table>\n",
       "</div>"
      ],
      "text/plain": [
       "   Gaming  Exercising  Social media  Leisure  Sleeping  Studying  \\\n",
       "0      40          10             6       56        49       0.0   \n",
       "1      56           3            10       69        56       0.0   \n",
       "2       5           3            18       26        51       2.0   \n",
       "3      18           7            30       55        49       9.0   \n",
       "4      10          10             7       27        45       5.0   \n",
       "\n",
       "   Grade_percent  \n",
       "0             34  \n",
       "1             35  \n",
       "2             67  \n",
       "3             82  \n",
       "4             67  "
      ]
     },
     "execution_count": 3,
     "metadata": {},
     "output_type": "execute_result"
    }
   ],
   "source": [
    "# Feature engineering - create new variable Leisure by adding others \n",
    "df['Leisure'] = df['Gaming'] + df['Exercising'] + df['Social media']\n",
    "df.head()"
   ]
  },
  {
   "cell_type": "markdown",
   "metadata": {},
   "source": [
    "## Correlation and Scatter plots\n",
    "\n",
    "To look for any relationship or association between student grades and the other variable, we can do scatterplots of the sudent grades against different predictor variables.\n",
    "\n",
    "How do we measure the degree of association or relationship between two numeric variablss? We need to calculate the **correlation**. \n",
    "\n",
    "https://www.simplypsychology.org/correlation.html#:~:text=Correlation%20means%20association%20%2D%20more%20precisely,negative%20correlation%2C%20and%20no%20correlation.&text=A%20zero%20correlation%20exists%20when%20there%20is%20no%20relationship%20between%20two%20variables.\n",
    "\n",
    "Correlation Definitions, Examples & Interpretation\n",
    "By Saul McLeod, updated 2020\n",
    "\n",
    "Correlation means association - more precisely it is **a measure of the extent to which two variables are related**. There are three possible results of a correlational study: a positive correlation, a negative correlation, and no correlation.\n",
    "\n",
    "## Positive correlation\n",
    "A positive correlation is a relationship between two variables in which both variables **move in the same direction**. Therefore, when one variable increases as the other variable increases, or one variable decreases while the other decreases. An example of positive correlation would be height and weight. Taller people tend to be heavier.\n",
    "\n",
    "## Negative correlation\n",
    "A negative correlation is a relationship between two variables in which the variables **move in the opposite direction**. Therefore, an increase in one variable is associated with a decrease in the other. An example of negative correlation would be height above sea level and temperature. As you climb the mountain (increase in height) it gets colder (decrease in temperature).\n",
    "\n",
    "A zero correlation exists when there is no relationship between two variables. For example there is no relationship between the amount of tea drunk and level of intelligence.\n",
    "\n",
    "## Scattergrams\n",
    "A correlation can be expressed visually. This is done by drawing a scattergram (also known as a scatterplot, scatter graph, scatter chart, or scatter diagram).\n",
    "\n",
    "A scattergram is a graphical display that shows the relationships or associations between two numerical variables (or co-variables), which are represented as points (or dots) for each pair of score.\n",
    "\n",
    "A scattergraph indicates the strength and direction of the correlation between the co-variables.\n",
    "\n",
    "When you draw a scattergram it doesn't matter which variable goes on the x-axis and which goes on the y-axis.\n",
    "\n",
    "Remember, in correlations we are always dealing with paired scores, so the values of the 2 variables taken together will be used to make the diagram.\n",
    "\n",
    "Decide which variable goes on each axis and then simply put a cross at the point where the 2 values coincide.\n",
    "\n",
    "Some uses of Correlations\n",
    "\n",
    "1. Prediction\n",
    "\n",
    "If there is a relationship between two variables, we can make predictions about one from another.\n",
    "\n",
    "2. Validity\n",
    "\n",
    "Concurrent validity (correlation between a new measure and an established measure).\n",
    "\n",
    "3. Reliability\n",
    "\n",
    "Test-retest reliability (are measures consistent).\n",
    "Inter-rater reliability (are observers consistent).\n",
    "Theory verification\n",
    "\n",
    "Predictive validity.\n",
    "Correlation Coefficients: Determining Correlation Strength\n",
    "Instead of drawing a scattergram a correlation can be expressed numerically as a coefficient, ranging from -1 to +1. When working with continuous variables, the correlation coefficient to use is Pearson’s r.\n"
   ]
  },
  {
   "cell_type": "code",
   "execution_count": 4,
   "metadata": {
    "scrolled": true
   },
   "outputs": [
    {
     "name": "stdout",
     "output_type": "stream",
     "text": [
      "\n",
      " 0.007965482526478228\n",
      "\n",
      " 0.00796548252647823\n",
      "\n",
      " 0.15287882988565574\n",
      "\n",
      " 0.20128310606064817\n",
      "\n",
      " -0.21097539065597148\n",
      "\n",
      " -0.1585434910379235\n",
      "\n",
      " 0.6650065430645031\n"
     ]
    }
   ],
   "source": [
    "# Calculating Correlation between variables - use the corr() method of series\n",
    "#  Variable_1.corr(Variable_2)\n",
    "\n",
    "print(\"\\n\",\\\n",
    "    df['Grade_percent'].corr(df['Leisure'], method='pearson'))\n",
    "\n",
    "print(\"\\n\",\\\n",
    "    df['Leisure'].corr(df['Grade_percent'], method='pearson'))\n",
    "\n",
    "print(\"\\n\",\\\n",
    "    df['Grade_percent'].corr(df['Sleeping'], method='pearson'))\n",
    "\n",
    "print(\"\\n\",\\\n",
    "    df['Grade_percent'].corr(df['Social media'], method='pearson'))\n",
    "\n",
    "print(\"\\n\",\\\n",
    "    df['Grade_percent'].corr(df['Gaming'], method='pearson'))\n",
    "\n",
    "print(\"\\n\",\\\n",
    "    df['Grade_percent'].corr(df['Exercising'], method='pearson'))\n",
    "\n",
    "print(\"\\n\",\\\n",
    "    df['Grade_percent'].corr(df['Studying'], method='pearson'))"
   ]
  },
  {
   "cell_type": "code",
   "execution_count": 5,
   "metadata": {},
   "outputs": [
    {
     "data": {
      "text/html": [
       "<div>\n",
       "<style scoped>\n",
       "    .dataframe tbody tr th:only-of-type {\n",
       "        vertical-align: middle;\n",
       "    }\n",
       "\n",
       "    .dataframe tbody tr th {\n",
       "        vertical-align: top;\n",
       "    }\n",
       "\n",
       "    .dataframe thead th {\n",
       "        text-align: right;\n",
       "    }\n",
       "</style>\n",
       "<table border=\"1\" class=\"dataframe\">\n",
       "  <thead>\n",
       "    <tr style=\"text-align: right;\">\n",
       "      <th></th>\n",
       "      <th>Gaming</th>\n",
       "      <th>Exercising</th>\n",
       "      <th>Social media</th>\n",
       "      <th>Leisure</th>\n",
       "      <th>Sleeping</th>\n",
       "      <th>Studying</th>\n",
       "      <th>Grade_percent</th>\n",
       "    </tr>\n",
       "  </thead>\n",
       "  <tbody>\n",
       "    <tr>\n",
       "      <th>Gaming</th>\n",
       "      <td>1.000000</td>\n",
       "      <td>-0.063085</td>\n",
       "      <td>-0.240651</td>\n",
       "      <td>0.439416</td>\n",
       "      <td>0.041156</td>\n",
       "      <td>-0.172453</td>\n",
       "      <td>-0.210975</td>\n",
       "    </tr>\n",
       "    <tr>\n",
       "      <th>Exercising</th>\n",
       "      <td>-0.063085</td>\n",
       "      <td>1.000000</td>\n",
       "      <td>-0.174480</td>\n",
       "      <td>0.031664</td>\n",
       "      <td>0.039967</td>\n",
       "      <td>-0.159870</td>\n",
       "      <td>-0.158543</td>\n",
       "    </tr>\n",
       "    <tr>\n",
       "      <th>Social media</th>\n",
       "      <td>-0.240651</td>\n",
       "      <td>-0.174480</td>\n",
       "      <td>1.000000</td>\n",
       "      <td>0.736078</td>\n",
       "      <td>0.262362</td>\n",
       "      <td>0.093194</td>\n",
       "      <td>0.201283</td>\n",
       "    </tr>\n",
       "    <tr>\n",
       "      <th>Leisure</th>\n",
       "      <td>0.439416</td>\n",
       "      <td>0.031664</td>\n",
       "      <td>0.736078</td>\n",
       "      <td>1.000000</td>\n",
       "      <td>0.284641</td>\n",
       "      <td>-0.067899</td>\n",
       "      <td>0.007965</td>\n",
       "    </tr>\n",
       "    <tr>\n",
       "      <th>Sleeping</th>\n",
       "      <td>0.041156</td>\n",
       "      <td>0.039967</td>\n",
       "      <td>0.262362</td>\n",
       "      <td>0.284641</td>\n",
       "      <td>1.000000</td>\n",
       "      <td>-0.046945</td>\n",
       "      <td>0.152879</td>\n",
       "    </tr>\n",
       "    <tr>\n",
       "      <th>Studying</th>\n",
       "      <td>-0.172453</td>\n",
       "      <td>-0.159870</td>\n",
       "      <td>0.093194</td>\n",
       "      <td>-0.067899</td>\n",
       "      <td>-0.046945</td>\n",
       "      <td>1.000000</td>\n",
       "      <td>0.665007</td>\n",
       "    </tr>\n",
       "    <tr>\n",
       "      <th>Grade_percent</th>\n",
       "      <td>-0.210975</td>\n",
       "      <td>-0.158543</td>\n",
       "      <td>0.201283</td>\n",
       "      <td>0.007965</td>\n",
       "      <td>0.152879</td>\n",
       "      <td>0.665007</td>\n",
       "      <td>1.000000</td>\n",
       "    </tr>\n",
       "  </tbody>\n",
       "</table>\n",
       "</div>"
      ],
      "text/plain": [
       "                 Gaming  Exercising  Social media   Leisure  Sleeping  \\\n",
       "Gaming         1.000000   -0.063085     -0.240651  0.439416  0.041156   \n",
       "Exercising    -0.063085    1.000000     -0.174480  0.031664  0.039967   \n",
       "Social media  -0.240651   -0.174480      1.000000  0.736078  0.262362   \n",
       "Leisure        0.439416    0.031664      0.736078  1.000000  0.284641   \n",
       "Sleeping       0.041156    0.039967      0.262362  0.284641  1.000000   \n",
       "Studying      -0.172453   -0.159870      0.093194 -0.067899 -0.046945   \n",
       "Grade_percent -0.210975   -0.158543      0.201283  0.007965  0.152879   \n",
       "\n",
       "               Studying  Grade_percent  \n",
       "Gaming        -0.172453      -0.210975  \n",
       "Exercising    -0.159870      -0.158543  \n",
       "Social media   0.093194       0.201283  \n",
       "Leisure       -0.067899       0.007965  \n",
       "Sleeping      -0.046945       0.152879  \n",
       "Studying       1.000000       0.665007  \n",
       "Grade_percent  0.665007       1.000000  "
      ]
     },
     "execution_count": 5,
     "metadata": {},
     "output_type": "execute_result"
    }
   ],
   "source": [
    "# we can calculate all correlation in one go using the corr() method on entire dataframe\n",
    "#  df.corr()\n",
    "\n",
    "relationship = df.corr(method='pearson', min_periods=1)\n",
    "relationship"
   ]
  },
  {
   "cell_type": "code",
   "execution_count": 6,
   "metadata": {
    "scrolled": true
   },
   "outputs": [
    {
     "data": {
      "text/html": [
       "<style  type=\"text/css\" >\n",
       "    #T_78181d7e_2ac1_11eb_b312_a01d48b27e70row0_col0 {\n",
       "            color:  purple;\n",
       "        }    #T_78181d7e_2ac1_11eb_b312_a01d48b27e70row0_col1 {\n",
       "            color:  blue;\n",
       "        }    #T_78181d7e_2ac1_11eb_b312_a01d48b27e70row0_col2 {\n",
       "            color:  blue;\n",
       "        }    #T_78181d7e_2ac1_11eb_b312_a01d48b27e70row0_col3 {\n",
       "            color:  red;\n",
       "        }    #T_78181d7e_2ac1_11eb_b312_a01d48b27e70row0_col4 {\n",
       "            color:  red;\n",
       "        }    #T_78181d7e_2ac1_11eb_b312_a01d48b27e70row0_col5 {\n",
       "            color:  blue;\n",
       "        }    #T_78181d7e_2ac1_11eb_b312_a01d48b27e70row0_col6 {\n",
       "            color:  blue;\n",
       "        }    #T_78181d7e_2ac1_11eb_b312_a01d48b27e70row1_col0 {\n",
       "            color:  blue;\n",
       "        }    #T_78181d7e_2ac1_11eb_b312_a01d48b27e70row1_col1 {\n",
       "            color:  purple;\n",
       "        }    #T_78181d7e_2ac1_11eb_b312_a01d48b27e70row1_col2 {\n",
       "            color:  blue;\n",
       "        }    #T_78181d7e_2ac1_11eb_b312_a01d48b27e70row1_col3 {\n",
       "            color:  red;\n",
       "        }    #T_78181d7e_2ac1_11eb_b312_a01d48b27e70row1_col4 {\n",
       "            color:  red;\n",
       "        }    #T_78181d7e_2ac1_11eb_b312_a01d48b27e70row1_col5 {\n",
       "            color:  blue;\n",
       "        }    #T_78181d7e_2ac1_11eb_b312_a01d48b27e70row1_col6 {\n",
       "            color:  blue;\n",
       "        }    #T_78181d7e_2ac1_11eb_b312_a01d48b27e70row2_col0 {\n",
       "            color:  blue;\n",
       "        }    #T_78181d7e_2ac1_11eb_b312_a01d48b27e70row2_col1 {\n",
       "            color:  blue;\n",
       "        }    #T_78181d7e_2ac1_11eb_b312_a01d48b27e70row2_col2 {\n",
       "            color:  purple;\n",
       "        }    #T_78181d7e_2ac1_11eb_b312_a01d48b27e70row2_col3 {\n",
       "            color:  purple;\n",
       "        }    #T_78181d7e_2ac1_11eb_b312_a01d48b27e70row2_col4 {\n",
       "            color:  red;\n",
       "        }    #T_78181d7e_2ac1_11eb_b312_a01d48b27e70row2_col5 {\n",
       "            color:  red;\n",
       "        }    #T_78181d7e_2ac1_11eb_b312_a01d48b27e70row2_col6 {\n",
       "            color:  red;\n",
       "        }    #T_78181d7e_2ac1_11eb_b312_a01d48b27e70row3_col0 {\n",
       "            color:  red;\n",
       "        }    #T_78181d7e_2ac1_11eb_b312_a01d48b27e70row3_col1 {\n",
       "            color:  red;\n",
       "        }    #T_78181d7e_2ac1_11eb_b312_a01d48b27e70row3_col2 {\n",
       "            color:  purple;\n",
       "        }    #T_78181d7e_2ac1_11eb_b312_a01d48b27e70row3_col3 {\n",
       "            color:  purple;\n",
       "        }    #T_78181d7e_2ac1_11eb_b312_a01d48b27e70row3_col4 {\n",
       "            color:  red;\n",
       "        }    #T_78181d7e_2ac1_11eb_b312_a01d48b27e70row3_col5 {\n",
       "            color:  blue;\n",
       "        }    #T_78181d7e_2ac1_11eb_b312_a01d48b27e70row3_col6 {\n",
       "            color:  red;\n",
       "        }    #T_78181d7e_2ac1_11eb_b312_a01d48b27e70row4_col0 {\n",
       "            color:  red;\n",
       "        }    #T_78181d7e_2ac1_11eb_b312_a01d48b27e70row4_col1 {\n",
       "            color:  red;\n",
       "        }    #T_78181d7e_2ac1_11eb_b312_a01d48b27e70row4_col2 {\n",
       "            color:  red;\n",
       "        }    #T_78181d7e_2ac1_11eb_b312_a01d48b27e70row4_col3 {\n",
       "            color:  red;\n",
       "        }    #T_78181d7e_2ac1_11eb_b312_a01d48b27e70row4_col4 {\n",
       "            color:  purple;\n",
       "        }    #T_78181d7e_2ac1_11eb_b312_a01d48b27e70row4_col5 {\n",
       "            color:  blue;\n",
       "        }    #T_78181d7e_2ac1_11eb_b312_a01d48b27e70row4_col6 {\n",
       "            color:  red;\n",
       "        }    #T_78181d7e_2ac1_11eb_b312_a01d48b27e70row5_col0 {\n",
       "            color:  blue;\n",
       "        }    #T_78181d7e_2ac1_11eb_b312_a01d48b27e70row5_col1 {\n",
       "            color:  blue;\n",
       "        }    #T_78181d7e_2ac1_11eb_b312_a01d48b27e70row5_col2 {\n",
       "            color:  red;\n",
       "        }    #T_78181d7e_2ac1_11eb_b312_a01d48b27e70row5_col3 {\n",
       "            color:  blue;\n",
       "        }    #T_78181d7e_2ac1_11eb_b312_a01d48b27e70row5_col4 {\n",
       "            color:  blue;\n",
       "        }    #T_78181d7e_2ac1_11eb_b312_a01d48b27e70row5_col5 {\n",
       "            color:  purple;\n",
       "        }    #T_78181d7e_2ac1_11eb_b312_a01d48b27e70row5_col6 {\n",
       "            color:  purple;\n",
       "        }    #T_78181d7e_2ac1_11eb_b312_a01d48b27e70row6_col0 {\n",
       "            color:  blue;\n",
       "        }    #T_78181d7e_2ac1_11eb_b312_a01d48b27e70row6_col1 {\n",
       "            color:  blue;\n",
       "        }    #T_78181d7e_2ac1_11eb_b312_a01d48b27e70row6_col2 {\n",
       "            color:  red;\n",
       "        }    #T_78181d7e_2ac1_11eb_b312_a01d48b27e70row6_col3 {\n",
       "            color:  red;\n",
       "        }    #T_78181d7e_2ac1_11eb_b312_a01d48b27e70row6_col4 {\n",
       "            color:  red;\n",
       "        }    #T_78181d7e_2ac1_11eb_b312_a01d48b27e70row6_col5 {\n",
       "            color:  purple;\n",
       "        }    #T_78181d7e_2ac1_11eb_b312_a01d48b27e70row6_col6 {\n",
       "            color:  purple;\n",
       "        }</style><table id=\"T_78181d7e_2ac1_11eb_b312_a01d48b27e70\" ><thead>    <tr>        <th class=\"blank level0\" ></th>        <th class=\"col_heading level0 col0\" >Gaming</th>        <th class=\"col_heading level0 col1\" >Exercising</th>        <th class=\"col_heading level0 col2\" >Social media</th>        <th class=\"col_heading level0 col3\" >Leisure</th>        <th class=\"col_heading level0 col4\" >Sleeping</th>        <th class=\"col_heading level0 col5\" >Studying</th>        <th class=\"col_heading level0 col6\" >Grade_percent</th>    </tr></thead><tbody>\n",
       "                <tr>\n",
       "                        <th id=\"T_78181d7e_2ac1_11eb_b312_a01d48b27e70level0_row0\" class=\"row_heading level0 row0\" >Gaming</th>\n",
       "                        <td id=\"T_78181d7e_2ac1_11eb_b312_a01d48b27e70row0_col0\" class=\"data row0 col0\" >1</td>\n",
       "                        <td id=\"T_78181d7e_2ac1_11eb_b312_a01d48b27e70row0_col1\" class=\"data row0 col1\" >-0.063085</td>\n",
       "                        <td id=\"T_78181d7e_2ac1_11eb_b312_a01d48b27e70row0_col2\" class=\"data row0 col2\" >-0.240651</td>\n",
       "                        <td id=\"T_78181d7e_2ac1_11eb_b312_a01d48b27e70row0_col3\" class=\"data row0 col3\" >0.439416</td>\n",
       "                        <td id=\"T_78181d7e_2ac1_11eb_b312_a01d48b27e70row0_col4\" class=\"data row0 col4\" >0.0411559</td>\n",
       "                        <td id=\"T_78181d7e_2ac1_11eb_b312_a01d48b27e70row0_col5\" class=\"data row0 col5\" >-0.172453</td>\n",
       "                        <td id=\"T_78181d7e_2ac1_11eb_b312_a01d48b27e70row0_col6\" class=\"data row0 col6\" >-0.210975</td>\n",
       "            </tr>\n",
       "            <tr>\n",
       "                        <th id=\"T_78181d7e_2ac1_11eb_b312_a01d48b27e70level0_row1\" class=\"row_heading level0 row1\" >Exercising</th>\n",
       "                        <td id=\"T_78181d7e_2ac1_11eb_b312_a01d48b27e70row1_col0\" class=\"data row1 col0\" >-0.063085</td>\n",
       "                        <td id=\"T_78181d7e_2ac1_11eb_b312_a01d48b27e70row1_col1\" class=\"data row1 col1\" >1</td>\n",
       "                        <td id=\"T_78181d7e_2ac1_11eb_b312_a01d48b27e70row1_col2\" class=\"data row1 col2\" >-0.17448</td>\n",
       "                        <td id=\"T_78181d7e_2ac1_11eb_b312_a01d48b27e70row1_col3\" class=\"data row1 col3\" >0.031664</td>\n",
       "                        <td id=\"T_78181d7e_2ac1_11eb_b312_a01d48b27e70row1_col4\" class=\"data row1 col4\" >0.0399669</td>\n",
       "                        <td id=\"T_78181d7e_2ac1_11eb_b312_a01d48b27e70row1_col5\" class=\"data row1 col5\" >-0.15987</td>\n",
       "                        <td id=\"T_78181d7e_2ac1_11eb_b312_a01d48b27e70row1_col6\" class=\"data row1 col6\" >-0.158543</td>\n",
       "            </tr>\n",
       "            <tr>\n",
       "                        <th id=\"T_78181d7e_2ac1_11eb_b312_a01d48b27e70level0_row2\" class=\"row_heading level0 row2\" >Social media</th>\n",
       "                        <td id=\"T_78181d7e_2ac1_11eb_b312_a01d48b27e70row2_col0\" class=\"data row2 col0\" >-0.240651</td>\n",
       "                        <td id=\"T_78181d7e_2ac1_11eb_b312_a01d48b27e70row2_col1\" class=\"data row2 col1\" >-0.17448</td>\n",
       "                        <td id=\"T_78181d7e_2ac1_11eb_b312_a01d48b27e70row2_col2\" class=\"data row2 col2\" >1</td>\n",
       "                        <td id=\"T_78181d7e_2ac1_11eb_b312_a01d48b27e70row2_col3\" class=\"data row2 col3\" >0.736078</td>\n",
       "                        <td id=\"T_78181d7e_2ac1_11eb_b312_a01d48b27e70row2_col4\" class=\"data row2 col4\" >0.262362</td>\n",
       "                        <td id=\"T_78181d7e_2ac1_11eb_b312_a01d48b27e70row2_col5\" class=\"data row2 col5\" >0.0931938</td>\n",
       "                        <td id=\"T_78181d7e_2ac1_11eb_b312_a01d48b27e70row2_col6\" class=\"data row2 col6\" >0.201283</td>\n",
       "            </tr>\n",
       "            <tr>\n",
       "                        <th id=\"T_78181d7e_2ac1_11eb_b312_a01d48b27e70level0_row3\" class=\"row_heading level0 row3\" >Leisure</th>\n",
       "                        <td id=\"T_78181d7e_2ac1_11eb_b312_a01d48b27e70row3_col0\" class=\"data row3 col0\" >0.439416</td>\n",
       "                        <td id=\"T_78181d7e_2ac1_11eb_b312_a01d48b27e70row3_col1\" class=\"data row3 col1\" >0.031664</td>\n",
       "                        <td id=\"T_78181d7e_2ac1_11eb_b312_a01d48b27e70row3_col2\" class=\"data row3 col2\" >0.736078</td>\n",
       "                        <td id=\"T_78181d7e_2ac1_11eb_b312_a01d48b27e70row3_col3\" class=\"data row3 col3\" >1</td>\n",
       "                        <td id=\"T_78181d7e_2ac1_11eb_b312_a01d48b27e70row3_col4\" class=\"data row3 col4\" >0.284641</td>\n",
       "                        <td id=\"T_78181d7e_2ac1_11eb_b312_a01d48b27e70row3_col5\" class=\"data row3 col5\" >-0.0678987</td>\n",
       "                        <td id=\"T_78181d7e_2ac1_11eb_b312_a01d48b27e70row3_col6\" class=\"data row3 col6\" >0.00796548</td>\n",
       "            </tr>\n",
       "            <tr>\n",
       "                        <th id=\"T_78181d7e_2ac1_11eb_b312_a01d48b27e70level0_row4\" class=\"row_heading level0 row4\" >Sleeping</th>\n",
       "                        <td id=\"T_78181d7e_2ac1_11eb_b312_a01d48b27e70row4_col0\" class=\"data row4 col0\" >0.0411559</td>\n",
       "                        <td id=\"T_78181d7e_2ac1_11eb_b312_a01d48b27e70row4_col1\" class=\"data row4 col1\" >0.0399669</td>\n",
       "                        <td id=\"T_78181d7e_2ac1_11eb_b312_a01d48b27e70row4_col2\" class=\"data row4 col2\" >0.262362</td>\n",
       "                        <td id=\"T_78181d7e_2ac1_11eb_b312_a01d48b27e70row4_col3\" class=\"data row4 col3\" >0.284641</td>\n",
       "                        <td id=\"T_78181d7e_2ac1_11eb_b312_a01d48b27e70row4_col4\" class=\"data row4 col4\" >1</td>\n",
       "                        <td id=\"T_78181d7e_2ac1_11eb_b312_a01d48b27e70row4_col5\" class=\"data row4 col5\" >-0.0469445</td>\n",
       "                        <td id=\"T_78181d7e_2ac1_11eb_b312_a01d48b27e70row4_col6\" class=\"data row4 col6\" >0.152879</td>\n",
       "            </tr>\n",
       "            <tr>\n",
       "                        <th id=\"T_78181d7e_2ac1_11eb_b312_a01d48b27e70level0_row5\" class=\"row_heading level0 row5\" >Studying</th>\n",
       "                        <td id=\"T_78181d7e_2ac1_11eb_b312_a01d48b27e70row5_col0\" class=\"data row5 col0\" >-0.172453</td>\n",
       "                        <td id=\"T_78181d7e_2ac1_11eb_b312_a01d48b27e70row5_col1\" class=\"data row5 col1\" >-0.15987</td>\n",
       "                        <td id=\"T_78181d7e_2ac1_11eb_b312_a01d48b27e70row5_col2\" class=\"data row5 col2\" >0.0931938</td>\n",
       "                        <td id=\"T_78181d7e_2ac1_11eb_b312_a01d48b27e70row5_col3\" class=\"data row5 col3\" >-0.0678987</td>\n",
       "                        <td id=\"T_78181d7e_2ac1_11eb_b312_a01d48b27e70row5_col4\" class=\"data row5 col4\" >-0.0469445</td>\n",
       "                        <td id=\"T_78181d7e_2ac1_11eb_b312_a01d48b27e70row5_col5\" class=\"data row5 col5\" >1</td>\n",
       "                        <td id=\"T_78181d7e_2ac1_11eb_b312_a01d48b27e70row5_col6\" class=\"data row5 col6\" >0.665007</td>\n",
       "            </tr>\n",
       "            <tr>\n",
       "                        <th id=\"T_78181d7e_2ac1_11eb_b312_a01d48b27e70level0_row6\" class=\"row_heading level0 row6\" >Grade_percent</th>\n",
       "                        <td id=\"T_78181d7e_2ac1_11eb_b312_a01d48b27e70row6_col0\" class=\"data row6 col0\" >-0.210975</td>\n",
       "                        <td id=\"T_78181d7e_2ac1_11eb_b312_a01d48b27e70row6_col1\" class=\"data row6 col1\" >-0.158543</td>\n",
       "                        <td id=\"T_78181d7e_2ac1_11eb_b312_a01d48b27e70row6_col2\" class=\"data row6 col2\" >0.201283</td>\n",
       "                        <td id=\"T_78181d7e_2ac1_11eb_b312_a01d48b27e70row6_col3\" class=\"data row6 col3\" >0.00796548</td>\n",
       "                        <td id=\"T_78181d7e_2ac1_11eb_b312_a01d48b27e70row6_col4\" class=\"data row6 col4\" >0.152879</td>\n",
       "                        <td id=\"T_78181d7e_2ac1_11eb_b312_a01d48b27e70row6_col5\" class=\"data row6 col5\" >0.665007</td>\n",
       "                        <td id=\"T_78181d7e_2ac1_11eb_b312_a01d48b27e70row6_col6\" class=\"data row6 col6\" >1</td>\n",
       "            </tr>\n",
       "    </tbody></table>"
      ],
      "text/plain": [
       "<pandas.io.formats.style.Styler at 0x7f6e88f656d0>"
      ]
     },
     "execution_count": 6,
     "metadata": {},
     "output_type": "execute_result"
    }
   ],
   "source": [
    "# We can use pandas styling to color code +ve and -ve correlations\n",
    "def color_corr(value):\n",
    "  \"\"\"\n",
    "  Color all positive correlation RED \n",
    "        all negative correlation BLUE,\n",
    "        equal to ZERO BLACK\n",
    "  https://matplotlib.org/3.1.0/gallery/color/named_colors.html\n",
    "  \"\"\"\n",
    "  if value > 0.5:\n",
    "    color = 'purple'\n",
    "  elif value > 0.0:\n",
    "    color = 'red'\n",
    "  elif value < 0:\n",
    "    color = 'blue'\n",
    "  elif value < -0.5:\n",
    "    color = 'cyan'\n",
    "  else:\n",
    "    color = 'black'\n",
    "  return 'color: %s' % color\n",
    "\n",
    "\n",
    "#relationship= relationship.drop(['Gaming', 'Exercising', 'Social_media', 'Leisure', 'Sleeping','Studying'])\n",
    "relationship.style.applymap(color_corr,subset=relationship.columns)"
   ]
  },
  {
   "cell_type": "code",
   "execution_count": 7,
   "metadata": {},
   "outputs": [
    {
     "data": {
      "text/html": [
       "<style  type=\"text/css\" >\n",
       "    #T_781b1254_2ac1_11eb_b312_a01d48b27e70row0_col0 {\n",
       "            color:  blue;\n",
       "        }    #T_781b1254_2ac1_11eb_b312_a01d48b27e70row1_col0 {\n",
       "            color:  blue;\n",
       "        }    #T_781b1254_2ac1_11eb_b312_a01d48b27e70row2_col0 {\n",
       "            color:  red;\n",
       "        }    #T_781b1254_2ac1_11eb_b312_a01d48b27e70row3_col0 {\n",
       "            color:  red;\n",
       "        }    #T_781b1254_2ac1_11eb_b312_a01d48b27e70row4_col0 {\n",
       "            color:  red;\n",
       "        }    #T_781b1254_2ac1_11eb_b312_a01d48b27e70row5_col0 {\n",
       "            color:  purple;\n",
       "        }    #T_781b1254_2ac1_11eb_b312_a01d48b27e70row6_col0 {\n",
       "            color:  purple;\n",
       "        }</style><table id=\"T_781b1254_2ac1_11eb_b312_a01d48b27e70\" ><thead>    <tr>        <th class=\"blank level0\" ></th>        <th class=\"col_heading level0 col0\" >Grade_percent</th>    </tr></thead><tbody>\n",
       "                <tr>\n",
       "                        <th id=\"T_781b1254_2ac1_11eb_b312_a01d48b27e70level0_row0\" class=\"row_heading level0 row0\" >Gaming</th>\n",
       "                        <td id=\"T_781b1254_2ac1_11eb_b312_a01d48b27e70row0_col0\" class=\"data row0 col0\" >-0.21</td>\n",
       "            </tr>\n",
       "            <tr>\n",
       "                        <th id=\"T_781b1254_2ac1_11eb_b312_a01d48b27e70level0_row1\" class=\"row_heading level0 row1\" >Exercising</th>\n",
       "                        <td id=\"T_781b1254_2ac1_11eb_b312_a01d48b27e70row1_col0\" class=\"data row1 col0\" >-0.16</td>\n",
       "            </tr>\n",
       "            <tr>\n",
       "                        <th id=\"T_781b1254_2ac1_11eb_b312_a01d48b27e70level0_row2\" class=\"row_heading level0 row2\" >Social media</th>\n",
       "                        <td id=\"T_781b1254_2ac1_11eb_b312_a01d48b27e70row2_col0\" class=\"data row2 col0\" >0.2</td>\n",
       "            </tr>\n",
       "            <tr>\n",
       "                        <th id=\"T_781b1254_2ac1_11eb_b312_a01d48b27e70level0_row3\" class=\"row_heading level0 row3\" >Leisure</th>\n",
       "                        <td id=\"T_781b1254_2ac1_11eb_b312_a01d48b27e70row3_col0\" class=\"data row3 col0\" >0.01</td>\n",
       "            </tr>\n",
       "            <tr>\n",
       "                        <th id=\"T_781b1254_2ac1_11eb_b312_a01d48b27e70level0_row4\" class=\"row_heading level0 row4\" >Sleeping</th>\n",
       "                        <td id=\"T_781b1254_2ac1_11eb_b312_a01d48b27e70row4_col0\" class=\"data row4 col0\" >0.15</td>\n",
       "            </tr>\n",
       "            <tr>\n",
       "                        <th id=\"T_781b1254_2ac1_11eb_b312_a01d48b27e70level0_row5\" class=\"row_heading level0 row5\" >Studying</th>\n",
       "                        <td id=\"T_781b1254_2ac1_11eb_b312_a01d48b27e70row5_col0\" class=\"data row5 col0\" >0.67</td>\n",
       "            </tr>\n",
       "            <tr>\n",
       "                        <th id=\"T_781b1254_2ac1_11eb_b312_a01d48b27e70level0_row6\" class=\"row_heading level0 row6\" >Grade_percent</th>\n",
       "                        <td id=\"T_781b1254_2ac1_11eb_b312_a01d48b27e70row6_col0\" class=\"data row6 col0\" >1</td>\n",
       "            </tr>\n",
       "    </tbody></table>"
      ],
      "text/plain": [
       "<pandas.io.formats.style.Styler at 0x7f6e86ec6f10>"
      ]
     },
     "execution_count": 7,
     "metadata": {},
     "output_type": "execute_result"
    }
   ],
   "source": [
    "# Narrow down and look only at correlation between Grades and the other variables\n",
    "round(relationship[['Grade_percent']],2).style.applymap(color_corr)"
   ]
  },
  {
   "cell_type": "code",
   "execution_count": 8,
   "metadata": {
    "scrolled": true
   },
   "outputs": [
    {
     "data": {
      "image/png": "[encoded data removed]",
      "text/plain": [
       "<IPython.core.display.Image object>"
      ]
     },
     "execution_count": 8,
     "metadata": {},
     "output_type": "execute_result"
    }
   ],
   "source": [
    "# Another visual way to look at correlatin -using heatmap plots done by pandas_profiling\n",
    "# pandas_profiling.ProfileReport(df)\n",
    "# takes a long time - image insrted here from earlier run\n",
    "from IPython.display import Image\n",
    "Image(filename='/home/bou/Downloads/yr11_digital_solution/maths_yr12/Scatter_Relationship_Grades_Studying.png')"
   ]
  },
  {
   "cell_type": "markdown",
   "metadata": {},
   "source": [
    "We can see from above that there is a very strong positive correlation or relatioship between Studying varible and Grades (67%). So more hours spent studying leads to better grades. THis makes sense.\n",
    "\n",
    "The next strongest is between Grades and Gaming (21%) but this is a negative correlation - that is as one spends mre hours gaming, there is a correspponding decrese in grades. This result is also expected.\n",
    "\n",
    "Now we see there is alos a positive correlation between Grades and amount of time spent Gaming , about 20%. Its is not a very strong relationship but is sigificant and we need to do some further study to find out why playing video games leads to better grades. Possibly the games are techical and teach useful acdemic concepts!!\n",
    "\n",
    "To look at these relationhsips visually - we can do scatter plots\n"
   ]
  },
  {
   "cell_type": "code",
   "execution_count": 9,
   "metadata": {
    "scrolled": true
   },
   "outputs": [
    {
     "data": {
      "image/png": "[encoded data removed]",
      "text/plain": [
       "<Figure size 864x432 with 1 Axes>"
      ]
     },
     "metadata": {},
     "output_type": "display_data"
    }
   ],
   "source": [
    "import numpy as np\n",
    "import pandas as pd\n",
    "import matplotlib.pyplot as plt\n",
    "import seaborn as sns\n",
    "#sns.set_theme(style=\"darkgrid\")\n",
    "\n",
    "fig, ax = plt.subplots(1, 1, figsize=(12,6))\n",
    "# sns.relplot(x=\"Studying\", y=\"Grade_percent\", data=df,ax=ax)\n",
    "sns.scatterplot(x=\"Studying\", y=\"Grade_percent\", data=df,ax=ax)\n",
    "\n",
    "title = \"Relationship between Time spent studying and academic Grades\"\n",
    "ax.set_title(title, color='b',fontsize=15)\n",
    "ax.set_ylabel('Grades (%)', color='g', fontsize=20)\n",
    "ax.set_xlabel('Hours Studying', color='g', fontsize=20)\n",
    "plt.show()\n"
   ]
  },
  {
   "cell_type": "code",
   "execution_count": 10,
   "metadata": {},
   "outputs": [
    {
     "data": {
      "image/png": "[encoded data removed]",
      "text/plain": [
       "<Figure size 864x432 with 1 Axes>"
      ]
     },
     "metadata": {},
     "output_type": "display_data"
    }
   ],
   "source": [
    "fig, ax = plt.subplots(1, 1, figsize=(12,6))\n",
    "# sns.relplot(x=\"Studying\", y=\"Grade_percent\", data=df,ax=ax)\n",
    "sns.scatterplot(x=\"Gaming\", y=\"Grade_percent\", data=df,ax=ax)\n",
    "\n",
    "title = \"Relationship between Time spent Gaming and academic Grades\"\n",
    "ax.set_title(title, color='b',fontsize=15)\n",
    "ax.set_ylabel('Grades (%)', color='g', fontsize=20)\n",
    "ax.set_xlabel('Gaming (hours)', color='g', fontsize=20)\n",
    "plt.show()"
   ]
  },
  {
   "cell_type": "markdown",
   "metadata": {},
   "source": [
    "https://towardsdatascience.com/simple-and-multiple-linear-regression-in-python-c928425168f9\n",
    "\n",
    "## Linear regression\n",
    "\n",
    "Linear regression is a statistical model that examines the linear relationship between two (**Simple Linear Regression** ) or more (**Multiple Linear Regression**) variables — a dependent variable and independent variable(s). Linear relationship basically means that when one (or more) independent variables increases (or decreases), the dependent variable increases (or decreases) too:\n",
    "\n",
    "a linear relationship can be positive (independent variable goes up, dependent variable goes up) or negative (independent variable goes up, dependent variable goes down)\n",
    "\n",
    "A relationship between variables Y and X is represented by this equation:\n",
    "\n",
    "\n",
    "```Y`i = mX + b```\n",
    "\n",
    "In this equation, Y is the dependent variable — or the variable we are trying to predict or estimate; X is the independent variable — the variable we are using to make predictions; m is the slope of the regression line — it represent the effect X has on Y. In other words, if X increases by 1 unit, Y will increase by exactly m units. (“Full disclosure”: this is true only if we know that X and Y have a linear relationship. In almost all linear regression cases, this will not be true!) b is a constant, also known as the Y-intercept. If X equals 0, Y would be equal to b.\n",
    "\n",
    "Simple Linear Regression (SLR). In a SLR model, we build a model based on data — the slope and Y-intercept derive from the data; furthermore, we don’t need the relationship between X and Y to be exactly linear. SLR models also include the errors in the data (also known as residuals). I won’t go too much into it now, maybe in a later post, but residuals are basically the differences between the true value of Y and the predicted/estimated value of Y. It is important to note that in a linear regression, we are trying to predict a continuous variable. In a regression model, we are trying to minimize these errors by finding the “line of best fit” — the regression line from the errors would be minimal."
   ]
  },
  {
   "cell_type": "code",
   "execution_count": 11,
   "metadata": {
    "scrolled": true
   },
   "outputs": [
    {
     "data": {
      "image/png": "[encoded data removed]",
      "text/plain": [
       "<Figure size 360x360 with 1 Axes>"
      ]
     },
     "metadata": {},
     "output_type": "display_data"
    }
   ],
   "source": [
    "'''lmplot() - Plot data and regression model fits across a FacetGrid.\n",
    "\n",
    "This function combines regplot() and FacetGrid. It is intended as a convenient interface to fit regression models across conditional subsets of a dataset.\n",
    "'''\n",
    "\n",
    "#fig, ax = plt.subplots(1, 1, figsize=(12,6))\n",
    "g=sns.lmplot(x=\"Studying\", y=\"Grade_percent\", data=df)\n",
    "title = \"Relationship between Time spent studying and academic Grades\"\n",
    "#ax.set_title(title, color='b',fontsize=15)\n",
    "#ax.set_ylabel('Grades (%)', color='g', fontsize=20)\n",
    "#ax.set_xlabel('Hours Studying', color='g', fontsize=20)"
   ]
  },
  {
   "cell_type": "code",
   "execution_count": 12,
   "metadata": {},
   "outputs": [
    {
     "data": {
      "text/plain": [
       "Text(0.5, 0, 'Time Studying (hours)')"
      ]
     },
     "execution_count": 12,
     "metadata": {},
     "output_type": "execute_result"
    },
    {
     "data": {
      "image/png": "[encoded data removed]",
      "text/plain": [
       "<Figure size 864x432 with 1 Axes>"
      ]
     },
     "metadata": {},
     "output_type": "display_data"
    }
   ],
   "source": [
    "# Plot data and a linear regression model fit.\n",
    "\n",
    "fig, ax = plt.subplots(1, 1, figsize=(12,6))\n",
    "ax = sns.regplot(x=\"Studying\", y=\"Grade_percent\", data=df)\n",
    "ax.set_title(title, color='b',fontsize=15)\n",
    "ax.set_ylabel('Grades (%)', color='g', fontsize=20)\n",
    "ax.set_xlabel('Time Studying (hours)', color='g', fontsize=20)\n",
    "# the linear model i y = 3x + 50"
   ]
  },
  {
   "cell_type": "markdown",
   "metadata": {},
   "source": [
    "```\n",
    "Above line through the scatter plot is called LINE of BEST FIT - linear regression model\n",
    "For the above we can use the data to see that the equation of the straight line is \n",
    "Y = 3.5X + 52\n",
    "\n",
    "Residual is just difference between actual y values (actual grades) and the grades predicted by the linear model above. Model is just an approximation - we can never have a perfect model - there will always be error in the predictions and the residual is bit like the error - how far the model is off. \n",
    "\n",
    "```"
   ]
  },
  {
   "cell_type": "code",
   "execution_count": 13,
   "metadata": {},
   "outputs": [
    {
     "data": {
      "text/html": [
       "<div>\n",
       "<style scoped>\n",
       "    .dataframe tbody tr th:only-of-type {\n",
       "        vertical-align: middle;\n",
       "    }\n",
       "\n",
       "    .dataframe tbody tr th {\n",
       "        vertical-align: top;\n",
       "    }\n",
       "\n",
       "    .dataframe thead th {\n",
       "        text-align: right;\n",
       "    }\n",
       "</style>\n",
       "<table border=\"1\" class=\"dataframe\">\n",
       "  <thead>\n",
       "    <tr style=\"text-align: right;\">\n",
       "      <th></th>\n",
       "      <th>Grade_percent</th>\n",
       "      <th>predicted_grade</th>\n",
       "      <th>residual</th>\n",
       "    </tr>\n",
       "  </thead>\n",
       "  <tbody>\n",
       "    <tr>\n",
       "      <th>0</th>\n",
       "      <td>34</td>\n",
       "      <td>52.0</td>\n",
       "      <td>-18.0</td>\n",
       "    </tr>\n",
       "    <tr>\n",
       "      <th>1</th>\n",
       "      <td>35</td>\n",
       "      <td>52.0</td>\n",
       "      <td>-17.0</td>\n",
       "    </tr>\n",
       "    <tr>\n",
       "      <th>2</th>\n",
       "      <td>67</td>\n",
       "      <td>59.0</td>\n",
       "      <td>8.0</td>\n",
       "    </tr>\n",
       "    <tr>\n",
       "      <th>3</th>\n",
       "      <td>82</td>\n",
       "      <td>83.5</td>\n",
       "      <td>-1.5</td>\n",
       "    </tr>\n",
       "    <tr>\n",
       "      <th>4</th>\n",
       "      <td>67</td>\n",
       "      <td>69.5</td>\n",
       "      <td>-2.5</td>\n",
       "    </tr>\n",
       "    <tr>\n",
       "      <th>5</th>\n",
       "      <td>69</td>\n",
       "      <td>59.0</td>\n",
       "      <td>10.0</td>\n",
       "    </tr>\n",
       "    <tr>\n",
       "      <th>6</th>\n",
       "      <td>82</td>\n",
       "      <td>66.0</td>\n",
       "      <td>16.0</td>\n",
       "    </tr>\n",
       "    <tr>\n",
       "      <th>7</th>\n",
       "      <td>64</td>\n",
       "      <td>55.5</td>\n",
       "      <td>8.5</td>\n",
       "    </tr>\n",
       "    <tr>\n",
       "      <th>8</th>\n",
       "      <td>80</td>\n",
       "      <td>73.0</td>\n",
       "      <td>7.0</td>\n",
       "    </tr>\n",
       "    <tr>\n",
       "      <th>9</th>\n",
       "      <td>66</td>\n",
       "      <td>59.0</td>\n",
       "      <td>7.0</td>\n",
       "    </tr>\n",
       "  </tbody>\n",
       "</table>\n",
       "</div>"
      ],
      "text/plain": [
       "   Grade_percent  predicted_grade  residual\n",
       "0             34             52.0     -18.0\n",
       "1             35             52.0     -17.0\n",
       "2             67             59.0       8.0\n",
       "3             82             83.5      -1.5\n",
       "4             67             69.5      -2.5\n",
       "5             69             59.0      10.0\n",
       "6             82             66.0      16.0\n",
       "7             64             55.5       8.5\n",
       "8             80             73.0       7.0\n",
       "9             66             59.0       7.0"
      ]
     },
     "execution_count": 13,
     "metadata": {},
     "output_type": "execute_result"
    }
   ],
   "source": [
    "df['predicted_grade'] = df['Studying']*3.5 + 52\n",
    "df['residual'] = df['Grade_percent'] - df['predicted_grade']\n",
    "df[['Grade_percent','predicted_grade','residual']].head(10)"
   ]
  },
  {
   "cell_type": "code",
   "execution_count": 14,
   "metadata": {},
   "outputs": [
    {
     "data": {
      "text/plain": [
       "Text(0.5, 0, 'Time Studying (hours)')"
      ]
     },
     "execution_count": 14,
     "metadata": {},
     "output_type": "execute_result"
    },
    {
     "data": {
      "image/png": "[encoded data removed]",
      "text/plain": [
       "<Figure size 864x432 with 1 Axes>"
      ]
     },
     "metadata": {},
     "output_type": "display_data"
    }
   ],
   "source": [
    "# seaborn library has function residualplot() that can plot the residual when we fit a liner model to some data. Here we use a linear model to approximate the relationship between hours spent sutdying and grade achived and the resulting error or residual is ploted below\n",
    "\n",
    "# Plot the residuals of a linear regression.\n",
    "fig, ax = plt.subplots(1, 1, figsize=(12,6))\n",
    "ax = sns.residplot(x=\"Studying\", y=\"Grade_percent\", data=df)\n",
    "ax.set_title(\"Residual of linear model fit - Grades and Studying\", color='b',fontsize=15)\n",
    "ax.set_ylabel('Residual', color='g', fontsize=20)\n",
    "ax.set_xlabel('Time Studying (hours)', color='g', fontsize=20)"
   ]
  },
  {
   "cell_type": "code",
   "execution_count": 15,
   "metadata": {},
   "outputs": [
    {
     "data": {
      "text/html": [
       "<div>\n",
       "<style scoped>\n",
       "    .dataframe tbody tr th:only-of-type {\n",
       "        vertical-align: middle;\n",
       "    }\n",
       "\n",
       "    .dataframe tbody tr th {\n",
       "        vertical-align: top;\n",
       "    }\n",
       "\n",
       "    .dataframe thead th {\n",
       "        text-align: right;\n",
       "    }\n",
       "</style>\n",
       "<table border=\"1\" class=\"dataframe\">\n",
       "  <thead>\n",
       "    <tr style=\"text-align: right;\">\n",
       "      <th></th>\n",
       "      <th>Gaming</th>\n",
       "      <th>Exercising</th>\n",
       "      <th>Social media</th>\n",
       "      <th>Leisure</th>\n",
       "      <th>Sleeping</th>\n",
       "      <th>Studying</th>\n",
       "      <th>Grade_percent</th>\n",
       "      <th>predicted_grade</th>\n",
       "      <th>residual</th>\n",
       "    </tr>\n",
       "  </thead>\n",
       "  <tbody>\n",
       "    <tr>\n",
       "      <th>0</th>\n",
       "      <td>40</td>\n",
       "      <td>10</td>\n",
       "      <td>6</td>\n",
       "      <td>56</td>\n",
       "      <td>49</td>\n",
       "      <td>0.0</td>\n",
       "      <td>34</td>\n",
       "      <td>52.0</td>\n",
       "      <td>-18.0</td>\n",
       "    </tr>\n",
       "    <tr>\n",
       "      <th>1</th>\n",
       "      <td>56</td>\n",
       "      <td>3</td>\n",
       "      <td>10</td>\n",
       "      <td>69</td>\n",
       "      <td>56</td>\n",
       "      <td>0.0</td>\n",
       "      <td>35</td>\n",
       "      <td>52.0</td>\n",
       "      <td>-17.0</td>\n",
       "    </tr>\n",
       "    <tr>\n",
       "      <th>2</th>\n",
       "      <td>5</td>\n",
       "      <td>3</td>\n",
       "      <td>18</td>\n",
       "      <td>26</td>\n",
       "      <td>51</td>\n",
       "      <td>2.0</td>\n",
       "      <td>67</td>\n",
       "      <td>59.0</td>\n",
       "      <td>8.0</td>\n",
       "    </tr>\n",
       "    <tr>\n",
       "      <th>3</th>\n",
       "      <td>18</td>\n",
       "      <td>7</td>\n",
       "      <td>30</td>\n",
       "      <td>55</td>\n",
       "      <td>49</td>\n",
       "      <td>9.0</td>\n",
       "      <td>82</td>\n",
       "      <td>83.5</td>\n",
       "      <td>-1.5</td>\n",
       "    </tr>\n",
       "    <tr>\n",
       "      <th>4</th>\n",
       "      <td>10</td>\n",
       "      <td>10</td>\n",
       "      <td>7</td>\n",
       "      <td>27</td>\n",
       "      <td>45</td>\n",
       "      <td>5.0</td>\n",
       "      <td>67</td>\n",
       "      <td>69.5</td>\n",
       "      <td>-2.5</td>\n",
       "    </tr>\n",
       "  </tbody>\n",
       "</table>\n",
       "</div>"
      ],
      "text/plain": [
       "   Gaming  Exercising  Social media  Leisure  Sleeping  Studying  \\\n",
       "0      40          10             6       56        49       0.0   \n",
       "1      56           3            10       69        56       0.0   \n",
       "2       5           3            18       26        51       2.0   \n",
       "3      18           7            30       55        49       9.0   \n",
       "4      10          10             7       27        45       5.0   \n",
       "\n",
       "   Grade_percent  predicted_grade  residual  \n",
       "0             34             52.0     -18.0  \n",
       "1             35             52.0     -17.0  \n",
       "2             67             59.0       8.0  \n",
       "3             82             83.5      -1.5  \n",
       "4             67             69.5      -2.5  "
      ]
     },
     "execution_count": 15,
     "metadata": {},
     "output_type": "execute_result"
    }
   ],
   "source": [
    "df.head()"
   ]
  },
  {
   "cell_type": "markdown",
   "metadata": {},
   "source": [
    "## Linear Regression in Statsmodels\n",
    "Statsmodels is “a Python module that provides classes and functions for the estimation of many different statistical models, as well as for conducting statistical tests, and statistical data exploration."
   ]
  },
  {
   "cell_type": "code",
   "execution_count": 16,
   "metadata": {
    "scrolled": true
   },
   "outputs": [
    {
     "data": {
      "image/png": "[encoded data removed]",
      "text/plain": [
       "<Figure size 864x432 with 1 Axes>"
      ]
     },
     "metadata": {},
     "output_type": "display_data"
    }
   ],
   "source": [
    "# sns.pairplot(df)\n",
    "from sklearn.linear_model import LinearRegression\n",
    "\n",
    "X = df.iloc[:, 5].values.reshape(-1, 1)  # Studying values converts it into a numpy array\n",
    "Y = df.iloc[:, 6].values.reshape(-1, 1)  # Response - Grades \n",
    "# reshape(x,y) (-1,1) means that calculate the dimension of rows, but have 1 column\n",
    "\n",
    "linear_regressor = LinearRegression()   # create object for the class\n",
    "linear_regressor.fit(X, Y)              # perform linear regression\n",
    "Y_pred = linear_regressor.predict(X)    # make predictions\n",
    "\n",
    "fig, ax = plt.subplots(1, 1, figsize=(12,6))\n",
    "\n",
    "plt.scatter(X, Y)     # plot data Grades against studying\n",
    "plt.plot(X, Y_pred, color='red')  # Plot line - linear model \n",
    "\n",
    "ax.set_title(\"Linear Model - line of best fit\", color='b',fontsize=15)\n",
    "ax.set_ylabel('Grades (%)', color='g', fontsize=20)\n",
    "ax.set_xlabel('Time Studying (hours)', color='g', fontsize=20)\n",
    "plt.show()"
   ]
  },
  {
   "cell_type": "code",
   "execution_count": 17,
   "metadata": {
    "scrolled": true
   },
   "outputs": [
    {
     "name": "stderr",
     "output_type": "stream",
     "text": [
      "/home/bou/py37/lib64/python3.7/site-packages/numpy/core/fromnumeric.py:2542: FutureWarning: Method .ptp is deprecated and will be removed in a future version. Use numpy.ptp instead.\n",
      "  return ptp(axis=axis, out=out, **kwargs)\n"
     ]
    },
    {
     "data": {
      "text/html": [
       "<table class=\"simpletable\">\n",
       "<caption>OLS Regression Results</caption>\n",
       "<tr>\n",
       "  <th>Dep. Variable:</th>      <td>Grade_percent</td>  <th>  R-squared:         </th> <td>   0.442</td>\n",
       "</tr>\n",
       "<tr>\n",
       "  <th>Model:</th>                   <td>OLS</td>       <th>  Adj. R-squared:    </th> <td>   0.431</td>\n",
       "</tr>\n",
       "<tr>\n",
       "  <th>Method:</th>             <td>Least Squares</td>  <th>  F-statistic:       </th> <td>   38.06</td>\n",
       "</tr>\n",
       "<tr>\n",
       "  <th>Date:</th>             <td>Fri, 20 Nov 2020</td> <th>  Prob (F-statistic):</th> <td>1.38e-07</td>\n",
       "</tr>\n",
       "<tr>\n",
       "  <th>Time:</th>                 <td>09:46:42</td>     <th>  Log-Likelihood:    </th> <td> -194.25</td>\n",
       "</tr>\n",
       "<tr>\n",
       "  <th>No. Observations:</th>      <td>    50</td>      <th>  AIC:               </th> <td>   392.5</td>\n",
       "</tr>\n",
       "<tr>\n",
       "  <th>Df Residuals:</th>          <td>    48</td>      <th>  BIC:               </th> <td>   396.3</td>\n",
       "</tr>\n",
       "<tr>\n",
       "  <th>Df Model:</th>              <td>     1</td>      <th>                     </th>     <td> </td>   \n",
       "</tr>\n",
       "<tr>\n",
       "  <th>Covariance Type:</th>      <td>nonrobust</td>    <th>                     </th>     <td> </td>   \n",
       "</tr>\n",
       "</table>\n",
       "<table class=\"simpletable\">\n",
       "<tr>\n",
       "      <td></td>        <th>coef</th>     <th>std err</th>      <th>t</th>      <th>P>|t|</th>  <th>[0.025</th>    <th>0.975]</th>  \n",
       "</tr>\n",
       "<tr>\n",
       "  <th>const</th>    <td>   52.4920</td> <td>    2.734</td> <td>   19.202</td> <td> 0.000</td> <td>   46.996</td> <td>   57.988</td>\n",
       "</tr>\n",
       "<tr>\n",
       "  <th>Studying</th> <td>    3.5221</td> <td>    0.571</td> <td>    6.169</td> <td> 0.000</td> <td>    2.374</td> <td>    4.670</td>\n",
       "</tr>\n",
       "</table>\n",
       "<table class=\"simpletable\">\n",
       "<tr>\n",
       "  <th>Omnibus:</th>       <td> 0.911</td> <th>  Durbin-Watson:     </th> <td>   1.650</td>\n",
       "</tr>\n",
       "<tr>\n",
       "  <th>Prob(Omnibus):</th> <td> 0.634</td> <th>  Jarque-Bera (JB):  </th> <td>   0.986</td>\n",
       "</tr>\n",
       "<tr>\n",
       "  <th>Skew:</th>          <td>-0.248</td> <th>  Prob(JB):          </th> <td>   0.611</td>\n",
       "</tr>\n",
       "<tr>\n",
       "  <th>Kurtosis:</th>      <td> 2.524</td> <th>  Cond. No.          </th> <td>    7.91</td>\n",
       "</tr>\n",
       "</table><br/><br/>Warnings:<br/>[1] Standard Errors assume that the covariance matrix of the errors is correctly specified."
      ],
      "text/plain": [
       "<class 'statsmodels.iolib.summary.Summary'>\n",
       "\"\"\"\n",
       "                            OLS Regression Results                            \n",
       "==============================================================================\n",
       "Dep. Variable:          Grade_percent   R-squared:                       0.442\n",
       "Model:                            OLS   Adj. R-squared:                  0.431\n",
       "Method:                 Least Squares   F-statistic:                     38.06\n",
       "Date:                Fri, 20 Nov 2020   Prob (F-statistic):           1.38e-07\n",
       "Time:                        09:46:42   Log-Likelihood:                -194.25\n",
       "No. Observations:                  50   AIC:                             392.5\n",
       "Df Residuals:                      48   BIC:                             396.3\n",
       "Df Model:                           1                                         \n",
       "Covariance Type:            nonrobust                                         \n",
       "==============================================================================\n",
       "                 coef    std err          t      P>|t|      [0.025      0.975]\n",
       "------------------------------------------------------------------------------\n",
       "const         52.4920      2.734     19.202      0.000      46.996      57.988\n",
       "Studying       3.5221      0.571      6.169      0.000       2.374       4.670\n",
       "==============================================================================\n",
       "Omnibus:                        0.911   Durbin-Watson:                   1.650\n",
       "Prob(Omnibus):                  0.634   Jarque-Bera (JB):                0.986\n",
       "Skew:                          -0.248   Prob(JB):                        0.611\n",
       "Kurtosis:                       2.524   Cond. No.                         7.91\n",
       "==============================================================================\n",
       "\n",
       "Warnings:\n",
       "[1] Standard Errors assume that the covariance matrix of the errors is correctly specified.\n",
       "\"\"\""
      ]
     },
     "execution_count": 17,
     "metadata": {},
     "output_type": "execute_result"
    }
   ],
   "source": [
    "import statsmodels.api as sm\n",
    "\n",
    "X=df['Studying']      ## X usually means our input variables (or independent variables)\n",
    "y=df['Grade_percent'] ## Y usually means our output/dependent variable\n",
    "X = sm.add_constant(X) ## let's add a Y intercept (beta_0) to our model\n",
    "\n",
    "# Note the difference in argument order\n",
    "model = sm.OLS(y, X).fit() ## sm.OLS(output, input)\n",
    "predictions = model.predict(X)  # make the predictions by the model\n",
    "\n",
    "# Print out the statistics\n",
    "model.summary()"
   ]
  },
  {
   "cell_type": "markdown",
   "metadata": {},
   "source": [
    "## Ordinary Least Squares\n",
    "OLS stands for Ordinary Least Squares and the method “Least Squares” means that we’re trying to fit a regression line that would minimize the square of distance from the regression line. \n",
    "\n",
    "\n",
    "```\n",
    "Y`i = mX + b\n",
    "```\n",
    "\n",
    "```\n",
    "Y`i = 3.5221X + 52.492\n",
    "```\n",
    "\n",
    "-  **slope/gradient of the Studying predictor 3.5221** . The coefficient of 3.5221 means that as the Studying variable (num of hours spent studying) increases by 1, the predicted value of Grades increases by 3.5221%. \n",
    "\n",
    "- **y-intercept at 52.492**   (when we study for 0 hours, we still get grade of 52%!!!)\n",
    "\n",
    "- **R-squared 0.442**  - the percentage of variance our model explains; meaning that this model explains 44.2% of the variance in our dependent variable\n",
    "\n",
    "- **the standard error SE=0.571** (is the standard deviation of the sampling distribution of a statistic, most commonly of the mean); \n",
    "\n",
    "the t scores and p-values, for hypothesis test — the Studying has statistically significant p-value; there is a 95% confidence intervals for the Studying regression coefficinet (2.374 to\t4.670) \n",
    "(meaning we predict at a 95% percent confidence that the value of Studying is between 2.374 to\t4.670).\n",
    "\n",
    "Df of residuals and models relates to the degrees of freedom — “the number of values in the final calculation of a statistic that are free to vary.”"
   ]
  },
  {
   "cell_type": "markdown",
   "metadata": {},
   "source": [
    "## Linear Regression in sklearn"
   ]
  },
  {
   "cell_type": "code",
   "execution_count": 18,
   "metadata": {},
   "outputs": [
    {
     "data": {
      "text/html": [
       "<div>\n",
       "<style scoped>\n",
       "    .dataframe tbody tr th:only-of-type {\n",
       "        vertical-align: middle;\n",
       "    }\n",
       "\n",
       "    .dataframe tbody tr th {\n",
       "        vertical-align: top;\n",
       "    }\n",
       "\n",
       "    .dataframe thead th {\n",
       "        text-align: right;\n",
       "    }\n",
       "</style>\n",
       "<table border=\"1\" class=\"dataframe\">\n",
       "  <thead>\n",
       "    <tr style=\"text-align: right;\">\n",
       "      <th></th>\n",
       "      <th>Gaming</th>\n",
       "      <th>Exercising</th>\n",
       "      <th>Social media</th>\n",
       "      <th>Leisure</th>\n",
       "      <th>Sleeping</th>\n",
       "      <th>Studying</th>\n",
       "      <th>Grade_percent</th>\n",
       "      <th>predicted_grade</th>\n",
       "      <th>residual</th>\n",
       "    </tr>\n",
       "  </thead>\n",
       "  <tbody>\n",
       "    <tr>\n",
       "      <th>0</th>\n",
       "      <td>40</td>\n",
       "      <td>10</td>\n",
       "      <td>6</td>\n",
       "      <td>56</td>\n",
       "      <td>49</td>\n",
       "      <td>0.0</td>\n",
       "      <td>34</td>\n",
       "      <td>52.0</td>\n",
       "      <td>-18.0</td>\n",
       "    </tr>\n",
       "    <tr>\n",
       "      <th>1</th>\n",
       "      <td>56</td>\n",
       "      <td>3</td>\n",
       "      <td>10</td>\n",
       "      <td>69</td>\n",
       "      <td>56</td>\n",
       "      <td>0.0</td>\n",
       "      <td>35</td>\n",
       "      <td>52.0</td>\n",
       "      <td>-17.0</td>\n",
       "    </tr>\n",
       "    <tr>\n",
       "      <th>2</th>\n",
       "      <td>5</td>\n",
       "      <td>3</td>\n",
       "      <td>18</td>\n",
       "      <td>26</td>\n",
       "      <td>51</td>\n",
       "      <td>2.0</td>\n",
       "      <td>67</td>\n",
       "      <td>59.0</td>\n",
       "      <td>8.0</td>\n",
       "    </tr>\n",
       "    <tr>\n",
       "      <th>3</th>\n",
       "      <td>18</td>\n",
       "      <td>7</td>\n",
       "      <td>30</td>\n",
       "      <td>55</td>\n",
       "      <td>49</td>\n",
       "      <td>9.0</td>\n",
       "      <td>82</td>\n",
       "      <td>83.5</td>\n",
       "      <td>-1.5</td>\n",
       "    </tr>\n",
       "    <tr>\n",
       "      <th>4</th>\n",
       "      <td>10</td>\n",
       "      <td>10</td>\n",
       "      <td>7</td>\n",
       "      <td>27</td>\n",
       "      <td>45</td>\n",
       "      <td>5.0</td>\n",
       "      <td>67</td>\n",
       "      <td>69.5</td>\n",
       "      <td>-2.5</td>\n",
       "    </tr>\n",
       "  </tbody>\n",
       "</table>\n",
       "</div>"
      ],
      "text/plain": [
       "   Gaming  Exercising  Social media  Leisure  Sleeping  Studying  \\\n",
       "0      40          10             6       56        49       0.0   \n",
       "1      56           3            10       69        56       0.0   \n",
       "2       5           3            18       26        51       2.0   \n",
       "3      18           7            30       55        49       9.0   \n",
       "4      10          10             7       27        45       5.0   \n",
       "\n",
       "   Grade_percent  predicted_grade  residual  \n",
       "0             34             52.0     -18.0  \n",
       "1             35             52.0     -17.0  \n",
       "2             67             59.0       8.0  \n",
       "3             82             83.5      -1.5  \n",
       "4             67             69.5      -2.5  "
      ]
     },
     "execution_count": 18,
     "metadata": {},
     "output_type": "execute_result"
    }
   ],
   "source": [
    "df.head()  # 1st 5 rows in data"
   ]
  },
  {
   "cell_type": "code",
   "execution_count": 19,
   "metadata": {
    "scrolled": true
   },
   "outputs": [
    {
     "data": {
      "text/plain": [
       "[(52.5, 34),\n",
       " (52.5, 35),\n",
       " (59.5, 67),\n",
       " (84.2, 82),\n",
       " (70.1, 67),\n",
       " (59.5, 69),\n",
       " (66.6, 82),\n",
       " (56.0, 64),\n",
       " (73.6, 80),\n",
       " (59.5, 66)]"
      ]
     },
     "execution_count": 19,
     "metadata": {},
     "output_type": "execute_result"
    }
   ],
   "source": [
    "from sklearn import linear_model\n",
    "'''\n",
    "So now, as before, we have the data frame that contains the independent variables \n",
    " (marked as “df”) and the data frame with the dependent variable (marked as “target”).\n",
    " Let’s fit a regression model using SKLearn. First we’ll define our X and y — \n",
    " this time I’ll use all the variables in the data frame to predict the housing price:\n",
    " '''\n",
    "X = df[['Studying']]  # X is features/variables (independent variables)\n",
    "\n",
    "y = df['Grade_percent']  # y is respone (dependent variable)\n",
    "\n",
    "# fit a model:\n",
    "lm = linear_model.LinearRegression()\n",
    "\n",
    "# The lm.fit() function fits a linear model. \n",
    "model = lm.fit(X,y)\n",
    "\n",
    "# We want to use the model to make predictions - use lm.predict():\n",
    "predictions = np.round(lm.predict(X),1)\n",
    "\n",
    "# compare grades predicted by our linear model  and actual grades in our original data\n",
    "list(zip(predictions,y))[:10]\n"
   ]
  },
  {
   "cell_type": "code",
   "execution_count": 20,
   "metadata": {},
   "outputs": [
    {
     "data": {
      "text/plain": [
       "0.44223370231860093"
      ]
     },
     "execution_count": 20,
     "metadata": {},
     "output_type": "execute_result"
    }
   ],
   "source": [
    "# R² score of our model - this the percentage of explained variance of the predictions\n",
    "lm.score(X,y)"
   ]
  },
  {
   "cell_type": "code",
   "execution_count": 21,
   "metadata": {},
   "outputs": [
    {
     "data": {
      "text/plain": [
       "52.49196050775741"
      ]
     },
     "execution_count": 21,
     "metadata": {},
     "output_type": "execute_result"
    }
   ],
   "source": [
    "# Y intercept   52.5\n",
    "lm.intercept_"
   ]
  },
  {
   "cell_type": "code",
   "execution_count": 22,
   "metadata": {},
   "outputs": [
    {
     "data": {
      "text/plain": [
       "3.522143864598024"
      ]
     },
     "execution_count": 22,
     "metadata": {},
     "output_type": "execute_result"
    }
   ],
   "source": [
    "# linear model coeficient   3.5\n",
    "lm.coef_[0]"
   ]
  },
  {
   "cell_type": "code",
   "execution_count": 23,
   "metadata": {},
   "outputs": [
    {
     "data": {
      "text/plain": [
       "Index(['Gaming', 'Exercising', 'Social media', 'Leisure', 'Sleeping',\n",
       "       'Studying', 'Grade_percent', 'predicted_grade', 'residual'],\n",
       "      dtype='object')"
      ]
     },
     "execution_count": 23,
     "metadata": {},
     "output_type": "execute_result"
    }
   ],
   "source": [
    "df.columns"
   ]
  },
  {
   "cell_type": "code",
   "execution_count": 24,
   "metadata": {
    "scrolled": false
   },
   "outputs": [
    {
     "data": {
      "text/html": [
       "<style  type=\"text/css\" >\n",
       "    #T_798ed094_2ac1_11eb_b312_a01d48b27e70row0_col0 {\n",
       "            color:  blue;\n",
       "        }    #T_798ed094_2ac1_11eb_b312_a01d48b27e70row1_col0 {\n",
       "            color:  blue;\n",
       "        }    #T_798ed094_2ac1_11eb_b312_a01d48b27e70row2_col0 {\n",
       "            color:  red;\n",
       "        }    #T_798ed094_2ac1_11eb_b312_a01d48b27e70row3_col0 {\n",
       "            color:  red;\n",
       "        }    #T_798ed094_2ac1_11eb_b312_a01d48b27e70row4_col0 {\n",
       "            color:  red;\n",
       "        }    #T_798ed094_2ac1_11eb_b312_a01d48b27e70row5_col0 {\n",
       "            color:  purple;\n",
       "        }    #T_798ed094_2ac1_11eb_b312_a01d48b27e70row6_col0 {\n",
       "            color:  purple;\n",
       "        }</style><table id=\"T_798ed094_2ac1_11eb_b312_a01d48b27e70\" ><thead>    <tr>        <th class=\"blank level0\" ></th>        <th class=\"col_heading level0 col0\" >Grade_percent</th>    </tr></thead><tbody>\n",
       "                <tr>\n",
       "                        <th id=\"T_798ed094_2ac1_11eb_b312_a01d48b27e70level0_row0\" class=\"row_heading level0 row0\" >Gaming</th>\n",
       "                        <td id=\"T_798ed094_2ac1_11eb_b312_a01d48b27e70row0_col0\" class=\"data row0 col0\" >-0.21</td>\n",
       "            </tr>\n",
       "            <tr>\n",
       "                        <th id=\"T_798ed094_2ac1_11eb_b312_a01d48b27e70level0_row1\" class=\"row_heading level0 row1\" >Exercising</th>\n",
       "                        <td id=\"T_798ed094_2ac1_11eb_b312_a01d48b27e70row1_col0\" class=\"data row1 col0\" >-0.16</td>\n",
       "            </tr>\n",
       "            <tr>\n",
       "                        <th id=\"T_798ed094_2ac1_11eb_b312_a01d48b27e70level0_row2\" class=\"row_heading level0 row2\" >Social media</th>\n",
       "                        <td id=\"T_798ed094_2ac1_11eb_b312_a01d48b27e70row2_col0\" class=\"data row2 col0\" >0.2</td>\n",
       "            </tr>\n",
       "            <tr>\n",
       "                        <th id=\"T_798ed094_2ac1_11eb_b312_a01d48b27e70level0_row3\" class=\"row_heading level0 row3\" >Leisure</th>\n",
       "                        <td id=\"T_798ed094_2ac1_11eb_b312_a01d48b27e70row3_col0\" class=\"data row3 col0\" >0.01</td>\n",
       "            </tr>\n",
       "            <tr>\n",
       "                        <th id=\"T_798ed094_2ac1_11eb_b312_a01d48b27e70level0_row4\" class=\"row_heading level0 row4\" >Sleeping</th>\n",
       "                        <td id=\"T_798ed094_2ac1_11eb_b312_a01d48b27e70row4_col0\" class=\"data row4 col0\" >0.15</td>\n",
       "            </tr>\n",
       "            <tr>\n",
       "                        <th id=\"T_798ed094_2ac1_11eb_b312_a01d48b27e70level0_row5\" class=\"row_heading level0 row5\" >Studying</th>\n",
       "                        <td id=\"T_798ed094_2ac1_11eb_b312_a01d48b27e70row5_col0\" class=\"data row5 col0\" >0.67</td>\n",
       "            </tr>\n",
       "            <tr>\n",
       "                        <th id=\"T_798ed094_2ac1_11eb_b312_a01d48b27e70level0_row6\" class=\"row_heading level0 row6\" >Grade_percent</th>\n",
       "                        <td id=\"T_798ed094_2ac1_11eb_b312_a01d48b27e70row6_col0\" class=\"data row6 col0\" >1</td>\n",
       "            </tr>\n",
       "    </tbody></table>"
      ],
      "text/plain": [
       "<pandas.io.formats.style.Styler at 0x7f6e98aaae90>"
      ]
     },
     "execution_count": 24,
     "metadata": {},
     "output_type": "execute_result"
    }
   ],
   "source": [
    "round(relationship[['Grade_percent']],2).style.applymap(color_corr)"
   ]
  },
  {
   "cell_type": "markdown",
   "metadata": {},
   "source": [
    "## Finding equation of best fit line manually\n",
    "\n",
    "see https://realpython.com/numpy-scipy-pandas-correlation-python/\n",
    "To find the slope or gradient of line we need\n",
    "1. Find r - Pearson correlation coefficient for x and y\n",
    "2. Sample standard deviation and means of x and y\n",
    "3. gradient of line of best fit is  **slope = r * (std_y/std_x)**\n",
    "4. y intercept is **intercept = mean_y  - (b * mean_x)**"
   ]
  },
  {
   "cell_type": "code",
   "execution_count": 25,
   "metadata": {},
   "outputs": [
    {
     "data": {
      "text/plain": [
       "0.6650065430645031"
      ]
     },
     "execution_count": 25,
     "metadata": {},
     "output_type": "execute_result"
    }
   ],
   "source": [
    "x=df['Studying']       # independent or explanatory variable\n",
    "y=df['Grade_percent']  # dependent or response variable\n",
    "\n",
    "# using pandas methods corr()\n",
    "r = df['Grade_percent'].corr(df['Studying'], method='pearson')\n",
    "\n",
    "# using numpy function corrcoef()\n",
    "r = np.corrcoef(x, y)[0,1]  # gives a 2x2 matrix - we just pick one of diagonal entry\n",
    "r"
   ]
  },
  {
   "cell_type": "code",
   "execution_count": 26,
   "metadata": {},
   "outputs": [
    {
     "name": "stdout",
     "output_type": "stream",
     "text": [
      "Sample Mean of explanatory variable Studying 3.75\n",
      "Sample Mean of response variable Grade       65.7\n",
      "Standard Deviation of explanatory variable Studying  2.9769951293208394\n",
      "Standard Deviation of explanatory variable Grades   15.767371372552878\n"
     ]
    }
   ],
   "source": [
    "'''\n",
    "In NumPy, we can compute the mean, standard deviation, and variance of a given array \n",
    "along the second axis by two approaches first is by using inbuilt functions \n",
    "\n",
    "Method 1: Using numpy.mean(), numpy.std(), numpy.var()\n",
    "'''\n",
    "mean_x = np.mean(x)\n",
    "std_x = np.sqrt( np.mean((x - np.mean(x)) ** 2) )  # or simply np.std(x) \n",
    "\n",
    "\n",
    "mean_y = np.mean(y)\n",
    "std_y = np.sqrt( np.mean((y - np.mean(y)) ** 2) )  # np.std(y)\n",
    "\n",
    "print(f'Sample Mean of explanatory variable Studying {mean_x}\\n\\\n",
    "Sample Mean of response variable Grade       {mean_y}\\n\\\n",
    "Standard Deviation of explanatory variable Studying  {std_x}\\n\\\n",
    "Standard Deviation of explanatory variable Grades   {std_y}')"
   ]
  },
  {
   "cell_type": "code",
   "execution_count": 28,
   "metadata": {},
   "outputs": [
    {
     "name": "stdout",
     "output_type": "stream",
     "text": [
      "Equation of best fit line (regression) is \n",
      "\n",
      "y = 52.49 + 3.52x\n"
     ]
    }
   ],
   "source": [
    "# the slope or gradient \n",
    "slope = r * (std_y/std_x)\n",
    "\n",
    "# the y intercept\n",
    "intercept = mean_y  - (slope * mean_x)\n",
    "\n",
    "print(f'Equation of best fit line (regression) is \\n\\n\\\n",
    "y = {intercept:0.2f} + {slope:0.2f}x')\n"
   ]
  },
  {
   "cell_type": "code",
   "execution_count": 29,
   "metadata": {},
   "outputs": [
    {
     "data": {
      "text/plain": [
       "'Regression line: y = 52.49 + 3.52x, r = 0.67'"
      ]
     },
     "execution_count": 29,
     "metadata": {},
     "output_type": "execute_result"
    }
   ],
   "source": [
    "# check with scipy\n",
    "# get the slope and the intercept of the regression line, as well as the correlation coefficient, with linregress()\n",
    "import scipy\n",
    "slope, intercept, r, p, stderr = scipy.stats.linregress(x, y)\n",
    "\n",
    "line = f'Regression line: y = {intercept:.2f} + {slope:.2f}x, r = {r:.2f}'\n",
    "line"
   ]
  },
  {
   "cell_type": "code",
   "execution_count": 30,
   "metadata": {},
   "outputs": [
    {
     "data": {
      "image/png": "[encoded data removed]",
      "text/plain": [
       "<Figure size 576x396 with 1 Axes>"
      ]
     },
     "metadata": {},
     "output_type": "display_data"
    }
   ],
   "source": [
    "fig, ax = plt.subplots()\n",
    "ax.plot(x, y, linewidth=0, marker='s', label='Data points')\n",
    "ax.plot(x, intercept + slope * x, label=line)\n",
    "\n",
    "ax.set_title(\"Linear Model - line of best fit\", color='b',fontsize=15)\n",
    "ax.set_ylabel('Grades (%)', color='g', fontsize=20)\n",
    "ax.set_xlabel('Time Studying (hours)', color='g', fontsize=20)\n",
    "ax.legend(facecolor='white')\n",
    "plt.show()"
   ]
  },
  {
   "cell_type": "code",
   "execution_count": 31,
   "metadata": {
    "scrolled": true
   },
   "outputs": [
    {
     "name": "stdout",
     "output_type": "stream",
     "text": [
      "(50, 3)\n"
     ]
    },
    {
     "data": {
      "text/plain": [
       "array([[34., 40.,  0.],\n",
       "       [35., 56.,  0.]])"
      ]
     },
     "execution_count": 31,
     "metadata": {},
     "output_type": "execute_result"
    }
   ],
   "source": [
    "df.columns\n",
    "dat = df[['Grade_percent','Gaming', 'Studying']].values\n",
    "print(dat.shape)\n",
    "dat[:2]    # see first 2 rows of matrix"
   ]
  },
  {
   "cell_type": "code",
   "execution_count": 32,
   "metadata": {},
   "outputs": [
    {
     "data": {
      "text/plain": [
       "array([[34., 40.,  0., 35., 56.,  0., 67.,  5.,  2., 82., 18.,  9., 67.,\n",
       "        10.,  5., 69., 18.,  2., 82., 27.,  4., 64.,  6.,  1., 80.,  0.,\n",
       "         6., 66., 15.,  2., 63.,  0.,  4., 67., 15.,  2., 48.,  8.,  3.,\n",
       "        70.,  0., 12., 57.,  2.,  0., 52.,  2.,  0., 47., 14.],\n",
       "       [ 0., 85.,  0., 10., 75.,  1.,  2., 78.,  0.,  6., 75., 50.,  5.,\n",
       "        59., 10.,  1., 47.,  4.,  0., 73.,  2.,  7., 58.,  0.,  2., 62.,\n",
       "         3.,  3., 48., 11.,  2., 78., 16.,  4., 31., 29.,  0., 73., 10.,\n",
       "         6., 75., 10.,  6., 52.,  5.,  7., 45.,  5.,  2., 75.]])"
      ]
     },
     "execution_count": 32,
     "metadata": {},
     "output_type": "execute_result"
    }
   ],
   "source": [
    "# https://www.w3resource.com/numpy/manipulation/reshape.php\n",
    "dat = np.reshape(dat, [3,50])\n",
    "dat[:2]            "
   ]
  },
  {
   "cell_type": "code",
   "execution_count": 33,
   "metadata": {},
   "outputs": [
    {
     "data": {
      "text/plain": [
       "array([[ 1.  , -0.34, -0.5 ],\n",
       "       [-0.34,  1.  , -0.42],\n",
       "       [-0.5 , -0.42,  1.  ]])"
      ]
     },
     "execution_count": 33,
     "metadata": {},
     "output_type": "execute_result"
    }
   ],
   "source": [
    "# correlation does not look right !!\n",
    "corr_matrix = np.corrcoef(dat).round(decimals=2)\n",
    "corr_matrix"
   ]
  },
  {
   "cell_type": "code",
   "execution_count": 34,
   "metadata": {},
   "outputs": [
    {
     "data": {
      "image/png": "[encoded data removed]",
      "text/plain": [
       "<Figure size 576x396 with 2 Axes>"
      ]
     },
     "metadata": {},
     "output_type": "display_data"
    }
   ],
   "source": [
    "fig, ax = plt.subplots()\n",
    "im = ax.imshow(corr_matrix)\n",
    "im.set_clim(-1, 1)\n",
    "ax.grid(False)\n",
    "ax.xaxis.set(ticks=(0, 1, 2), ticklabels=('x', 'y', 'z'))\n",
    "ax.yaxis.set(ticks=(0, 1, 2), ticklabels=('x', 'y', 'z'))\n",
    "ax.set_ylim(2.5, -0.5)\n",
    "for i in range(3):\n",
    "    for j in range(3):\n",
    "        ax.text(j, i, corr_matrix[i, j], ha='center', va='center',\n",
    "                color='r')\n",
    "cbar = ax.figure.colorbar(im, ax=ax, format='% .2f')\n",
    "plt.show()"
   ]
  },
  {
   "cell_type": "code",
   "execution_count": 35,
   "metadata": {},
   "outputs": [
    {
     "name": "stderr",
     "output_type": "stream",
     "text": [
      "/home/bou/py37/lib64/python3.7/site-packages/numpy/core/fromnumeric.py:2542: FutureWarning: Method .ptp is deprecated and will be removed in a future version. Use numpy.ptp instead.\n",
      "  return ptp(axis=axis, out=out, **kwargs)\n"
     ]
    },
    {
     "data": {
      "text/html": [
       "<table class=\"simpletable\">\n",
       "<caption>OLS Regression Results</caption>\n",
       "<tr>\n",
       "  <th>Dep. Variable:</th>      <td>Grade_percent</td>  <th>  R-squared:         </th> <td>   0.466</td>\n",
       "</tr>\n",
       "<tr>\n",
       "  <th>Model:</th>                   <td>OLS</td>       <th>  Adj. R-squared:    </th> <td>   0.432</td>\n",
       "</tr>\n",
       "<tr>\n",
       "  <th>Method:</th>             <td>Least Squares</td>  <th>  F-statistic:       </th> <td>   13.40</td>\n",
       "</tr>\n",
       "<tr>\n",
       "  <th>Date:</th>             <td>Fri, 20 Nov 2020</td> <th>  Prob (F-statistic):</th> <td>2.05e-06</td>\n",
       "</tr>\n",
       "<tr>\n",
       "  <th>Time:</th>                 <td>09:47:06</td>     <th>  Log-Likelihood:    </th> <td> -193.14</td>\n",
       "</tr>\n",
       "<tr>\n",
       "  <th>No. Observations:</th>      <td>    50</td>      <th>  AIC:               </th> <td>   394.3</td>\n",
       "</tr>\n",
       "<tr>\n",
       "  <th>Df Residuals:</th>          <td>    46</td>      <th>  BIC:               </th> <td>   401.9</td>\n",
       "</tr>\n",
       "<tr>\n",
       "  <th>Df Model:</th>              <td>     3</td>      <th>                     </th>     <td> </td>   \n",
       "</tr>\n",
       "<tr>\n",
       "  <th>Covariance Type:</th>      <td>nonrobust</td>    <th>                     </th>     <td> </td>   \n",
       "</tr>\n",
       "</table>\n",
       "<table class=\"simpletable\">\n",
       "<tr>\n",
       "        <td></td>          <th>coef</th>     <th>std err</th>      <th>t</th>      <th>P>|t|</th>  <th>[0.025</th>    <th>0.975]</th>  \n",
       "</tr>\n",
       "<tr>\n",
       "  <th>const</th>        <td>   51.6088</td> <td>    4.038</td> <td>   12.781</td> <td> 0.000</td> <td>   43.481</td> <td>   59.737</td>\n",
       "</tr>\n",
       "<tr>\n",
       "  <th>Gaming</th>       <td>   -0.0868</td> <td>    0.139</td> <td>   -0.627</td> <td> 0.534</td> <td>   -0.366</td> <td>    0.192</td>\n",
       "</tr>\n",
       "<tr>\n",
       "  <th>Social media</th> <td>    0.1111</td> <td>    0.099</td> <td>    1.121</td> <td> 0.268</td> <td>   -0.088</td> <td>    0.311</td>\n",
       "</tr>\n",
       "<tr>\n",
       "  <th>Studying</th>     <td>    3.3963</td> <td>    0.580</td> <td>    5.856</td> <td> 0.000</td> <td>    2.229</td> <td>    4.564</td>\n",
       "</tr>\n",
       "</table>\n",
       "<table class=\"simpletable\">\n",
       "<tr>\n",
       "  <th>Omnibus:</th>       <td> 0.325</td> <th>  Durbin-Watson:     </th> <td>   1.567</td>\n",
       "</tr>\n",
       "<tr>\n",
       "  <th>Prob(Omnibus):</th> <td> 0.850</td> <th>  Jarque-Bera (JB):  </th> <td>   0.434</td>\n",
       "</tr>\n",
       "<tr>\n",
       "  <th>Skew:</th>          <td>-0.173</td> <th>  Prob(JB):          </th> <td>   0.805</td>\n",
       "</tr>\n",
       "<tr>\n",
       "  <th>Kurtosis:</th>      <td> 2.703</td> <th>  Cond. No.          </th> <td>    68.4</td>\n",
       "</tr>\n",
       "</table><br/><br/>Warnings:<br/>[1] Standard Errors assume that the covariance matrix of the errors is correctly specified."
      ],
      "text/plain": [
       "<class 'statsmodels.iolib.summary.Summary'>\n",
       "\"\"\"\n",
       "                            OLS Regression Results                            \n",
       "==============================================================================\n",
       "Dep. Variable:          Grade_percent   R-squared:                       0.466\n",
       "Model:                            OLS   Adj. R-squared:                  0.432\n",
       "Method:                 Least Squares   F-statistic:                     13.40\n",
       "Date:                Fri, 20 Nov 2020   Prob (F-statistic):           2.05e-06\n",
       "Time:                        09:47:06   Log-Likelihood:                -193.14\n",
       "No. Observations:                  50   AIC:                             394.3\n",
       "Df Residuals:                      46   BIC:                             401.9\n",
       "Df Model:                           3                                         \n",
       "Covariance Type:            nonrobust                                         \n",
       "================================================================================\n",
       "                   coef    std err          t      P>|t|      [0.025      0.975]\n",
       "--------------------------------------------------------------------------------\n",
       "const           51.6088      4.038     12.781      0.000      43.481      59.737\n",
       "Gaming          -0.0868      0.139     -0.627      0.534      -0.366       0.192\n",
       "Social media     0.1111      0.099      1.121      0.268      -0.088       0.311\n",
       "Studying         3.3963      0.580      5.856      0.000       2.229       4.564\n",
       "==============================================================================\n",
       "Omnibus:                        0.325   Durbin-Watson:                   1.567\n",
       "Prob(Omnibus):                  0.850   Jarque-Bera (JB):                0.434\n",
       "Skew:                          -0.173   Prob(JB):                        0.805\n",
       "Kurtosis:                       2.703   Cond. No.                         68.4\n",
       "==============================================================================\n",
       "\n",
       "Warnings:\n",
       "[1] Standard Errors assume that the covariance matrix of the errors is correctly specified.\n",
       "\"\"\""
      ]
     },
     "execution_count": 35,
     "metadata": {},
     "output_type": "execute_result"
    }
   ],
   "source": [
    "'''\n",
    "Lets use more than important features - ones with greater correlation \n",
    "\n",
    "we drop Sleeping, Exercise and Leisure as correlation less than or equal to 16%\n",
    "'''\n",
    "\n",
    "X=df[['Gaming', 'Social media', 'Studying']]\n",
    "## X is our input variables (or independent variables)\n",
    "\n",
    "y=df['Grade_percent'] ## Y usually means our output/dependent variable\n",
    "X = sm.add_constant(X) ## add a Y intercept (beta_0) to our model\n",
    "\n",
    "# Note the difference in argument order\n",
    "model = sm.OLS(y, X).fit() ## sm.OLS(output, input)\n",
    "predictions = model.predict(X)  # make the predictions by the model\n",
    "\n",
    "# Print out the statistics\n",
    "model.summary()"
   ]
  }
 ],
 "metadata": {
  "kernelspec": {
   "display_name": "Python 3.7.7 64-bit",
   "language": "python",
   "name": "python37764bitd5fcc5d9fa0241c896ab2aafdb714322"
  },
  "language_info": {
   "codemirror_mode": {
    "name": "ipython",
    "version": 3
   },
   "file_extension": ".py",
   "mimetype": "text/x-python",
   "name": "python",
   "nbconvert_exporter": "python",
   "pygments_lexer": "ipython3",
   "version": "3.7.9"
  }
 },
 "nbformat": 4,
 "nbformat_minor": 2
}
