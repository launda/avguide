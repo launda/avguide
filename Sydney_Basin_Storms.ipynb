{
 "cells": [
  {
   "cell_type": "markdown",
   "metadata": {},
   "source": [
    "## Sydney Basin Thunderstorm Climatology based on GPATS data"
   ]
  },
  {
   "cell_type": "code",
   "execution_count": 1,
   "metadata": {},
   "outputs": [],
   "source": [
    "import pandas as pd\n",
    "import numpy as np\n",
    "import seaborn as sns\n",
    "import matplotlib.pyplot as plt\n",
    "import os\n",
    "\n",
    "get_ipython().run_line_magic('matplotlib', 'inline')\n",
    "# %matplotlib notebook for interactivity\n",
    "import utility_functions_sep2018 as bous\n",
    "\n",
    "'''\n",
    "Just change station id variable to generate plots for other airports\n",
    "'''\n",
    "\n",
    "cur_dir='/home/bou/shared/stats-R/flask_projects/avguide/app/data'\n",
    "cur_dir='/home/accounts/qdisplay/avguide/app/data'"
   ]
  },
  {
   "cell_type": "code",
   "execution_count": 2,
   "metadata": {},
   "outputs": [
    {
     "name": "stdout",
     "output_type": "stream",
     "text": [
      "<class 'pandas.core.frame.DataFrame'>\n",
      "DatetimeIndex: 41119 entries, 2008-02-26 06:13:58.524000 to 2020-09-21 11:28:29.815000\n",
      "Data columns (total 3 columns):\n",
      "LATITUDE     41119 non-null float64\n",
      "LONGITUDE    41119 non-null float64\n",
      "AMP          41119 non-null float64\n",
      "dtypes: float64(3)\n",
      "memory usage: 1.3 MB\n",
      "None\n"
     ]
    },
    {
     "data": {
      "text/html": [
       "<div>\n",
       "<style scoped>\n",
       "    .dataframe tbody tr th:only-of-type {\n",
       "        vertical-align: middle;\n",
       "    }\n",
       "\n",
       "    .dataframe tbody tr th {\n",
       "        vertical-align: top;\n",
       "    }\n",
       "\n",
       "    .dataframe thead th {\n",
       "        text-align: right;\n",
       "    }\n",
       "</style>\n",
       "<table border=\"1\" class=\"dataframe\">\n",
       "  <thead>\n",
       "    <tr style=\"text-align: right;\">\n",
       "      <th></th>\n",
       "      <th>LATITUDE</th>\n",
       "      <th>LONGITUDE</th>\n",
       "      <th>AMP</th>\n",
       "    </tr>\n",
       "    <tr>\n",
       "      <th>TM</th>\n",
       "      <th></th>\n",
       "      <th></th>\n",
       "      <th></th>\n",
       "    </tr>\n",
       "  </thead>\n",
       "  <tbody>\n",
       "    <tr>\n",
       "      <th>2020-09-21 11:20:17.668</th>\n",
       "      <td>-34.10306</td>\n",
       "      <td>151.07315</td>\n",
       "      <td>-29.9</td>\n",
       "    </tr>\n",
       "    <tr>\n",
       "      <th>2020-09-21 11:21:09.725</th>\n",
       "      <td>-34.09893</td>\n",
       "      <td>151.04572</td>\n",
       "      <td>-13.6</td>\n",
       "    </tr>\n",
       "    <tr>\n",
       "      <th>2020-09-21 11:21:58.776</th>\n",
       "      <td>-34.07595</td>\n",
       "      <td>151.05222</td>\n",
       "      <td>50.4</td>\n",
       "    </tr>\n",
       "    <tr>\n",
       "      <th>2020-09-21 11:23:25.179</th>\n",
       "      <td>-34.02961</td>\n",
       "      <td>151.17613</td>\n",
       "      <td>-14.2</td>\n",
       "    </tr>\n",
       "    <tr>\n",
       "      <th>2020-09-21 11:23:25.212</th>\n",
       "      <td>-34.01039</td>\n",
       "      <td>151.12048</td>\n",
       "      <td>-13.8</td>\n",
       "    </tr>\n",
       "    <tr>\n",
       "      <th>2020-09-21 11:23:25.260</th>\n",
       "      <td>-34.00524</td>\n",
       "      <td>151.12358</td>\n",
       "      <td>-14.9</td>\n",
       "    </tr>\n",
       "    <tr>\n",
       "      <th>2020-09-21 11:24:23.725</th>\n",
       "      <td>-34.10694</td>\n",
       "      <td>151.11787</td>\n",
       "      <td>-27.5</td>\n",
       "    </tr>\n",
       "    <tr>\n",
       "      <th>2020-09-21 11:25:35.909</th>\n",
       "      <td>-34.10696</td>\n",
       "      <td>151.10039</td>\n",
       "      <td>-65.3</td>\n",
       "    </tr>\n",
       "    <tr>\n",
       "      <th>2020-09-21 11:25:35.953</th>\n",
       "      <td>-34.10568</td>\n",
       "      <td>151.06783</td>\n",
       "      <td>41.7</td>\n",
       "    </tr>\n",
       "    <tr>\n",
       "      <th>2020-09-21 11:28:29.815</th>\n",
       "      <td>-34.05155</td>\n",
       "      <td>151.14589</td>\n",
       "      <td>13.7</td>\n",
       "    </tr>\n",
       "  </tbody>\n",
       "</table>\n",
       "</div>"
      ],
      "text/plain": [
       "                         LATITUDE  LONGITUDE   AMP\n",
       "TM                                                \n",
       "2020-09-21 11:20:17.668 -34.10306  151.07315 -29.9\n",
       "2020-09-21 11:21:09.725 -34.09893  151.04572 -13.6\n",
       "2020-09-21 11:21:58.776 -34.07595  151.05222  50.4\n",
       "2020-09-21 11:23:25.179 -34.02961  151.17613 -14.2\n",
       "2020-09-21 11:23:25.212 -34.01039  151.12048 -13.8\n",
       "2020-09-21 11:23:25.260 -34.00524  151.12358 -14.9\n",
       "2020-09-21 11:24:23.725 -34.10694  151.11787 -27.5\n",
       "2020-09-21 11:25:35.909 -34.10696  151.10039 -65.3\n",
       "2020-09-21 11:25:35.953 -34.10568  151.06783  41.7\n",
       "2020-09-21 11:28:29.815 -34.05155  151.14589  13.7"
      ]
     },
     "execution_count": 2,
     "metadata": {},
     "output_type": "execute_result"
    }
   ],
   "source": [
    "sta='YSSY' # change to explore fog plots for other locations\n",
    "gpats_file = os.path.join(cur_dir, f'gpats_{sta}_10NM.csv')\n",
    "# resample data to 1 min (just minimises memory footprint/performance)\n",
    "# no real impact to data interpretatability\n",
    "g_ms = pd.read_csv(gpats_file,parse_dates=True, index_col='TM')\n",
    "print(g_ms.info())\n",
    "# 41119 gpats strikes , 1.3MB memory footprint\n",
    "g_ms.tail(10)"
   ]
  },
  {
   "cell_type": "code",
   "execution_count": 3,
   "metadata": {},
   "outputs": [
    {
     "name": "stdout",
     "output_type": "stream",
     "text": [
      "<class 'pandas.core.frame.DataFrame'>\n",
      "DatetimeIndex: 10930 entries, 2008-02-26 06:13:00 to 2020-09-21 11:28:00\n",
      "Data columns (total 3 columns):\n",
      "LATITUDE     10930 non-null float64\n",
      "LONGITUDE    10930 non-null float64\n",
      "AMP          10930 non-null int64\n",
      "dtypes: float64(2), int64(1)\n",
      "memory usage: 341.6 KB\n",
      "None\n"
     ]
    },
    {
     "data": {
      "text/html": [
       "<div>\n",
       "<style scoped>\n",
       "    .dataframe tbody tr th:only-of-type {\n",
       "        vertical-align: middle;\n",
       "    }\n",
       "\n",
       "    .dataframe tbody tr th {\n",
       "        vertical-align: top;\n",
       "    }\n",
       "\n",
       "    .dataframe thead th {\n",
       "        text-align: right;\n",
       "    }\n",
       "</style>\n",
       "<table border=\"1\" class=\"dataframe\">\n",
       "  <thead>\n",
       "    <tr style=\"text-align: right;\">\n",
       "      <th></th>\n",
       "      <th>LATITUDE</th>\n",
       "      <th>LONGITUDE</th>\n",
       "      <th>AMP</th>\n",
       "    </tr>\n",
       "    <tr>\n",
       "      <th>TM</th>\n",
       "      <th></th>\n",
       "      <th></th>\n",
       "      <th></th>\n",
       "    </tr>\n",
       "  </thead>\n",
       "  <tbody>\n",
       "    <tr>\n",
       "      <th>2020-09-21 11:21:00</th>\n",
       "      <td>-34.08744</td>\n",
       "      <td>151.048970</td>\n",
       "      <td>2</td>\n",
       "    </tr>\n",
       "    <tr>\n",
       "      <th>2020-09-21 11:23:00</th>\n",
       "      <td>-34.01508</td>\n",
       "      <td>151.140063</td>\n",
       "      <td>3</td>\n",
       "    </tr>\n",
       "    <tr>\n",
       "      <th>2020-09-21 11:24:00</th>\n",
       "      <td>-34.10694</td>\n",
       "      <td>151.117870</td>\n",
       "      <td>1</td>\n",
       "    </tr>\n",
       "    <tr>\n",
       "      <th>2020-09-21 11:25:00</th>\n",
       "      <td>-34.10632</td>\n",
       "      <td>151.084110</td>\n",
       "      <td>2</td>\n",
       "    </tr>\n",
       "    <tr>\n",
       "      <th>2020-09-21 11:28:00</th>\n",
       "      <td>-34.05155</td>\n",
       "      <td>151.145890</td>\n",
       "      <td>1</td>\n",
       "    </tr>\n",
       "  </tbody>\n",
       "</table>\n",
       "</div>"
      ],
      "text/plain": [
       "                     LATITUDE   LONGITUDE  AMP\n",
       "TM                                            \n",
       "2020-09-21 11:21:00 -34.08744  151.048970    2\n",
       "2020-09-21 11:23:00 -34.01508  151.140063    3\n",
       "2020-09-21 11:24:00 -34.10694  151.117870    1\n",
       "2020-09-21 11:25:00 -34.10632  151.084110    2\n",
       "2020-09-21 11:28:00 -34.05155  151.145890    1"
      ]
     },
     "execution_count": 3,
     "metadata": {},
     "output_type": "execute_result"
    }
   ],
   "source": [
    "sta='YSSY' # change to explore fog plots for other locations\n",
    "gpats_file = os.path.join(cur_dir, f'gpats_{sta}_10NM.csv')\n",
    "# resample data to 1 min (just minimises memory footprint/performance)\n",
    "# no real impact to data interpretatability\n",
    "# but it puts a limit to gpats in any given hour <=60  \n",
    "# so when we normalise by say total number of TS days - mean shud be also <= 60\n",
    "# and good way to compare activiy across hours\n",
    "g = pd.read_csv(gpats_file,parse_dates=True, index_col='TM')\\\n",
    "    .resample('1min')\\\n",
    "    .agg(dict(LATITUDE='mean', LONGITUDE='mean', AMP='count'))\\\n",
    "    .dropna()\n",
    "print(g.info())\n",
    "# 10930 rows/gpats strikes , 341kB Vs 1.3MB - almost 1/5 of raw dataset   \n",
    "g.tail()"
   ]
  },
  {
   "cell_type": "code",
   "execution_count": 4,
   "metadata": {},
   "outputs": [
    {
     "data": {
      "text/plain": [
       "TM\n",
       "2020-09-12     0\n",
       "2020-09-13     0\n",
       "2020-09-14     0\n",
       "2020-09-15     0\n",
       "2020-09-16     0\n",
       "2020-09-17     0\n",
       "2020-09-18     0\n",
       "2020-09-19     0\n",
       "2020-09-20     0\n",
       "2020-09-21    26\n",
       "Freq: D, Name: AMP, dtype: int64"
      ]
     },
     "execution_count": 4,
     "metadata": {},
     "output_type": "execute_result"
    }
   ],
   "source": [
    "# To find days with gpats - resample('D') \n",
    "# NB: resample introduce \"ALL\" days regardless whether gpats data or not \n",
    "# g_ms.resample('D')['AMP'].count() - if using raw millisecond gpats data\n",
    "g.resample('D')['AMP'].sum().tail(10)"
   ]
  },
  {
   "cell_type": "code",
   "execution_count": 5,
   "metadata": {
    "scrolled": true
   },
   "outputs": [
    {
     "name": "stdout",
     "output_type": "stream",
     "text": [
      "Number of TS days in Sydney Feb-2008 toSep-2020 = 384 days\n"
     ]
    },
    {
     "data": {
      "text/plain": [
       "TM\n",
       "2020-05-13    13\n",
       "2020-05-21    24\n",
       "2020-06-07     4\n",
       "2020-06-21     3\n",
       "2020-07-02     2\n",
       "2020-07-12     6\n",
       "2020-07-13     4\n",
       "2020-08-12     5\n",
       "2020-09-04     3\n",
       "2020-09-21    11\n",
       "Name: AMP, dtype: int64"
      ]
     },
     "execution_count": 5,
     "metadata": {},
     "output_type": "execute_result"
    }
   ],
   "source": [
    "# We drop those days with no strikes or even 1 strike (cud be spurious)\n",
    "# note a sum() here is appropriate, as would be count() but with lower values obviously\n",
    "g_tmp = g.resample('D')['AMP'].count()\n",
    "ts_days = g_tmp.loc[g_tmp>1]\n",
    "print(f'Number of TS days in Sydney {ts_days.index[0].strftime(\"%b-%Y\")} to\\\n",
    "{ts_days.index[-1].strftime(\"%b-%Y\")} = {ts_days.shape[0]} days')\n",
    "ts_days.tail(10)"
   ]
  },
  {
   "cell_type": "code",
   "execution_count": 6,
   "metadata": {
    "scrolled": true
   },
   "outputs": [
    {
     "data": {
      "text/plain": [
       "TM\n",
       "1     47\n",
       "2     44\n",
       "3     44\n",
       "4     31\n",
       "5     17\n",
       "6     21\n",
       "7     16\n",
       "8     13\n",
       "9     19\n",
       "10    38\n",
       "11    47\n",
       "12    47\n",
       "Name: AMP, dtype: int64"
      ]
     },
     "execution_count": 6,
     "metadata": {},
     "output_type": "execute_result"
    }
   ],
   "source": [
    "# To get number of days with TS in each month,\n",
    "# group by month and count days with TS to get monthly summaries\n",
    "# sum() not appripriate here as this would ADD up all gpats strikes\n",
    "# we want to add days, not gpats strikes in days\n",
    "\n",
    "g_month = ts_days.groupby(ts_days.index.month).count()\n",
    "g_month"
   ]
  },
  {
   "cell_type": "code",
   "execution_count": 8,
   "metadata": {},
   "outputs": [
    {
     "data": {
      "text/plain": [
       "TM\n",
       "1     40.0\n",
       "2     32.0\n",
       "3     31.0\n",
       "4     24.0\n",
       "5     21.0\n",
       "6     12.0\n",
       "7     11.0\n",
       "8     15.0\n",
       "9     18.0\n",
       "10    21.0\n",
       "11    37.0\n",
       "12    35.0\n",
       "Name: AMP, dtype: float64"
      ]
     },
     "execution_count": 8,
     "metadata": {},
     "output_type": "execute_result"
    }
   ],
   "source": [
    "# We can normalise monthly gpats count if we divide by number of thunder days \n",
    "# in given month to get sense of how lightning active each month is\n",
    "# Dec and Jan is most lightning active, followed 2nd place Nov, then 3rd place Feb/Mar \n",
    "# 1st get count raw strikes without any resampling to min or hour\n",
    "g_ms = pd.read_csv(gpats_file,parse_dates=True, index_col='TM')\n",
    "g_tmp = g_ms.resample('D')['AMP'].count() \n",
    "g_tmp_days = g_tmp.loc[g_tmp>1]\n",
    "g_month_activity = g_tmp_days.groupby(g_tmp_days.index.month).sum()\n",
    "g_month_activity = ts_days.groupby(ts_days.index.month).sum()\n",
    "round(g_month_activity/g_month)"
   ]
  },
  {
   "cell_type": "code",
   "execution_count": 9,
   "metadata": {
    "scrolled": true
   },
   "outputs": [
    {
     "data": {
      "text/plain": [
       "TM\n",
       "1     3.9\n",
       "2     3.7\n",
       "3     3.7\n",
       "4     2.6\n",
       "5     1.4\n",
       "6     1.8\n",
       "7     1.3\n",
       "8     1.1\n",
       "9     1.6\n",
       "10    3.2\n",
       "11    3.9\n",
       "12    3.9\n",
       "Name: AMP, dtype: float64"
      ]
     },
     "execution_count": 9,
     "metadata": {},
     "output_type": "execute_result"
    }
   ],
   "source": [
    "# Normalise total monthly thunder days (divide by num of years) to average monthly thunder days\n",
    "# rounded to 1 DP, Nov,Dec,Jan on average has about 4 thunder days every year\n",
    "# Oct, Feb, Mar not too far behind (avg ~ 3.5 thunder days) \n",
    "round((g_month/12),1)"
   ]
  },
  {
   "cell_type": "code",
   "execution_count": 10,
   "metadata": {},
   "outputs": [
    {
     "data": {
      "image/png": "[encoded data removed]",
      "text/plain": [
       "<Figure size 720x360 with 1 Axes>"
      ]
     },
     "metadata": {
      "needs_background": "light"
     },
     "output_type": "display_data"
    }
   ],
   "source": [
    "# see Fig 1.1 http://webnsw.bom.gov.au/samu/samu_operational/directives/SAMU_Thunderstorm_Directive.pdf\n",
    "# that figure is for 1939 to 2014 Average Thunder days per nonth\n",
    "# trends are similar - peak about 4.0 in Nov/Dec/Jab, so 4 days with TS in these months (about 13%)\n",
    "# we have more broad peak Jan to Mar and Oct to Dec\n",
    "\n",
    "dict_mon = dict(zip(\n",
    "    [1,2,3,4,5,6,7,8,9,10,11,12],\n",
    "    [\"Jan\",\"Feb\",\"Mar\",\"Apr\",\"May\",\"Jun\",\"Jul\",\"Aug\",\"Sep\",\"Oct\",\"Nov\",\"Dec\"]))\n",
    "\n",
    "dat = pd.read_csv(gpats_file,parse_dates=True, index_col='TM')\\\n",
    "    .resample('D')['AMP'].count()\n",
    "ts_days = dat.loc[dat>2]\n",
    "avg_mon_ts_days = ts_days.groupby(ts_days.index.month).count()/12\n",
    "\n",
    "\n",
    "fig, ax = plt.subplots(figsize=(10,5), nrows=1, ncols=1 )\n",
    "avg_mon_ts_days.plot( kind='bar', ax=ax)\n",
    "title = f'Average Thunder days per month at YSSY:\\\n",
    "{ts_days.index[0].strftime(\"%b-%Y\")} to {ts_days.index[-1].strftime(\"%b-%Y\")}'\n",
    "ax.set_title(title, color='b',fontsize=15)\n",
    "ax.set_ylabel('Days', color='g', fontsize=20)\n",
    "ax.set_xlabel('Months', color='g', fontsize=20)\n",
    "# g.get_xticks() [ 0  1  2  3  4  5  6  7  8  9 10]\n",
    "\n",
    "xlabels=[dict_mon[x+1] for x in ax.get_xticks()]\n",
    "    \n",
    "# xlabels=list( map( lambda x : dict_mon[x], ax.get_xticks()+2) )  # both give same result\n",
    "# xlabels = ['{:,.2f}'.format(x) + 'K' for x in ax.get_xticks()/1000]\n",
    "ax.set_xticklabels(xlabels,rotation=45, horizontalalignment='right')\n",
    "#g.set_xticklabels(ax.get_xticklabels(), rotation=45, horizontalalignment='right')\n",
    "ax.tick_params(labelsize=10)"
   ]
  },
  {
   "cell_type": "code",
   "execution_count": 11,
   "metadata": {},
   "outputs": [
    {
     "data": {
      "text/plain": [
       "TM\n",
       "1     13.06\n",
       "2     12.22\n",
       "3     12.22\n",
       "4      8.61\n",
       "5      4.72\n",
       "6      5.83\n",
       "7      4.44\n",
       "8      3.61\n",
       "9      5.28\n",
       "10    10.56\n",
       "11    13.06\n",
       "12    13.06\n",
       "Name: AMP, dtype: float64"
      ]
     },
     "execution_count": 11,
     "metadata": {},
     "output_type": "execute_result"
    }
   ],
   "source": [
    "# Assuming 30 days per month, this is the climatological probability storms \n",
    "# in any given month\n",
    "# Nov,Dec,Jan has 13% chance of storms on any given day - quite high!\n",
    "# Is this the correct way to do this???\n",
    "round((g_month/(12*30))*100,2)"
   ]
  },
  {
   "cell_type": "code",
   "execution_count": 12,
   "metadata": {
    "scrolled": true
   },
   "outputs": [
    {
     "data": {
      "text/plain": [
       "32.0"
      ]
     },
     "execution_count": 12,
     "metadata": {},
     "output_type": "execute_result"
    }
   ],
   "source": [
    "# Average thunder days annually (bit more than what average annual thunder days map suggests)\n",
    "# see climate_averages thunder-lightning map below\n",
    "sum(g_month/12)"
   ]
  },
  {
   "cell_type": "markdown",
   "metadata": {},
   "source": [
    "## http://www.bom.gov.au/climate/averages/climatology/thunder\n",
    "- based on analysis using 10 years of data 1990 to 1999 \n",
    "- about 20 years old data so not as reliable probably\n",
    "\n",
    "![](http://www.bom.gov.au/climate/averages/climatology/thunder/tdays.png)"
   ]
  },
  {
   "cell_type": "code",
   "execution_count": 13,
   "metadata": {
    "scrolled": true
   },
   "outputs": [
    {
     "data": {
      "image/png": "[encoded data removed]",
      "text/plain": [
       "<Figure size 720x360 with 1 Axes>"
      ]
     },
     "metadata": {
      "needs_background": "light"
     },
     "output_type": "display_data"
    }
   ],
   "source": [
    "# note resample by default introduces observations/rows in dataset \n",
    "# in this case resample('1min') and aggregate makes no difference to actual counts\n",
    "# see also fig 1.2  http://webnsw.bom.gov.au/samu/samu_operational/directives/SAMU_Thunderstorm_Directive.pdf\n",
    "# very similar trends to whats here\n",
    "\n",
    "g1_hour = pd.read_csv(gpats_file,parse_dates=True, index_col='TM')\\\n",
    "          .resample('1min')\\\n",
    "          .agg(dict(LATITUDE='mean', LONGITUDE='mean', AMP='count'))\\\n",
    "          .dropna()\\\n",
    "          .resample('H')['AMP'].count()\n",
    "\n",
    "# we get max 1 gpats count for any minute , so its either 0 or 1 for every minute\n",
    "# giving max gpats count 60 in an hour, anything in range 0 to 60 in an hour \n",
    "\n",
    "# actually this gives same result without the double resample hassles\n",
    "#g1_hour = pd.read_csv(gpats_file,parse_dates=True, index_col='TM')\\\n",
    "#          .resample('H')['AMP'].count()\n",
    "\n",
    "g1_hour = g1_hour.loc[g1_hour>1]\n",
    "gpats_by_hour = g1_hour.groupby(g1_hour.index.hour).count() # NB not sum() !\n",
    "\n",
    "fig, ax = plt.subplots(figsize=(10,5), nrows=1, ncols=1 )\n",
    "gpats_by_hour.plot( kind='bar', ax=ax)\n",
    "title = f'TS by Time of Day at YSSY: {ts_days.index[0].strftime(\"%b-%Y\")} to {ts_days.index[-1].strftime(\"%b-%Y\")}'\n",
    "ax.set_title(title, color='b',fontsize=15)\n",
    "ax.set_ylabel('TS counts', color='g', fontsize=20)\n",
    "ax.set_xlabel('Time of day UTC ', color='g', fontsize=20)\n",
    "# g.get_xticks() [ 0  1  2  3  4  5  6  7  8  9 10]\n",
    "\n",
    "xlabels=[x for x in ax.get_xticks()]\n",
    "    \n",
    "# xlabels=list( map( lambda x : dict_mon[x], ax.get_xticks()+2) )  # both give same result\n",
    "\n",
    "# xlabels = ['{:,.2f}'.format(x) + 'K' for x in ax.get_xticks()/1000]\n",
    "ax.set_xticklabels(xlabels,rotation=45, horizontalalignment='right')\n",
    "#g.set_xticklabels(ax.get_xticklabels(), rotation=45, horizontalalignment='right')\n",
    "ax.tick_params(labelsize=10)"
   ]
  },
  {
   "cell_type": "code",
   "execution_count": 15,
   "metadata": {},
   "outputs": [
    {
     "data": {
      "image/png": "[encoded data removed]",
      "text/plain": [
       "<Figure size 720x360 with 1 Axes>"
      ]
     },
     "metadata": {
      "needs_background": "light"
     },
     "output_type": "display_data"
    }
   ],
   "source": [
    "# Normalise - just divide by number of TS days\n",
    "# Note not all days will have TS at all hours of the day\n",
    "# EG Some days TS only between 4 to 10Z\n",
    "gpats_by_hour = (gpats_by_hour/ts_days.shape[0])*100\n",
    "fig, ax = plt.subplots(figsize=(10,5), nrows=1, ncols=1 )\n",
    "gpats_by_hour.plot( kind='bar', ax=ax)\n",
    "title = f'Probability of TS by Time of Day at YSSY: {ts_days.index[0].strftime(\"%b-%Y\")} to {ts_days.index[-1].strftime(\"%b-%Y\")}'\n",
    "ax.set_title(title, color='b',fontsize=15)\n",
    "ax.set_ylabel('Prob (% chance)', color='g', fontsize=20)\n",
    "ax.set_xlabel('Time of day UTC ', color='g', fontsize=20)\n",
    "xlabels=[x for x in ax.get_xticks()]\n",
    "ax.set_xticklabels(xlabels,rotation=45, horizontalalignment='right')\n",
    "ax.tick_params(labelsize=10)"
   ]
  },
  {
   "cell_type": "markdown",
   "metadata": {},
   "source": [
    "We can see that the highest chance of TS (about 16 to 18%) is between 4 to 9Z (2pm to 7pm) and failry low after 16Z 2am in t emorning hours."
   ]
  },
  {
   "cell_type": "code",
   "execution_count": 16,
   "metadata": {},
   "outputs": [
    {
     "name": "stdout",
     "output_type": "stream",
     "text": [
      "10\n",
      "11\n"
     ]
    }
   ],
   "source": [
    "dict_mon\n",
    "keys = list(dict_mon.keys())\n",
    "vals = list(dict_mon.values())\n",
    "print(keys[vals.index('Oct')])\n",
    "print(keys[vals.index('Nov')])"
   ]
  },
  {
   "cell_type": "code",
   "execution_count": 17,
   "metadata": {},
   "outputs": [
    {
     "data": {
      "image/png": "[encoded data removed]",
      "text/plain": [
       "<Figure size 720x360 with 1 Axes>"
      ]
     },
     "metadata": {
      "needs_background": "light"
     },
     "output_type": "display_data"
    }
   ],
   "source": [
    "# note resample by default introduces observations/rows in dataset \n",
    "# in this case resample('1min') and aggregate makes no difference to actual counts\n",
    "g1_hour = pd.read_csv(gpats_file,parse_dates=True, index_col='TM')\\\n",
    "          .resample('1min')\\\n",
    "          .agg(dict(LATITUDE='mean', LONGITUDE='mean', AMP='count'))\\\n",
    "          .dropna()\\\n",
    "          .resample('H')['AMP'].count()\n",
    "\n",
    "# actually this gives same result without the double resample hassles\n",
    "g1_hour = pd.read_csv(gpats_file,parse_dates=True, index_col='TM')\\\n",
    "          .resample('H')['AMP'].count()\n",
    "\n",
    "g1_hour = g1_hour.loc[g1_hour>1]   # only keep data with > 1 gpat count per hour\n",
    "\n",
    "# hourly trend for October only\n",
    "mon=keys[vals.index('Nov')]\n",
    "g1_hour = g1_hour.loc[g1_hour.index.month==mon]  \n",
    "gpats_by_hour = g1_hour.groupby(g1_hour.index.hour).count()\n",
    "# gpats_by_hour/24\n",
    "\n",
    "\n",
    "fig, ax = plt.subplots(figsize=(10,5), nrows=1, ncols=1 )\n",
    "gpats_by_hour.plot( kind='bar', ax=ax)\n",
    "title = f'GPATS by Time of Day at {sta} in {dict_mon[mon]}: \\\n",
    "{ts_days.index[0].strftime(\"%b-%Y\")} to {ts_days.index[-1].strftime(\"%b-%Y\")}'\n",
    "ax.set_title(title, color='b',fontsize=15)\n",
    "ax.set_ylabel('Hourly gpat counts', color='g', fontsize=20)\n",
    "ax.set_xlabel('Time of day UTC ', color='g', fontsize=20)\n",
    "# g.get_xticks() [ 0  1  2  3  4  5  6  7  8  9 10]\n",
    "\n",
    "xlabels=[x for x in ax.get_xticks()]\n",
    "    \n",
    "# xlabels=list( map( lambda x : dict_mon[x], ax.get_xticks()+2) )  # both give same result\n",
    "\n",
    "# xlabels = ['{:,.2f}'.format(x) + 'K' for x in ax.get_xticks()/1000]\n",
    "ax.set_xticklabels(xlabels,rotation=45, horizontalalignment='right')\n",
    "#g.set_xticklabels(ax.get_xticklabels(), rotation=45, horizontalalignment='right')\n",
    "ax.tick_params(labelsize=10)"
   ]
  },
  {
   "cell_type": "markdown",
   "metadata": {},
   "source": [
    "For month of October, on average \n",
    "- storms observed about 6 days in Oct hours 3-4Z\n",
    "- storms observed about 11-12 days in Oct hours 4-5Z\n",
    "- peak 3 to 7Z"
   ]
  },
  {
   "cell_type": "code",
   "execution_count": 18,
   "metadata": {},
   "outputs": [
    {
     "data": {
      "text/plain": [
       "TM\n",
       "2020-09-17     0\n",
       "2020-09-18     0\n",
       "2020-09-19     0\n",
       "2020-09-20     0\n",
       "2020-09-21    11\n",
       "Freq: D, Name: AMP, dtype: int64"
      ]
     },
     "execution_count": 18,
     "metadata": {},
     "output_type": "execute_result"
    }
   ],
   "source": [
    "'''\n",
    "resample data to 1min\n",
    " nb the counts would obviously be smaller given we not counting millisecond precision strikes\n",
    " good thing is we get max 1 gpats count for any minute , so its either 0 or 1\n",
    " giving max gpats count 60 in an hour, anything in range 0 to 60\n",
    "'''\n",
    "g1_day = pd.read_csv(gpats_file,parse_dates=True, index_col='TM')\\\n",
    "      .resample('1min')\\\n",
    "      .agg(dict(LATITUDE='mean', LONGITUDE='mean', AMP='count'))\\\n",
    "      .dropna()\\\n",
    "      .resample('D')['AMP'].count()\n",
    "g1_day.tail()"
   ]
  },
  {
   "cell_type": "code",
   "execution_count": 19,
   "metadata": {},
   "outputs": [
    {
     "data": {
      "text/plain": [
       "TM\n",
       "2020-04-30     5\n",
       "2020-05-13    13\n",
       "2020-05-21    24\n",
       "2020-06-07     4\n",
       "2020-06-21     3\n",
       "2020-07-12     6\n",
       "2020-07-13     4\n",
       "2020-08-12     5\n",
       "2020-09-04     3\n",
       "2020-09-21    11\n",
       "Name: AMP, dtype: int64"
      ]
     },
     "execution_count": 19,
     "metadata": {},
     "output_type": "execute_result"
    }
   ],
   "source": [
    "# drop days with no gpats\n",
    "g1_day = g1_day.loc[g1_day>2]\n",
    "g1_day.tail(10)"
   ]
  },
  {
   "cell_type": "code",
   "execution_count": 20,
   "metadata": {
    "scrolled": true
   },
   "outputs": [
    {
     "data": {
      "text/plain": [
       "TM\n",
       "1     43\n",
       "2     39\n",
       "3     41\n",
       "4     28\n",
       "5     15\n",
       "6     16\n",
       "7     13\n",
       "8     13\n",
       "9     16\n",
       "10    34\n",
       "11    44\n",
       "12    45\n",
       "Name: AMP, dtype: int64"
      ]
     },
     "execution_count": 20,
     "metadata": {},
     "output_type": "execute_result"
    }
   ],
   "source": [
    "g1_month = g1_day.groupby(g1_day.index.month).count()\n",
    "g1_month"
   ]
  },
  {
   "cell_type": "code",
   "execution_count": 21,
   "metadata": {},
   "outputs": [
    {
     "data": {
      "text/plain": [
       "TM\n",
       "2020-09-21 07:00:00     0\n",
       "2020-09-21 08:00:00     0\n",
       "2020-09-21 09:00:00     0\n",
       "2020-09-21 10:00:00     1\n",
       "2020-09-21 11:00:00    25\n",
       "Freq: H, Name: AMP, dtype: int64"
      ]
     },
     "execution_count": 21,
     "metadata": {},
     "output_type": "execute_result"
    }
   ],
   "source": [
    "# note resample introduces hours in dataset even when no gpats\n",
    "g1_hour = pd.read_csv(gpats_file,parse_dates=True, index_col='TM').\\\n",
    "          resample('H')['AMP'].count()\n",
    "g1_hour.tail()"
   ]
  },
  {
   "cell_type": "code",
   "execution_count": 22,
   "metadata": {
    "scrolled": true
   },
   "outputs": [
    {
     "data": {
      "text/plain": [
       "TM\n",
       "2008-03-29 00:00:00     0\n",
       "2008-03-29 01:00:00     0\n",
       "2008-03-29 02:00:00     0\n",
       "2008-03-29 03:00:00     0\n",
       "2008-03-29 04:00:00     0\n",
       "2008-03-29 05:00:00     0\n",
       "2008-03-29 06:00:00    14\n",
       "2008-03-29 07:00:00     3\n",
       "2008-03-29 08:00:00     0\n",
       "2008-03-29 09:00:00     2\n",
       "2008-03-29 10:00:00    19\n",
       "2008-03-29 11:00:00    53\n",
       "2008-03-29 12:00:00     7\n",
       "2008-03-29 13:00:00     0\n",
       "2008-03-29 14:00:00     3\n",
       "2008-03-29 15:00:00     2\n",
       "2008-03-29 16:00:00     0\n",
       "2008-03-29 17:00:00     0\n",
       "2008-03-29 18:00:00     0\n",
       "2008-03-29 19:00:00     0\n",
       "2008-03-29 20:00:00     0\n",
       "2008-03-29 21:00:00     0\n",
       "2008-03-29 22:00:00     0\n",
       "2008-03-29 23:00:00     0\n",
       "Freq: H, Name: AMP, dtype: int64"
      ]
     },
     "execution_count": 22,
     "metadata": {},
     "output_type": "execute_result"
    }
   ],
   "source": [
    "# to check out any specific day - gpats count for each hour on that date\n",
    "g1_hour.loc['29-03-2008']"
   ]
  },
  {
   "cell_type": "code",
   "execution_count": 23,
   "metadata": {
    "scrolled": true
   },
   "outputs": [
    {
     "data": {
      "text/plain": [
       "TM\n",
       "2008-03-29 06:00:00    14\n",
       "2008-03-29 07:00:00     3\n",
       "2008-03-29 09:00:00     2\n",
       "2008-03-29 10:00:00    19\n",
       "2008-03-29 11:00:00    53\n",
       "2008-03-29 12:00:00     7\n",
       "2008-03-29 14:00:00     3\n",
       "2008-03-29 15:00:00     2\n",
       "Name: AMP, dtype: int64"
      ]
     },
     "execution_count": 23,
     "metadata": {},
     "output_type": "execute_result"
    }
   ],
   "source": [
    "# drop hours when no gpats\n",
    "g1_hour = g1_hour[g1_hour>0]\n",
    "g1_hour.loc['29-03-2008']"
   ]
  },
  {
   "cell_type": "code",
   "execution_count": 24,
   "metadata": {
    "scrolled": true
   },
   "outputs": [
    {
     "data": {
      "text/plain": [
       "TM\n",
       "0     1.208333\n",
       "1     1.250000\n",
       "2     1.541667\n",
       "3     2.458333\n",
       "4     3.500000\n",
       "5     3.750000\n",
       "6     3.666667\n",
       "7     3.500000\n",
       "8     3.750000\n",
       "9     3.875000\n",
       "10    2.500000\n",
       "11    2.583333\n",
       "12    2.375000\n",
       "13    1.875000\n",
       "14    1.833333\n",
       "15    1.166667\n",
       "16    0.750000\n",
       "17    1.125000\n",
       "18    0.916667\n",
       "19    0.791667\n",
       "20    0.916667\n",
       "21    0.625000\n",
       "22    0.875000\n",
       "23    0.833333\n",
       "Name: AMP, dtype: float64"
      ]
     },
     "execution_count": 24,
     "metadata": {},
     "output_type": "execute_result"
    }
   ],
   "source": [
    "# get gpats count by hour for for each hour over all days/years\n",
    "gpats_by_hour = g1_hour.groupby(g1_hour.index.hour).count()\n",
    "gpats_by_hour/24"
   ]
  },
  {
   "cell_type": "code",
   "execution_count": 25,
   "metadata": {},
   "outputs": [
    {
     "data": {
      "text/plain": [
       "<matplotlib.axes._subplots.AxesSubplot at 0x7f9d9c91a278>"
      ]
     },
     "execution_count": 25,
     "metadata": {},
     "output_type": "execute_result"
    },
    {
     "data": {
      "image/png": "[encoded data removed]",
      "text/plain": [
       "<Figure size 432x288 with 1 Axes>"
      ]
     },
     "metadata": {
      "needs_background": "light"
     },
     "output_type": "display_data"
    }
   ],
   "source": [
    "# November hourly trend \n",
    "mon=keys[vals.index('Dec')]\n",
    "g1_dec = g1_hour.loc[g1_hour.index.month==mon]\n",
    "(g1_dec.groupby(g1_dec.index.hour).count()/12).plot(kind='bar')"
   ]
  },
  {
   "cell_type": "markdown",
   "metadata": {},
   "source": [
    "For month of November, on average \n",
    "- storms observed about 7 days in Oct hours 2-4Z\n",
    "- storms observed about 11-12 days in Oct hours 4-5Z\n",
    "- peak 4 to 7Z , about 15 to 18 days have storms on average between these hours in Nov!"
   ]
  },
  {
   "cell_type": "code",
   "execution_count": 26,
   "metadata": {},
   "outputs": [
    {
     "data": {
      "text/plain": [
       "<matplotlib.axes._subplots.AxesSubplot at 0x7f9d9c890fd0>"
      ]
     },
     "execution_count": 26,
     "metadata": {},
     "output_type": "execute_result"
    },
    {
     "data": {
      "image/png": "[encoded data removed]",
      "text/plain": [
       "<Figure size 432x288 with 1 Axes>"
      ]
     },
     "metadata": {
      "needs_background": "light"
     },
     "output_type": "display_data"
    }
   ],
   "source": [
    "# to see hourly variation by season\n",
    "g1_hour = pd.read_csv(gpats_file,parse_dates=True, index_col='TM')\\\n",
    "          .resample('H')['AMP'].count()\n",
    "g1_hour = g1_hour.loc[g1_hour>1]   # only keep data with > 1 gpat count per hour\n",
    "\n",
    "spring = (g1_hour.index.month == 9) | (g1_hour.index.month == 10) | (g1_hour.index.month == 11)\n",
    "summer = (g1_hour.index.month == 12) | (g1_hour.index.month == 1) | (g1_hour.index.month == 2)\n",
    "autumn = (g1_hour.index.month == 3) | (g1_hour.index.month == 4) | (g1_hour.index.month == 5)\n",
    "winter = (g1_hour.index.month == 6) | (g1_hour.index.month == 7) | (g1_hour.index.month == 8)\n",
    "\n",
    "g1_spring = g1_hour.loc[spring]\n",
    "(g1_spring.groupby(g1_spring.index.hour).count()/12).plot(kind='line', color='#4b0082', linewidth=4,\n",
    "         marker='h', markerfacecolor='lightgreen', markeredgewidth=2)"
   ]
  },
  {
   "cell_type": "code",
   "execution_count": 27,
   "metadata": {},
   "outputs": [
    {
     "data": {
      "text/plain": [
       "<matplotlib.axes._subplots.AxesSubplot at 0x7f9d9c4ac470>"
      ]
     },
     "execution_count": 27,
     "metadata": {},
     "output_type": "execute_result"
    },
    {
     "data": {
      "image/png": "[encoded data removed]",
      "text/plain": [
       "<Figure size 432x288 with 1 Axes>"
      ]
     },
     "metadata": {
      "needs_background": "light"
     },
     "output_type": "display_data"
    }
   ],
   "source": [
    "g1_summer = g1_hour.loc[summer]\n",
    "(g1_summer.groupby(g1_summer.index.hour).count()/12).plot(kind='line', color='green', linewidth=4,\n",
    "         marker='h', markerfacecolor='lightgreen', markeredgewidth=2)"
   ]
  },
  {
   "cell_type": "code",
   "execution_count": 28,
   "metadata": {},
   "outputs": [
    {
     "data": {
      "text/plain": [
       "Text(0.5, 0, 'Time of day UTC ')"
      ]
     },
     "execution_count": 28,
     "metadata": {},
     "output_type": "execute_result"
    },
    {
     "data": {
      "image/png": "[encoded data removed]",
      "text/plain": [
       "<Figure size 1008x576 with 1 Axes>"
      ]
     },
     "metadata": {
      "needs_background": "light"
     },
     "output_type": "display_data"
    }
   ],
   "source": [
    "\n",
    "g1_autumn = g1_hour.loc[autumn]\n",
    "\n",
    "g1_winter = g1_hour.loc[winter]\n",
    "\n",
    "fig, ax = plt.subplots(figsize=(14,8), nrows=1, ncols=1 )\n",
    "\n",
    "\n",
    "(g1_summer.groupby(g1_summer.index.hour).count()/12).plot(kind='line', color='red', linewidth=2,\n",
    "         marker='h', markerfacecolor='lightgreen', markeredgewidth=2)\n",
    "(g1_spring.groupby(g1_spring.index.hour).count()/12).plot(kind='line', color='blue', linewidth=2,\n",
    "         marker='h', markerfacecolor='lightblue', markeredgewidth=2)\n",
    "(g1_autumn.groupby(g1_autumn.index.hour).count()/12).plot(kind='line', color='yellow', linewidth=2,\n",
    "         marker='h', markerfacecolor='lightgreen', markeredgewidth=2)\n",
    "\n",
    "(g1_winter.groupby(g1_winter.index.hour).count()/12).plot(kind='line', color='green', linewidth=2,\n",
    "         marker='h', markerfacecolor='lightgreen', markeredgewidth=2)\n",
    "\n",
    "title = f'TS by Time of Day at {sta} for all 4 seasons: \\\n",
    "{ts_days.index[0].strftime(\"%b-%Y\")} to {ts_days.index[-1].strftime(\"%b-%Y\")}'\n",
    "ax.set_title(title, color='b',fontsize=15)\n",
    "ax.set_ylabel('TS/gpats counts', color='g', fontsize=20)\n",
    "ax.set_xlabel('Time of day UTC ', color='g', fontsize=20)"
   ]
  },
  {
   "cell_type": "code",
   "execution_count": 29,
   "metadata": {},
   "outputs": [
    {
     "name": "stdout",
     "output_type": "stream",
     "text": [
      "Reading YSSY gpats file /home/accounts/qdisplay/avguide/app/data/gpats_YSSY_10NM.csv\n",
      "TM\n",
      "2020-07-12     6\n",
      "2020-07-13     4\n",
      "2020-08-12     5\n",
      "2020-09-04     3\n",
      "2020-09-21    11\n",
      "Name: AMP, dtype: int64\n",
      "Number of storm days in YSSY 384,  384\n",
      "Reading YSRI gpats file /home/accounts/qdisplay/avguide/app/data/gpats_YSRI_10NM.csv\n",
      "TM\n",
      "2020-05-21    9\n",
      "2020-07-13    6\n",
      "2020-08-08    6\n",
      "2020-08-12    5\n",
      "2020-09-04    3\n",
      "Name: AMP, dtype: int64\n",
      "Number of storm days in ysri 397,  397\n",
      "Reading YSCN gpats file /home/accounts/qdisplay/avguide/app/data/gpats_YSCN_10NM.csv\n",
      "TM\n",
      "2020-04-29     2\n",
      "2020-05-21    18\n",
      "2020-07-13     3\n",
      "2020-08-12     5\n",
      "2020-09-21    31\n",
      "Name: AMP, dtype: int64\n",
      "Number of storm days in ysbk 342,  342\n",
      "Reading YSBK gpats file /home/accounts/qdisplay/avguide/app/data/gpats_YSBK_10NM.csv\n",
      "TM\n",
      "2020-07-12     7\n",
      "2020-07-13     5\n",
      "2020-08-08     5\n",
      "2020-08-12     8\n",
      "2020-09-21    25\n",
      "Name: AMP, dtype: int64\n",
      "Number of storm days in ysbk 353,  353\n",
      "Reading YSHW gpats file /home/accounts/qdisplay/avguide/app/data/gpats_YSHW_10NM.csv\n",
      "TM\n",
      "2020-05-28     2\n",
      "2020-07-12     4\n",
      "2020-07-13     5\n",
      "2020-08-12     6\n",
      "2020-09-21    32\n",
      "Name: AMP, dtype: int64\n",
      "Number of storm days in yshw 364,  364\n",
      "Reading YSHL gpats file /home/accounts/qdisplay/avguide/app/data/gpats_YSHL_10NM.csv\n",
      "TM\n",
      "2020-02-26    43\n",
      "2020-04-10     2\n",
      "2020-05-21     9\n",
      "2020-07-13     6\n",
      "2020-08-08     6\n",
      "Name: AMP, dtype: int64\n",
      "Number of storm days in yshl 235,  235\n",
      "Reading YWLM gpats file /home/accounts/qdisplay/avguide/app/data/gpats_YWLM_10NM.csv\n",
      "TM\n",
      "2020-03-25     2\n",
      "2020-06-07     6\n",
      "2020-07-12    67\n",
      "2020-08-12    13\n",
      "2020-09-21     7\n",
      "Name: AMP, dtype: int64\n",
      "Number of storm days in ywlm 340,  340\n"
     ]
    }
   ],
   "source": [
    "# def get_gpats_data(cur_dir:str=\"./gpats_data/\",sta:str=\"YBBN\")->pd.DataFrame:\n",
    "yssy = bous.get_gpats_data(cur_dir=cur_dir,sta='YSSY')\\\n",
    "       .resample('D')['AMP'].count()\n",
    "yssy = yssy.loc[yssy>1]  # only count days as storm days if more than 2 gpats regsitered\n",
    "print(yssy.tail())\n",
    "print(f'Number of storm days in YSSY {len(yssy.index)},  {len(set(yssy.index))}')\n",
    "\n",
    "ysri = bous.get_gpats_data(cur_dir=cur_dir,sta='YSRI')\\\n",
    "       .resample('D')['AMP'].count()\n",
    "ysri = ysri.loc[ysri>1]  # only count days as storm days if more than 2 gpats regsitered\n",
    "print(ysri.tail())\n",
    "print(f'Number of storm days in ysri {len(ysri.index)},  {len(set(ysri.index))}')\n",
    "\n",
    "yscn = bous.get_gpats_data(cur_dir=cur_dir,sta='YSCN')\\\n",
    "       .resample('D')['AMP'].count()\n",
    "yscn = yscn.loc[yscn>1]  # only count days as storm days if more than 2 gpats regsitered\n",
    "print(yscn.tail())\n",
    "print(f'Number of storm days in ysbk {len(yscn.index)},  {len(set(yscn.index))}')\n",
    "\n",
    "\n",
    "ysbk = bous.get_gpats_data(cur_dir=cur_dir,sta='YSBK')\\\n",
    "       .resample('D')['AMP'].count()\n",
    "ysbk = ysbk.loc[ysbk>1]  # only count days as storm days if more than 2 gpats regsitered\n",
    "print(ysbk.tail())\n",
    "print(f'Number of storm days in ysbk {len(ysbk.index)},  {len(set(ysbk.index))}')\n",
    "\n",
    "yshw = bous.get_gpats_data(cur_dir=cur_dir,sta='YSHW')\\\n",
    "       .resample('D')['AMP'].count()\n",
    "yshw = yshw.loc[yshw>1]  # only count days as storm days if more than 2 gpats regsitered\n",
    "print(yshw.tail())\n",
    "print(f'Number of storm days in yshw {len(yshw.index)},  {len(set(yshw.index))}')\n",
    "\n",
    "yshl = bous.get_gpats_data(cur_dir=cur_dir,sta='YSHL')\\\n",
    "       .resample('D')['AMP'].count()\n",
    "yshl = ysri.loc[yshl>1]  # only count days as storm days if more than 2 gpats regsitered\n",
    "print(yshl.tail())\n",
    "print(f'Number of storm days in yshl {len(yshl.index)},  {len(set(yshl.index))}')\n",
    "\n",
    "ywlm = bous.get_gpats_data(cur_dir=cur_dir,sta='YWLM')\\\n",
    "       .resample('D')['AMP'].count()\n",
    "ywlm = ywlm.loc[ywlm>1]  # only count days as storm days if more than 2 gpats regsitered\n",
    "print(ywlm.tail())\n",
    "print(f'Number of storm days in ywlm {len(ywlm.index)},  {len(set(ywlm.index))}')\n"
   ]
  },
  {
   "cell_type": "markdown",
   "metadata": {},
   "source": [
    "Get relative frequeccies\n",
    "How often SYd gets storms given there are storms at YSRI\n",
    "COnditional probabilities\n",
    "\n",
    "Storms YSSY given TS at YSRI\n",
    "- P(TS YSSY | TS YSRI)\n",
    "- P(TS YSSY | TS YSCN)\n",
    "\n",
    "storms at Banks and Holls given TS Camden\n",
    "\n",
    "- P(TS YSBK | TS YSCN)  or \n",
    "- P(TS YSHW | TS YSCN)\n",
    "\n",
    "\n",
    "Load gpats - get TS dates and set arithmatic to get conditionals"
   ]
  },
  {
   "cell_type": "code",
   "execution_count": 30,
   "metadata": {},
   "outputs": [
    {
     "data": {
      "text/plain": [
       "DatetimeIndex(['2008-02-26', '2008-02-27', '2008-02-28', '2008-03-07',\n",
       "               '2008-03-20', '2008-03-23', '2008-03-25', '2008-03-29',\n",
       "               '2008-04-13', '2008-05-13',\n",
       "               ...\n",
       "               '2020-05-13', '2020-05-21', '2020-06-07', '2020-06-21',\n",
       "               '2020-07-02', '2020-07-12', '2020-07-13', '2020-08-12',\n",
       "               '2020-09-04', '2020-09-21'],\n",
       "              dtype='datetime64[ns]', name='TM', length=384, freq=None)"
      ]
     },
     "execution_count": 30,
     "metadata": {},
     "output_type": "execute_result"
    }
   ],
   "source": [
    "yssy.index"
   ]
  },
  {
   "cell_type": "code",
   "execution_count": 31,
   "metadata": {},
   "outputs": [
    {
     "data": {
      "text/plain": [
       "[Timestamp('2020-05-13 00:00:00'),\n",
       " Timestamp('2020-05-21 00:00:00'),\n",
       " Timestamp('2020-06-07 00:00:00'),\n",
       " Timestamp('2020-06-21 00:00:00'),\n",
       " Timestamp('2020-07-02 00:00:00'),\n",
       " Timestamp('2020-07-12 00:00:00'),\n",
       " Timestamp('2020-07-13 00:00:00'),\n",
       " Timestamp('2020-08-12 00:00:00'),\n",
       " Timestamp('2020-09-04 00:00:00'),\n",
       " Timestamp('2020-09-21 00:00:00')]"
      ]
     },
     "execution_count": 31,
     "metadata": {},
     "output_type": "execute_result"
    }
   ],
   "source": [
    "# removing duplicated from list  \n",
    "# using collections.OrderedDict.fromkeys() \n",
    "from collections import OrderedDict \n",
    "res = list(OrderedDict.fromkeys(yssy.index)) \n",
    "res[-10:]"
   ]
  },
  {
   "cell_type": "code",
   "execution_count": 32,
   "metadata": {},
   "outputs": [
    {
     "name": "stdout",
     "output_type": "stream",
     "text": [
      "Number of days with storms at YSRI:397\n",
      "Number of days with storms at YSSY:384\n",
      "Number of days with storms at both locations: 251\n"
     ]
    }
   ],
   "source": [
    "'''\n",
    "easiest way by which the duplicates are removed from the list - use set()\n",
    "main drawback is that the ordering of the element is lost in this particular method - \n",
    "not too concerned with that here.\n",
    "\n",
    "set(A).union(set(B)),\n",
    "set(A).intersection(set(B)),\n",
    "set(A).symmetric_difference(set(B)),\n",
    "set(A).difference(set(B)),\n",
    "set(A).difference(set(B)))\n",
    "'''\n",
    "\n",
    "# 227 storm dates in common with ysri and yssy, 20 dates when storms possibly only at ysri\n",
    "print(f'Number of days with storms at YSRI:{len(set(ysri.index))}\\n\\\n",
    "Number of days with storms at YSSY:{len(set(yssy.index))}\\n\\\n",
    "Number of days with storms at both locations: {len(set(ysri.index).intersection(set(yssy.index)))}')"
   ]
  },
  {
   "cell_type": "code",
   "execution_count": 33,
   "metadata": {},
   "outputs": [
    {
     "name": "stdout",
     "output_type": "stream",
     "text": [
      "Number of days storms at only YSSY or only YSRI but not at both locations 279,279\n"
     ]
    }
   ],
   "source": [
    "# set symmetric_difference - dates which are not common to both sets (associative)\n",
    "# dates which appear in either one of the sets but not in both \n",
    "# (so not common or opposite of intersection)\n",
    "print(f'Number of days storms at only YSSY or only YSRI but not at both locations \\\n",
    "{len(set(ysri.index).symmetric_difference(set(yssy.index)))},\\\n",
    "{len(set(yssy.index).symmetric_difference(set(ysri.index)))}')"
   ]
  },
  {
   "cell_type": "code",
   "execution_count": 34,
   "metadata": {},
   "outputs": [
    {
     "name": "stdout",
     "output_type": "stream",
     "text": [
      "Number of days storms only at YSRI (and not at YSSY) 146\n",
      "Number of days storms only at YSSY (and not at YSRI) 133\n"
     ]
    }
   ],
   "source": [
    "\n",
    "'''\n",
    "From these 260 days, how many are in yssy alone and hom many in ysri only\n",
    "The set difference of A and B is a set of dates that exists only in set A but not in B'''\n",
    "print(f'Number of days storms only at YSRI (and not at YSSY) \\\n",
    "{len(set(ysri.index).difference(set(yssy.index)))}')\n",
    "\n",
    "print(f'Number of days storms only at YSSY (and not at YSRI) \\\n",
    "{len(set(yssy.index).difference(set(ysri.index)))}')"
   ]
  },
  {
   "cell_type": "code",
   "execution_count": 35,
   "metadata": {},
   "outputs": [
    {
     "name": "stdout",
     "output_type": "stream",
     "text": [
      "probability of TS at YSSY given TS at YSRI = 0.63 or 0.63\n"
     ]
    }
   ],
   "source": [
    "'''\n",
    "ysri had 367 storm days, yssy 347 days, of these common dates\n",
    "i.e Number of days with storms at both locations = 227\n",
    "\n",
    "Out of these, 140 days when storm only at YSRI but not at YSSY\n",
    "We want to find out how many days we get storms at YSSY given they were also observed at YSRI\n",
    "\n",
    "Simple approach \n",
    "1. find all dates when had stormsa at YSRI - call this number a\n",
    "2. find how mnay of these dates storms also at YSSY - b num of days\n",
    "3. conditional prob P(storm YSSY | storm at YSI) = b/a\n",
    "'''\n",
    "print (f'probability of TS at YSSY given TS at YSRI = \\\n",
    "{(len(set(ysri.index)) - len(set(ysri.index).difference(set(yssy.index)))) / len(set(ysri.index)):.2f} or \\\n",
    "{len(set(ysri.index).intersection(set(yssy.index))) / len(set(ysri.index)):.2f}')\n",
    "\n"
   ]
  },
  {
   "cell_type": "code",
   "execution_count": 36,
   "metadata": {},
   "outputs": [
    {
     "name": "stdout",
     "output_type": "stream",
     "text": [
      "probability of TS at YSSY given TS at YSRI = 0.63\n",
      "probability of TS at YSSY given TS at YSCN = 0.71\n",
      "probability of TS at YSSY given TS at YSBK = 0.86\n",
      "probability of TS at YSSY given TS at YSHW = 0.82\n"
     ]
    }
   ],
   "source": [
    "print (f'probability of TS at YSSY given TS at YSRI = \\\n",
    "{len(set(ysri.index).intersection(set(yssy.index))) / len(set(ysri.index)):.2f}')\n",
    "print (f'probability of TS at YSSY given TS at YSCN =\\\n",
    " {len(set(yscn.index).intersection(set(yssy.index))) / len(set(yscn.index)):.2f}')\n",
    "print (f'probability of TS at YSSY given TS at YSBK =\\\n",
    " {len(set(ysbk.index).intersection(set(yssy.index))) / len(set(ysbk.index)):.2f}')\n",
    "print (f'probability of TS at YSSY given TS at YSHW =\\\n",
    " {len(set(yshw.index).intersection(set(yssy.index))) / len(set(yshw.index)):.2f}')"
   ]
  },
  {
   "cell_type": "markdown",
   "metadata": {},
   "source": [
    "THis means that off all the storms that affect YSRI, 63% go on to affect YSSY also,\n",
    "If a storm is at YSBK, than there is 86% chance that storms will also affect YSSY\n",
    "Whether these are the same storms or not can be found by comparing TS onset times at two locations\n",
    "with the condition that storm at upstream locations occurs before storm at downwind  location. \n",
    "\n",
    "However 65% of days when have storms at YSSY, we also have storms at YSRI\n",
    "Does this mean storms form at YSSY and move west to affect YSRI!! "
   ]
  },
  {
   "cell_type": "code",
   "execution_count": 37,
   "metadata": {},
   "outputs": [
    {
     "name": "stdout",
     "output_type": "stream",
     "text": [
      "probability of TS at YSRI given TS at YSSY = 0.65\n"
     ]
    }
   ],
   "source": [
    "print (f'probability of TS at YSRI given TS at YSSY = \\\n",
    "{len(set(yssy.index).intersection(set(ysri.index))) / len(set(yssy.index)):.2f}')"
   ]
  },
  {
   "cell_type": "code",
   "execution_count": 38,
   "metadata": {},
   "outputs": [
    {
     "name": "stdout",
     "output_type": "stream",
     "text": [
      "Unique years in dataset = ['2008' '2009' '2010' '2011' '2012' '2013' '2014' '2015' '2016' '2017'\n",
      " '2018' '2019' '2020']\n"
     ]
    },
    {
     "data": {
      "text/html": [
       "<div>\n",
       "<style scoped>\n",
       "    .dataframe tbody tr th:only-of-type {\n",
       "        vertical-align: middle;\n",
       "    }\n",
       "\n",
       "    .dataframe tbody tr th {\n",
       "        vertical-align: top;\n",
       "    }\n",
       "\n",
       "    .dataframe thead th {\n",
       "        text-align: right;\n",
       "    }\n",
       "</style>\n",
       "<table border=\"1\" class=\"dataframe\">\n",
       "  <thead>\n",
       "    <tr style=\"text-align: right;\">\n",
       "      <th></th>\n",
       "      <th>AMP</th>\n",
       "    </tr>\n",
       "    <tr>\n",
       "      <th>TM</th>\n",
       "      <th></th>\n",
       "    </tr>\n",
       "  </thead>\n",
       "  <tbody>\n",
       "    <tr>\n",
       "      <th>2008</th>\n",
       "      <td>3960</td>\n",
       "    </tr>\n",
       "    <tr>\n",
       "      <th>2009</th>\n",
       "      <td>2211</td>\n",
       "    </tr>\n",
       "    <tr>\n",
       "      <th>2010</th>\n",
       "      <td>1631</td>\n",
       "    </tr>\n",
       "    <tr>\n",
       "      <th>2011</th>\n",
       "      <td>1133</td>\n",
       "    </tr>\n",
       "    <tr>\n",
       "      <th>2012</th>\n",
       "      <td>1696</td>\n",
       "    </tr>\n",
       "    <tr>\n",
       "      <th>2013</th>\n",
       "      <td>2354</td>\n",
       "    </tr>\n",
       "    <tr>\n",
       "      <th>2014</th>\n",
       "      <td>5746</td>\n",
       "    </tr>\n",
       "    <tr>\n",
       "      <th>2015</th>\n",
       "      <td>5492</td>\n",
       "    </tr>\n",
       "    <tr>\n",
       "      <th>2016</th>\n",
       "      <td>5029</td>\n",
       "    </tr>\n",
       "    <tr>\n",
       "      <th>2017</th>\n",
       "      <td>2190</td>\n",
       "    </tr>\n",
       "    <tr>\n",
       "      <th>2018</th>\n",
       "      <td>5354</td>\n",
       "    </tr>\n",
       "    <tr>\n",
       "      <th>2019</th>\n",
       "      <td>3181</td>\n",
       "    </tr>\n",
       "    <tr>\n",
       "      <th>2020</th>\n",
       "      <td>1142</td>\n",
       "    </tr>\n",
       "  </tbody>\n",
       "</table>\n",
       "</div>"
      ],
      "text/plain": [
       "       AMP\n",
       "TM        \n",
       "2008  3960\n",
       "2009  2211\n",
       "2010  1631\n",
       "2011  1133\n",
       "2012  1696\n",
       "2013  2354\n",
       "2014  5746\n",
       "2015  5492\n",
       "2016  5029\n",
       "2017  2190\n",
       "2018  5354\n",
       "2019  3181\n",
       "2020  1142"
      ]
     },
     "execution_count": 38,
     "metadata": {},
     "output_type": "execute_result"
    }
   ],
   "source": [
    "sta = 'YSSY'\n",
    "gpats_file = os.path.join(cur_dir, f'gpats_{sta}_10NM.csv')\n",
    "df = pd.read_csv(gpats_file, parse_dates=True, index_col='TM')\n",
    "\n",
    "months = df.index.strftime('%b')\n",
    "years = df.index.strftime('%Y')\n",
    "unique_years = pd.Series( df.index.strftime('%Y')).unique()\n",
    "print(f\"Unique years in dataset = {unique_years}\")\n",
    "# Get TS days per year, 1st the silly way\n",
    "pd.Series(years).value_counts().sort_index()\n",
    "\n",
    "# smarter way (note both are wrong ways to do this!)\n",
    "yearly_gpats = df.groupby(df.index.year)[['AMP']].agg('count')\n",
    "yearly_gpats\n"
   ]
  },
  {
   "cell_type": "code",
   "execution_count": 39,
   "metadata": {},
   "outputs": [
    {
     "name": "stdout",
     "output_type": "stream",
     "text": [
      "TM\n",
      "2020-01-06      8\n",
      "2020-01-07     42\n",
      "2020-01-15     19\n",
      "2020-01-16      3\n",
      "2020-01-20    106\n",
      "2020-01-23      8\n",
      "2020-01-26     27\n",
      "2020-02-02     54\n",
      "2020-02-15     10\n",
      "2020-02-18     65\n",
      "2020-04-10      2\n",
      "2020-04-30      5\n",
      "2020-05-13     13\n",
      "2020-05-21     24\n",
      "2020-06-07      4\n",
      "2020-06-21      3\n",
      "2020-07-02      2\n",
      "2020-07-12      6\n",
      "2020-07-13      4\n",
      "2020-08-12      5\n",
      "2020-09-04      3\n",
      "2020-09-21     11\n",
      "Name: AMP, dtype: int64\n",
      "\n",
      "Storm days Sydney by year\n",
      "       count\n",
      "TM         \n",
      "2008     34\n",
      "2009     29\n",
      "2010     29\n",
      "2011     26\n",
      "2012     28\n",
      "2013     29\n",
      "2014     39\n",
      "2015     42\n",
      "2016     23\n",
      "2017     30\n",
      "2018     30\n",
      "2019     23\n",
      "2020     22\n",
      "\n",
      "Total Number of storms days Sydney from Feb-2008 to Sep-2020 : 384 days\n",
      "\n",
      "Annual Average TS days in Sydney : 29.53846153846154\n",
      "See also - http://www.bom.gov.au/jsp/ncc/climate_averages/thunder-lightning/index.jsp\n"
     ]
    }
   ],
   "source": [
    "'''\n",
    "Note we can't compare like this across years as some years get more active/severe storms so higher gpats count. \n",
    "We only interested in how many storm days (not the severity as in how many gpats strikes were recorded on the day)\n",
    "'''\n",
    "sta = 'YSSY'\n",
    "gpats_file = os.path.join(cur_dir, f'gpats_{sta}_10NM.csv')\n",
    "df = pd.read_csv(gpats_file, parse_dates=True, index_col='TM').resample('1min')\\\n",
    "          .agg(dict(LATITUDE='mean', LONGITUDE='mean', AMP='count'))\\\n",
    "          .dropna()\n",
    "tmp = df.resample('D')['AMP'].count()\n",
    "ts_days = tmp.loc[tmp>1]\n",
    "# we assume we need more than one gpats in a given day to count it as a ts day\n",
    "print(ts_days.loc['2020':]) # storm days/dates 2020\n",
    "# many days with only 2 or 3 gpats - cross check with manual obs and see if all okay\n",
    "\n",
    "ts_days_by_year = ts_days.groupby(ts_days.index.year).count()\\\n",
    "    .to_frame()\\\n",
    "    .rename(columns = {'AMP':'count'})\n",
    "\n",
    "num_years = len(pd.Series( df.index.strftime('%Y')).unique()) # number of years in dataset\n",
    "print(\"\\nStorm days Sydney by year\\n\",ts_days_by_year)\n",
    "print(f\"\\nTotal Number of storms days Sydney from \\\n",
    "{df.index[0].strftime('%b-%Y')} to {df.index[-1].strftime('%b-%Y')} : \\\n",
    "{ts_days_by_year.sum().values[0]} days\")\n",
    "\n",
    "print(f\"\\nAnnual Average TS days in Sydney : {(ts_days_by_year.sum().values[0])/num_years}\")\n",
    "\n",
    "print(\"See also - http://www.bom.gov.au/jsp/ncc/climate_averages/thunder-lightning/index.jsp\")\n",
    "# meaningless\n",
    "# ts_days_by_year/len(pd.Series( df.index.strftime('%Y')).unique())\n"
   ]
  },
  {
   "cell_type": "code",
   "execution_count": 40,
   "metadata": {},
   "outputs": [
    {
     "data": {
      "text/html": [
       "<div>\n",
       "<style scoped>\n",
       "    .dataframe tbody tr th:only-of-type {\n",
       "        vertical-align: middle;\n",
       "    }\n",
       "\n",
       "    .dataframe tbody tr th {\n",
       "        vertical-align: top;\n",
       "    }\n",
       "\n",
       "    .dataframe thead th {\n",
       "        text-align: right;\n",
       "    }\n",
       "</style>\n",
       "<table border=\"1\" class=\"dataframe\">\n",
       "  <thead>\n",
       "    <tr style=\"text-align: right;\">\n",
       "      <th></th>\n",
       "      <th>count</th>\n",
       "    </tr>\n",
       "    <tr>\n",
       "      <th>TM</th>\n",
       "      <th></th>\n",
       "    </tr>\n",
       "  </thead>\n",
       "  <tbody>\n",
       "    <tr>\n",
       "      <th>Jan</th>\n",
       "      <td>47</td>\n",
       "    </tr>\n",
       "    <tr>\n",
       "      <th>Feb</th>\n",
       "      <td>44</td>\n",
       "    </tr>\n",
       "    <tr>\n",
       "      <th>Mar</th>\n",
       "      <td>44</td>\n",
       "    </tr>\n",
       "    <tr>\n",
       "      <th>Apr</th>\n",
       "      <td>31</td>\n",
       "    </tr>\n",
       "    <tr>\n",
       "      <th>May</th>\n",
       "      <td>17</td>\n",
       "    </tr>\n",
       "    <tr>\n",
       "      <th>Jun</th>\n",
       "      <td>21</td>\n",
       "    </tr>\n",
       "    <tr>\n",
       "      <th>Jul</th>\n",
       "      <td>16</td>\n",
       "    </tr>\n",
       "    <tr>\n",
       "      <th>Aug</th>\n",
       "      <td>13</td>\n",
       "    </tr>\n",
       "    <tr>\n",
       "      <th>Sep</th>\n",
       "      <td>19</td>\n",
       "    </tr>\n",
       "    <tr>\n",
       "      <th>Oct</th>\n",
       "      <td>38</td>\n",
       "    </tr>\n",
       "    <tr>\n",
       "      <th>Nov</th>\n",
       "      <td>47</td>\n",
       "    </tr>\n",
       "    <tr>\n",
       "      <th>Dec</th>\n",
       "      <td>47</td>\n",
       "    </tr>\n",
       "  </tbody>\n",
       "</table>\n",
       "</div>"
      ],
      "text/plain": [
       "     count\n",
       "TM        \n",
       "Jan     47\n",
       "Feb     44\n",
       "Mar     44\n",
       "Apr     31\n",
       "May     17\n",
       "Jun     21\n",
       "Jul     16\n",
       "Aug     13\n",
       "Sep     19\n",
       "Oct     38\n",
       "Nov     47\n",
       "Dec     47"
      ]
     },
     "execution_count": 40,
     "metadata": {},
     "output_type": "execute_result"
    }
   ],
   "source": [
    "ts_days_by_month = ts_days.groupby(ts_days.index.month).count().to_frame()\\\n",
    "    .rename(columns = {'AMP':'count'})\n",
    "\n",
    "maps = {1:'Jan',2:'Feb',3:'Mar',4:'Apr',5:'May',6:'Jun',\\\n",
    "    7:'Jul',8:'Aug', 9:'Sep', 10:'Oct',11:'Nov',12:'Dec'}   \n",
    "\n",
    "# better not to crate dict mapping manually - use zip like this\n",
    "month_map = dict(zip(ts_days.index.month.unique(),\\\n",
    "     ts_days.index.strftime('%b').unique()))\n",
    "\n",
    "ts_days_by_month.rename(mapper=month_map, axis='index',inplace=True)\n",
    "#print(ts_days_by_month.rename(mapper=maps, axis='index'))  # just checked out correct as\n",
    "ts_days_by_month\n"
   ]
  },
  {
   "cell_type": "code",
   "execution_count": 41,
   "metadata": {},
   "outputs": [
    {
     "data": {
      "text/plain": [
       "True"
      ]
     },
     "execution_count": 41,
     "metadata": {},
     "output_type": "execute_result"
    }
   ],
   "source": [
    "# check that year and month sums/counts checks out\n",
    "ts_days_by_month.sum()[0]==ts_days_by_year.sum()[0]"
   ]
  },
  {
   "cell_type": "code",
   "execution_count": 42,
   "metadata": {},
   "outputs": [
    {
     "name": "stdout",
     "output_type": "stream",
     "text": [
      "Average Thunder days by month\n",
      "         count\n",
      "TM           \n",
      "Jan  3.615385\n",
      "Feb  3.384615\n",
      "Mar  3.384615\n",
      "Apr  2.384615\n",
      "May  1.307692\n",
      "Jun  1.615385\n",
      "Jul  1.230769\n",
      "Aug  1.000000\n",
      "Sep  1.461538\n",
      "Oct  2.923077\n",
      "Nov  3.615385\n",
      "Dec  3.615385\n"
     ]
    }
   ],
   "source": [
    "print(f\"Average Thunder days by month\\n {ts_days_by_month/num_years}\")"
   ]
  },
  {
   "cell_type": "code",
   "execution_count": 43,
   "metadata": {},
   "outputs": [
    {
     "name": "stderr",
     "output_type": "stream",
     "text": [
      "/home/accounts/qdisplay/avguide/utility_functions_sep2018.py:713: FutureWarning: using a dict with renaming is deprecated and will be removed in a future version\n",
      "  daily = gpats.resample('D').apply(aggregator).dropna()\n"
     ]
    }
   ],
   "source": [
    "sta = 'YSSY'\n",
    "gpats_file = os.path.join(cur_dir, f'gpats_{sta}_10NM.csv')\n",
    "gpats = pd.read_csv(gpats_file,parse_dates=True, index_col='TM').resample('1min')\\\n",
    "          .agg(dict(LATITUDE='mean', LONGITUDE='mean', AMP='count'))\\\n",
    "          .dropna()\n",
    "yssy_times = bous.get_gpats_start_end_duration(gpats)[['first','last']]\n",
    "\n",
    "sta = 'YSRI'\n",
    "gpats_file = os.path.join(cur_dir, f'gpats_{sta}_10NM.csv')\n",
    "gpats = pd.read_csv(gpats_file,parse_dates=True, index_col='TM').resample('1min')\\\n",
    "          .agg(dict(LATITUDE='mean', LONGITUDE='mean', AMP='count'))\\\n",
    "          .dropna()\n",
    "ysri_times = bous.get_gpats_start_end_duration(gpats)[['first','last']]"
   ]
  },
  {
   "cell_type": "code",
   "execution_count": 44,
   "metadata": {},
   "outputs": [
    {
     "data": {
      "text/plain": [
       "(DatetimeIndex(['2008-02-26', '2008-02-27', '2008-03-07', '2008-03-24',\n",
       "                '2008-03-25', '2008-03-28', '2008-04-07', '2008-04-13',\n",
       "                '2008-05-13', '2008-06-19',\n",
       "                ...\n",
       "                '2020-02-18', '2020-02-26', '2020-03-25', '2020-04-10',\n",
       "                '2020-04-29', '2020-05-21', '2020-07-13', '2020-08-08',\n",
       "                '2020-08-12', '2020-09-04'],\n",
       "               dtype='datetime64[ns]', name='TM', length=384, freq=None),\n",
       "                          first                last\n",
       " TM                                                \n",
       " 2020-05-21 2020-05-21 08:12:00 2020-05-21 09:04:00\n",
       " 2020-07-13 2020-07-13 07:50:00 2020-07-13 13:08:00\n",
       " 2020-08-08 2020-08-08 08:51:00 2020-08-08 09:07:00\n",
       " 2020-08-12 2020-08-12 08:43:00 2020-08-12 09:04:00\n",
       " 2020-09-04 2020-09-04 10:25:00 2020-09-04 10:51:00,\n",
       "                          first                last\n",
       " TM                                                \n",
       " 2020-07-12 2020-07-12 05:53:00 2020-07-12 13:58:00\n",
       " 2020-07-13 2020-07-13 09:52:00 2020-07-13 11:11:00\n",
       " 2020-08-12 2020-08-12 09:24:00 2020-08-12 10:08:00\n",
       " 2020-09-04 2020-09-04 09:05:00 2020-09-04 11:18:00\n",
       " 2020-09-21 2020-09-21 10:35:00 2020-09-21 11:28:00)"
      ]
     },
     "execution_count": 44,
     "metadata": {},
     "output_type": "execute_result"
    }
   ],
   "source": [
    "ysri_times.index,ysri_times.tail(),yssy_times.tail()"
   ]
  },
  {
   "cell_type": "code",
   "execution_count": 45,
   "metadata": {},
   "outputs": [
    {
     "data": {
      "text/html": [
       "<div>\n",
       "<style scoped>\n",
       "    .dataframe tbody tr th:only-of-type {\n",
       "        vertical-align: middle;\n",
       "    }\n",
       "\n",
       "    .dataframe tbody tr th {\n",
       "        vertical-align: top;\n",
       "    }\n",
       "\n",
       "    .dataframe thead th {\n",
       "        text-align: right;\n",
       "    }\n",
       "</style>\n",
       "<table border=\"1\" class=\"dataframe\">\n",
       "  <thead>\n",
       "    <tr style=\"text-align: right;\">\n",
       "      <th></th>\n",
       "      <th>ysri_start</th>\n",
       "      <th>ysri_last</th>\n",
       "      <th>yssy_start</th>\n",
       "      <th>yssy_last</th>\n",
       "    </tr>\n",
       "    <tr>\n",
       "      <th>TM</th>\n",
       "      <th></th>\n",
       "      <th></th>\n",
       "      <th></th>\n",
       "      <th></th>\n",
       "    </tr>\n",
       "  </thead>\n",
       "  <tbody>\n",
       "    <tr>\n",
       "      <th>2008-02-26</th>\n",
       "      <td>2008-02-26 04:08:00</td>\n",
       "      <td>2008-02-26 16:28:00</td>\n",
       "      <td>2008-02-26 06:13:00</td>\n",
       "      <td>2008-02-26 20:29:00</td>\n",
       "    </tr>\n",
       "    <tr>\n",
       "      <th>2008-02-27</th>\n",
       "      <td>2008-02-27 07:24:00</td>\n",
       "      <td>2008-02-27 23:47:00</td>\n",
       "      <td>2008-02-27 07:53:00</td>\n",
       "      <td>2008-02-27 23:58:00</td>\n",
       "    </tr>\n",
       "    <tr>\n",
       "      <th>2008-03-07</th>\n",
       "      <td>2008-03-07 08:46:00</td>\n",
       "      <td>2008-03-07 13:21:00</td>\n",
       "      <td>2008-03-07 08:38:00</td>\n",
       "      <td>2008-03-07 10:58:00</td>\n",
       "    </tr>\n",
       "    <tr>\n",
       "      <th>2008-03-25</th>\n",
       "      <td>2008-03-25 10:47:00</td>\n",
       "      <td>2008-03-25 11:08:00</td>\n",
       "      <td>2008-03-25 05:19:00</td>\n",
       "      <td>2008-03-25 12:19:00</td>\n",
       "    </tr>\n",
       "    <tr>\n",
       "      <th>2008-04-13</th>\n",
       "      <td>2008-04-13 01:34:00</td>\n",
       "      <td>2008-04-13 09:51:00</td>\n",
       "      <td>2008-04-13 02:12:00</td>\n",
       "      <td>2008-04-13 09:38:00</td>\n",
       "    </tr>\n",
       "    <tr>\n",
       "      <th>2008-05-13</th>\n",
       "      <td>2008-05-13 03:17:00</td>\n",
       "      <td>2008-05-13 04:33:00</td>\n",
       "      <td>2008-05-13 03:44:00</td>\n",
       "      <td>2008-05-13 04:15:00</td>\n",
       "    </tr>\n",
       "    <tr>\n",
       "      <th>2008-06-19</th>\n",
       "      <td>2008-06-19 06:35:00</td>\n",
       "      <td>2008-06-19 08:19:00</td>\n",
       "      <td>2008-06-19 08:16:00</td>\n",
       "      <td>2008-06-19 17:51:00</td>\n",
       "    </tr>\n",
       "    <tr>\n",
       "      <th>2008-07-27</th>\n",
       "      <td>2008-07-27 02:41:00</td>\n",
       "      <td>2008-07-27 09:18:00</td>\n",
       "      <td>2008-07-27 05:04:00</td>\n",
       "      <td>2008-07-27 12:29:00</td>\n",
       "    </tr>\n",
       "    <tr>\n",
       "      <th>2008-08-07</th>\n",
       "      <td>2008-08-07 03:16:00</td>\n",
       "      <td>2008-08-07 04:13:00</td>\n",
       "      <td>2008-08-07 04:28:00</td>\n",
       "      <td>2008-08-07 05:38:00</td>\n",
       "    </tr>\n",
       "    <tr>\n",
       "      <th>2008-08-22</th>\n",
       "      <td>2008-08-22 02:46:00</td>\n",
       "      <td>2008-08-22 03:11:00</td>\n",
       "      <td>2008-08-22 00:05:00</td>\n",
       "      <td>2008-08-22 01:51:00</td>\n",
       "    </tr>\n",
       "    <tr>\n",
       "      <th>2008-09-14</th>\n",
       "      <td>2008-09-14 06:37:00</td>\n",
       "      <td>2008-09-14 07:01:00</td>\n",
       "      <td>2008-09-14 04:10:00</td>\n",
       "      <td>2008-09-14 07:16:00</td>\n",
       "    </tr>\n",
       "    <tr>\n",
       "      <th>2008-10-03</th>\n",
       "      <td>2008-10-03 10:59:00</td>\n",
       "      <td>2008-10-03 21:28:00</td>\n",
       "      <td>2008-10-03 12:03:00</td>\n",
       "      <td>2008-10-03 20:07:00</td>\n",
       "    </tr>\n",
       "    <tr>\n",
       "      <th>2008-10-04</th>\n",
       "      <td>2008-10-04 15:56:00</td>\n",
       "      <td>2008-10-04 22:16:00</td>\n",
       "      <td>2008-10-04 17:47:00</td>\n",
       "      <td>2008-10-04 22:51:00</td>\n",
       "    </tr>\n",
       "    <tr>\n",
       "      <th>2008-10-19</th>\n",
       "      <td>2008-10-19 04:42:00</td>\n",
       "      <td>2008-10-19 07:42:00</td>\n",
       "      <td>2008-10-19 06:18:00</td>\n",
       "      <td>2008-10-19 06:44:00</td>\n",
       "    </tr>\n",
       "    <tr>\n",
       "      <th>2008-10-20</th>\n",
       "      <td>2008-10-20 05:01:00</td>\n",
       "      <td>2008-10-20 08:03:00</td>\n",
       "      <td>2008-10-20 07:33:00</td>\n",
       "      <td>2008-10-20 09:00:00</td>\n",
       "    </tr>\n",
       "    <tr>\n",
       "      <th>2008-11-14</th>\n",
       "      <td>2008-11-14 08:23:00</td>\n",
       "      <td>2008-11-14 10:24:00</td>\n",
       "      <td>2008-11-14 07:59:00</td>\n",
       "      <td>2008-11-14 09:27:00</td>\n",
       "    </tr>\n",
       "    <tr>\n",
       "      <th>2008-11-19</th>\n",
       "      <td>2008-11-19 11:23:00</td>\n",
       "      <td>2008-11-19 12:44:00</td>\n",
       "      <td>2008-11-19 12:52:00</td>\n",
       "      <td>2008-11-19 14:27:00</td>\n",
       "    </tr>\n",
       "    <tr>\n",
       "      <th>2008-11-20</th>\n",
       "      <td>2008-11-20 01:35:00</td>\n",
       "      <td>2008-11-20 02:08:00</td>\n",
       "      <td>2008-11-20 01:03:00</td>\n",
       "      <td>2008-11-20 02:00:00</td>\n",
       "    </tr>\n",
       "    <tr>\n",
       "      <th>2008-11-28</th>\n",
       "      <td>2008-11-28 01:19:00</td>\n",
       "      <td>2008-11-28 06:04:00</td>\n",
       "      <td>2008-11-28 06:11:00</td>\n",
       "      <td>2008-11-28 06:27:00</td>\n",
       "    </tr>\n",
       "    <tr>\n",
       "      <th>2008-12-08</th>\n",
       "      <td>2008-12-08 02:31:00</td>\n",
       "      <td>2008-12-08 03:56:00</td>\n",
       "      <td>2008-12-08 04:21:00</td>\n",
       "      <td>2008-12-08 05:20:00</td>\n",
       "    </tr>\n",
       "    <tr>\n",
       "      <th>2008-12-18</th>\n",
       "      <td>2008-12-18 12:02:00</td>\n",
       "      <td>2008-12-18 12:21:00</td>\n",
       "      <td>2008-12-18 10:35:00</td>\n",
       "      <td>2008-12-18 10:52:00</td>\n",
       "    </tr>\n",
       "    <tr>\n",
       "      <th>2008-12-27</th>\n",
       "      <td>2008-12-27 05:07:00</td>\n",
       "      <td>2008-12-27 05:41:00</td>\n",
       "      <td>2008-12-27 06:03:00</td>\n",
       "      <td>2008-12-27 07:15:00</td>\n",
       "    </tr>\n",
       "    <tr>\n",
       "      <th>2009-01-07</th>\n",
       "      <td>2009-01-07 03:46:00</td>\n",
       "      <td>2009-01-07 05:06:00</td>\n",
       "      <td>2009-01-07 04:48:00</td>\n",
       "      <td>2009-01-07 05:52:00</td>\n",
       "    </tr>\n",
       "    <tr>\n",
       "      <th>2009-01-15</th>\n",
       "      <td>2009-01-15 03:53:00</td>\n",
       "      <td>2009-01-15 09:53:00</td>\n",
       "      <td>2009-01-15 03:15:00</td>\n",
       "      <td>2009-01-15 10:55:00</td>\n",
       "    </tr>\n",
       "    <tr>\n",
       "      <th>2009-01-21</th>\n",
       "      <td>2009-01-21 05:14:00</td>\n",
       "      <td>2009-01-21 09:13:00</td>\n",
       "      <td>2009-01-21 05:45:00</td>\n",
       "      <td>2009-01-21 07:51:00</td>\n",
       "    </tr>\n",
       "    <tr>\n",
       "      <th>2009-02-19</th>\n",
       "      <td>2009-02-19 02:13:00</td>\n",
       "      <td>2009-02-19 04:31:00</td>\n",
       "      <td>2009-02-19 04:23:00</td>\n",
       "      <td>2009-02-19 04:41:00</td>\n",
       "    </tr>\n",
       "    <tr>\n",
       "      <th>2009-02-21</th>\n",
       "      <td>2009-02-21 01:37:00</td>\n",
       "      <td>2009-02-21 05:30:00</td>\n",
       "      <td>2009-02-21 00:57:00</td>\n",
       "      <td>2009-02-21 02:01:00</td>\n",
       "    </tr>\n",
       "    <tr>\n",
       "      <th>2009-02-23</th>\n",
       "      <td>2009-02-23 04:18:00</td>\n",
       "      <td>2009-02-23 09:56:00</td>\n",
       "      <td>2009-02-23 09:32:00</td>\n",
       "      <td>2009-02-23 10:20:00</td>\n",
       "    </tr>\n",
       "    <tr>\n",
       "      <th>2009-03-14</th>\n",
       "      <td>2009-03-14 07:28:00</td>\n",
       "      <td>2009-03-14 09:03:00</td>\n",
       "      <td>2009-03-14 06:03:00</td>\n",
       "      <td>2009-03-14 09:53:00</td>\n",
       "    </tr>\n",
       "    <tr>\n",
       "      <th>2009-03-23</th>\n",
       "      <td>2009-03-23 06:38:00</td>\n",
       "      <td>2009-03-23 08:34:00</td>\n",
       "      <td>2009-03-23 09:49:00</td>\n",
       "      <td>2009-03-23 10:00:00</td>\n",
       "    </tr>\n",
       "    <tr>\n",
       "      <th>...</th>\n",
       "      <td>...</td>\n",
       "      <td>...</td>\n",
       "      <td>...</td>\n",
       "      <td>...</td>\n",
       "    </tr>\n",
       "    <tr>\n",
       "      <th>2018-12-20</th>\n",
       "      <td>2018-12-20 05:11:00</td>\n",
       "      <td>2018-12-20 08:13:00</td>\n",
       "      <td>2018-12-20 05:23:00</td>\n",
       "      <td>2018-12-20 09:05:00</td>\n",
       "    </tr>\n",
       "    <tr>\n",
       "      <th>2018-12-31</th>\n",
       "      <td>2018-12-31 06:11:00</td>\n",
       "      <td>2018-12-31 09:50:00</td>\n",
       "      <td>2018-12-31 05:41:00</td>\n",
       "      <td>2018-12-31 08:46:00</td>\n",
       "    </tr>\n",
       "    <tr>\n",
       "      <th>2019-01-05</th>\n",
       "      <td>2019-01-05 03:09:00</td>\n",
       "      <td>2019-01-05 09:06:00</td>\n",
       "      <td>2019-01-05 03:16:00</td>\n",
       "      <td>2019-01-05 11:17:00</td>\n",
       "    </tr>\n",
       "    <tr>\n",
       "      <th>2019-01-10</th>\n",
       "      <td>2019-01-10 08:30:00</td>\n",
       "      <td>2019-01-10 09:42:00</td>\n",
       "      <td>2019-01-10 10:01:00</td>\n",
       "      <td>2019-01-10 10:47:00</td>\n",
       "    </tr>\n",
       "    <tr>\n",
       "      <th>2019-01-20</th>\n",
       "      <td>2019-01-20 13:34:00</td>\n",
       "      <td>2019-01-20 17:37:00</td>\n",
       "      <td>2019-01-20 14:18:00</td>\n",
       "      <td>2019-01-20 17:29:00</td>\n",
       "    </tr>\n",
       "    <tr>\n",
       "      <th>2019-01-22</th>\n",
       "      <td>2019-01-22 21:13:00</td>\n",
       "      <td>2019-01-22 22:16:00</td>\n",
       "      <td>2019-01-22 20:18:00</td>\n",
       "      <td>2019-01-22 22:08:00</td>\n",
       "    </tr>\n",
       "    <tr>\n",
       "      <th>2019-01-27</th>\n",
       "      <td>2019-01-27 06:21:00</td>\n",
       "      <td>2019-01-27 12:25:00</td>\n",
       "      <td>2019-01-27 05:39:00</td>\n",
       "      <td>2019-01-27 12:53:00</td>\n",
       "    </tr>\n",
       "    <tr>\n",
       "      <th>2019-02-08</th>\n",
       "      <td>2019-02-08 06:17:00</td>\n",
       "      <td>2019-02-08 08:43:00</td>\n",
       "      <td>2019-02-08 06:31:00</td>\n",
       "      <td>2019-02-08 08:59:00</td>\n",
       "    </tr>\n",
       "    <tr>\n",
       "      <th>2019-03-06</th>\n",
       "      <td>2019-03-06 02:41:00</td>\n",
       "      <td>2019-03-06 04:23:00</td>\n",
       "      <td>2019-03-06 03:05:00</td>\n",
       "      <td>2019-03-06 04:36:00</td>\n",
       "    </tr>\n",
       "    <tr>\n",
       "      <th>2019-03-14</th>\n",
       "      <td>2019-03-14 05:49:00</td>\n",
       "      <td>2019-03-14 11:22:00</td>\n",
       "      <td>2019-03-14 02:28:00</td>\n",
       "      <td>2019-03-14 12:04:00</td>\n",
       "    </tr>\n",
       "    <tr>\n",
       "      <th>2019-03-22</th>\n",
       "      <td>2019-03-22 05:17:00</td>\n",
       "      <td>2019-03-22 06:58:00</td>\n",
       "      <td>2019-03-22 06:41:00</td>\n",
       "      <td>2019-03-22 14:13:00</td>\n",
       "    </tr>\n",
       "    <tr>\n",
       "      <th>2019-03-23</th>\n",
       "      <td>2019-03-23 07:36:00</td>\n",
       "      <td>2019-03-23 10:21:00</td>\n",
       "      <td>2019-03-23 08:28:00</td>\n",
       "      <td>2019-03-23 08:41:00</td>\n",
       "    </tr>\n",
       "    <tr>\n",
       "      <th>2019-11-22</th>\n",
       "      <td>2019-11-22 03:13:00</td>\n",
       "      <td>2019-11-22 07:04:00</td>\n",
       "      <td>2019-11-22 05:37:00</td>\n",
       "      <td>2019-11-22 07:13:00</td>\n",
       "    </tr>\n",
       "    <tr>\n",
       "      <th>2019-11-25</th>\n",
       "      <td>2019-11-25 03:49:00</td>\n",
       "      <td>2019-11-25 17:16:00</td>\n",
       "      <td>2019-11-25 04:04:00</td>\n",
       "      <td>2019-11-25 18:26:00</td>\n",
       "    </tr>\n",
       "    <tr>\n",
       "      <th>2019-11-26</th>\n",
       "      <td>2019-11-26 01:11:00</td>\n",
       "      <td>2019-11-26 01:57:00</td>\n",
       "      <td>2019-11-26 00:59:00</td>\n",
       "      <td>2019-11-26 02:40:00</td>\n",
       "    </tr>\n",
       "    <tr>\n",
       "      <th>2020-01-06</th>\n",
       "      <td>2020-01-06 05:24:00</td>\n",
       "      <td>2020-01-06 19:02:00</td>\n",
       "      <td>2020-01-06 05:09:00</td>\n",
       "      <td>2020-01-06 07:46:00</td>\n",
       "    </tr>\n",
       "    <tr>\n",
       "      <th>2020-01-07</th>\n",
       "      <td>2020-01-07 07:49:00</td>\n",
       "      <td>2020-01-07 14:02:00</td>\n",
       "      <td>2020-01-07 12:28:00</td>\n",
       "      <td>2020-01-07 14:46:00</td>\n",
       "    </tr>\n",
       "    <tr>\n",
       "      <th>2020-01-15</th>\n",
       "      <td>2020-01-15 17:37:00</td>\n",
       "      <td>2020-01-15 21:35:00</td>\n",
       "      <td>2020-01-15 19:13:00</td>\n",
       "      <td>2020-01-15 21:21:00</td>\n",
       "    </tr>\n",
       "    <tr>\n",
       "      <th>2020-01-16</th>\n",
       "      <td>2020-01-16 08:34:00</td>\n",
       "      <td>2020-01-16 08:53:00</td>\n",
       "      <td>2020-01-16 20:48:00</td>\n",
       "      <td>2020-01-16 22:55:00</td>\n",
       "    </tr>\n",
       "    <tr>\n",
       "      <th>2020-01-20</th>\n",
       "      <td>2020-01-20 03:13:00</td>\n",
       "      <td>2020-01-20 06:04:00</td>\n",
       "      <td>2020-01-20 04:02:00</td>\n",
       "      <td>2020-01-20 09:04:00</td>\n",
       "    </tr>\n",
       "    <tr>\n",
       "      <th>2020-01-23</th>\n",
       "      <td>2020-01-23 19:52:00</td>\n",
       "      <td>2020-01-23 22:28:00</td>\n",
       "      <td>2020-01-23 11:09:00</td>\n",
       "      <td>2020-01-23 23:04:00</td>\n",
       "    </tr>\n",
       "    <tr>\n",
       "      <th>2020-01-26</th>\n",
       "      <td>2020-01-26 02:38:00</td>\n",
       "      <td>2020-01-26 08:09:00</td>\n",
       "      <td>2020-01-26 04:22:00</td>\n",
       "      <td>2020-01-26 05:17:00</td>\n",
       "    </tr>\n",
       "    <tr>\n",
       "      <th>2020-02-02</th>\n",
       "      <td>2020-02-02 04:40:00</td>\n",
       "      <td>2020-02-02 08:32:00</td>\n",
       "      <td>2020-02-02 06:05:00</td>\n",
       "      <td>2020-02-02 09:11:00</td>\n",
       "    </tr>\n",
       "    <tr>\n",
       "      <th>2020-02-15</th>\n",
       "      <td>2020-02-15 05:06:00</td>\n",
       "      <td>2020-02-15 09:05:00</td>\n",
       "      <td>2020-02-15 07:36:00</td>\n",
       "      <td>2020-02-15 09:03:00</td>\n",
       "    </tr>\n",
       "    <tr>\n",
       "      <th>2020-02-18</th>\n",
       "      <td>2020-02-18 05:32:00</td>\n",
       "      <td>2020-02-18 12:09:00</td>\n",
       "      <td>2020-02-18 11:10:00</td>\n",
       "      <td>2020-02-18 12:37:00</td>\n",
       "    </tr>\n",
       "    <tr>\n",
       "      <th>2020-04-10</th>\n",
       "      <td>2020-04-10 07:58:00</td>\n",
       "      <td>2020-04-10 08:03:00</td>\n",
       "      <td>2020-04-10 07:02:00</td>\n",
       "      <td>2020-04-10 07:54:00</td>\n",
       "    </tr>\n",
       "    <tr>\n",
       "      <th>2020-05-21</th>\n",
       "      <td>2020-05-21 08:12:00</td>\n",
       "      <td>2020-05-21 09:04:00</td>\n",
       "      <td>2020-05-21 08:02:00</td>\n",
       "      <td>2020-05-21 10:12:00</td>\n",
       "    </tr>\n",
       "    <tr>\n",
       "      <th>2020-07-13</th>\n",
       "      <td>2020-07-13 07:50:00</td>\n",
       "      <td>2020-07-13 13:08:00</td>\n",
       "      <td>2020-07-13 09:52:00</td>\n",
       "      <td>2020-07-13 11:11:00</td>\n",
       "    </tr>\n",
       "    <tr>\n",
       "      <th>2020-08-12</th>\n",
       "      <td>2020-08-12 08:43:00</td>\n",
       "      <td>2020-08-12 09:04:00</td>\n",
       "      <td>2020-08-12 09:24:00</td>\n",
       "      <td>2020-08-12 10:08:00</td>\n",
       "    </tr>\n",
       "    <tr>\n",
       "      <th>2020-09-04</th>\n",
       "      <td>2020-09-04 10:25:00</td>\n",
       "      <td>2020-09-04 10:51:00</td>\n",
       "      <td>2020-09-04 09:05:00</td>\n",
       "      <td>2020-09-04 11:18:00</td>\n",
       "    </tr>\n",
       "  </tbody>\n",
       "</table>\n",
       "<p>238 rows × 4 columns</p>\n",
       "</div>"
      ],
      "text/plain": [
       "                    ysri_start           ysri_last          yssy_start  \\\n",
       "TM                                                                       \n",
       "2008-02-26 2008-02-26 04:08:00 2008-02-26 16:28:00 2008-02-26 06:13:00   \n",
       "2008-02-27 2008-02-27 07:24:00 2008-02-27 23:47:00 2008-02-27 07:53:00   \n",
       "2008-03-07 2008-03-07 08:46:00 2008-03-07 13:21:00 2008-03-07 08:38:00   \n",
       "2008-03-25 2008-03-25 10:47:00 2008-03-25 11:08:00 2008-03-25 05:19:00   \n",
       "2008-04-13 2008-04-13 01:34:00 2008-04-13 09:51:00 2008-04-13 02:12:00   \n",
       "2008-05-13 2008-05-13 03:17:00 2008-05-13 04:33:00 2008-05-13 03:44:00   \n",
       "2008-06-19 2008-06-19 06:35:00 2008-06-19 08:19:00 2008-06-19 08:16:00   \n",
       "2008-07-27 2008-07-27 02:41:00 2008-07-27 09:18:00 2008-07-27 05:04:00   \n",
       "2008-08-07 2008-08-07 03:16:00 2008-08-07 04:13:00 2008-08-07 04:28:00   \n",
       "2008-08-22 2008-08-22 02:46:00 2008-08-22 03:11:00 2008-08-22 00:05:00   \n",
       "2008-09-14 2008-09-14 06:37:00 2008-09-14 07:01:00 2008-09-14 04:10:00   \n",
       "2008-10-03 2008-10-03 10:59:00 2008-10-03 21:28:00 2008-10-03 12:03:00   \n",
       "2008-10-04 2008-10-04 15:56:00 2008-10-04 22:16:00 2008-10-04 17:47:00   \n",
       "2008-10-19 2008-10-19 04:42:00 2008-10-19 07:42:00 2008-10-19 06:18:00   \n",
       "2008-10-20 2008-10-20 05:01:00 2008-10-20 08:03:00 2008-10-20 07:33:00   \n",
       "2008-11-14 2008-11-14 08:23:00 2008-11-14 10:24:00 2008-11-14 07:59:00   \n",
       "2008-11-19 2008-11-19 11:23:00 2008-11-19 12:44:00 2008-11-19 12:52:00   \n",
       "2008-11-20 2008-11-20 01:35:00 2008-11-20 02:08:00 2008-11-20 01:03:00   \n",
       "2008-11-28 2008-11-28 01:19:00 2008-11-28 06:04:00 2008-11-28 06:11:00   \n",
       "2008-12-08 2008-12-08 02:31:00 2008-12-08 03:56:00 2008-12-08 04:21:00   \n",
       "2008-12-18 2008-12-18 12:02:00 2008-12-18 12:21:00 2008-12-18 10:35:00   \n",
       "2008-12-27 2008-12-27 05:07:00 2008-12-27 05:41:00 2008-12-27 06:03:00   \n",
       "2009-01-07 2009-01-07 03:46:00 2009-01-07 05:06:00 2009-01-07 04:48:00   \n",
       "2009-01-15 2009-01-15 03:53:00 2009-01-15 09:53:00 2009-01-15 03:15:00   \n",
       "2009-01-21 2009-01-21 05:14:00 2009-01-21 09:13:00 2009-01-21 05:45:00   \n",
       "2009-02-19 2009-02-19 02:13:00 2009-02-19 04:31:00 2009-02-19 04:23:00   \n",
       "2009-02-21 2009-02-21 01:37:00 2009-02-21 05:30:00 2009-02-21 00:57:00   \n",
       "2009-02-23 2009-02-23 04:18:00 2009-02-23 09:56:00 2009-02-23 09:32:00   \n",
       "2009-03-14 2009-03-14 07:28:00 2009-03-14 09:03:00 2009-03-14 06:03:00   \n",
       "2009-03-23 2009-03-23 06:38:00 2009-03-23 08:34:00 2009-03-23 09:49:00   \n",
       "...                        ...                 ...                 ...   \n",
       "2018-12-20 2018-12-20 05:11:00 2018-12-20 08:13:00 2018-12-20 05:23:00   \n",
       "2018-12-31 2018-12-31 06:11:00 2018-12-31 09:50:00 2018-12-31 05:41:00   \n",
       "2019-01-05 2019-01-05 03:09:00 2019-01-05 09:06:00 2019-01-05 03:16:00   \n",
       "2019-01-10 2019-01-10 08:30:00 2019-01-10 09:42:00 2019-01-10 10:01:00   \n",
       "2019-01-20 2019-01-20 13:34:00 2019-01-20 17:37:00 2019-01-20 14:18:00   \n",
       "2019-01-22 2019-01-22 21:13:00 2019-01-22 22:16:00 2019-01-22 20:18:00   \n",
       "2019-01-27 2019-01-27 06:21:00 2019-01-27 12:25:00 2019-01-27 05:39:00   \n",
       "2019-02-08 2019-02-08 06:17:00 2019-02-08 08:43:00 2019-02-08 06:31:00   \n",
       "2019-03-06 2019-03-06 02:41:00 2019-03-06 04:23:00 2019-03-06 03:05:00   \n",
       "2019-03-14 2019-03-14 05:49:00 2019-03-14 11:22:00 2019-03-14 02:28:00   \n",
       "2019-03-22 2019-03-22 05:17:00 2019-03-22 06:58:00 2019-03-22 06:41:00   \n",
       "2019-03-23 2019-03-23 07:36:00 2019-03-23 10:21:00 2019-03-23 08:28:00   \n",
       "2019-11-22 2019-11-22 03:13:00 2019-11-22 07:04:00 2019-11-22 05:37:00   \n",
       "2019-11-25 2019-11-25 03:49:00 2019-11-25 17:16:00 2019-11-25 04:04:00   \n",
       "2019-11-26 2019-11-26 01:11:00 2019-11-26 01:57:00 2019-11-26 00:59:00   \n",
       "2020-01-06 2020-01-06 05:24:00 2020-01-06 19:02:00 2020-01-06 05:09:00   \n",
       "2020-01-07 2020-01-07 07:49:00 2020-01-07 14:02:00 2020-01-07 12:28:00   \n",
       "2020-01-15 2020-01-15 17:37:00 2020-01-15 21:35:00 2020-01-15 19:13:00   \n",
       "2020-01-16 2020-01-16 08:34:00 2020-01-16 08:53:00 2020-01-16 20:48:00   \n",
       "2020-01-20 2020-01-20 03:13:00 2020-01-20 06:04:00 2020-01-20 04:02:00   \n",
       "2020-01-23 2020-01-23 19:52:00 2020-01-23 22:28:00 2020-01-23 11:09:00   \n",
       "2020-01-26 2020-01-26 02:38:00 2020-01-26 08:09:00 2020-01-26 04:22:00   \n",
       "2020-02-02 2020-02-02 04:40:00 2020-02-02 08:32:00 2020-02-02 06:05:00   \n",
       "2020-02-15 2020-02-15 05:06:00 2020-02-15 09:05:00 2020-02-15 07:36:00   \n",
       "2020-02-18 2020-02-18 05:32:00 2020-02-18 12:09:00 2020-02-18 11:10:00   \n",
       "2020-04-10 2020-04-10 07:58:00 2020-04-10 08:03:00 2020-04-10 07:02:00   \n",
       "2020-05-21 2020-05-21 08:12:00 2020-05-21 09:04:00 2020-05-21 08:02:00   \n",
       "2020-07-13 2020-07-13 07:50:00 2020-07-13 13:08:00 2020-07-13 09:52:00   \n",
       "2020-08-12 2020-08-12 08:43:00 2020-08-12 09:04:00 2020-08-12 09:24:00   \n",
       "2020-09-04 2020-09-04 10:25:00 2020-09-04 10:51:00 2020-09-04 09:05:00   \n",
       "\n",
       "                     yssy_last  \n",
       "TM                              \n",
       "2008-02-26 2008-02-26 20:29:00  \n",
       "2008-02-27 2008-02-27 23:58:00  \n",
       "2008-03-07 2008-03-07 10:58:00  \n",
       "2008-03-25 2008-03-25 12:19:00  \n",
       "2008-04-13 2008-04-13 09:38:00  \n",
       "2008-05-13 2008-05-13 04:15:00  \n",
       "2008-06-19 2008-06-19 17:51:00  \n",
       "2008-07-27 2008-07-27 12:29:00  \n",
       "2008-08-07 2008-08-07 05:38:00  \n",
       "2008-08-22 2008-08-22 01:51:00  \n",
       "2008-09-14 2008-09-14 07:16:00  \n",
       "2008-10-03 2008-10-03 20:07:00  \n",
       "2008-10-04 2008-10-04 22:51:00  \n",
       "2008-10-19 2008-10-19 06:44:00  \n",
       "2008-10-20 2008-10-20 09:00:00  \n",
       "2008-11-14 2008-11-14 09:27:00  \n",
       "2008-11-19 2008-11-19 14:27:00  \n",
       "2008-11-20 2008-11-20 02:00:00  \n",
       "2008-11-28 2008-11-28 06:27:00  \n",
       "2008-12-08 2008-12-08 05:20:00  \n",
       "2008-12-18 2008-12-18 10:52:00  \n",
       "2008-12-27 2008-12-27 07:15:00  \n",
       "2009-01-07 2009-01-07 05:52:00  \n",
       "2009-01-15 2009-01-15 10:55:00  \n",
       "2009-01-21 2009-01-21 07:51:00  \n",
       "2009-02-19 2009-02-19 04:41:00  \n",
       "2009-02-21 2009-02-21 02:01:00  \n",
       "2009-02-23 2009-02-23 10:20:00  \n",
       "2009-03-14 2009-03-14 09:53:00  \n",
       "2009-03-23 2009-03-23 10:00:00  \n",
       "...                        ...  \n",
       "2018-12-20 2018-12-20 09:05:00  \n",
       "2018-12-31 2018-12-31 08:46:00  \n",
       "2019-01-05 2019-01-05 11:17:00  \n",
       "2019-01-10 2019-01-10 10:47:00  \n",
       "2019-01-20 2019-01-20 17:29:00  \n",
       "2019-01-22 2019-01-22 22:08:00  \n",
       "2019-01-27 2019-01-27 12:53:00  \n",
       "2019-02-08 2019-02-08 08:59:00  \n",
       "2019-03-06 2019-03-06 04:36:00  \n",
       "2019-03-14 2019-03-14 12:04:00  \n",
       "2019-03-22 2019-03-22 14:13:00  \n",
       "2019-03-23 2019-03-23 08:41:00  \n",
       "2019-11-22 2019-11-22 07:13:00  \n",
       "2019-11-25 2019-11-25 18:26:00  \n",
       "2019-11-26 2019-11-26 02:40:00  \n",
       "2020-01-06 2020-01-06 07:46:00  \n",
       "2020-01-07 2020-01-07 14:46:00  \n",
       "2020-01-15 2020-01-15 21:21:00  \n",
       "2020-01-16 2020-01-16 22:55:00  \n",
       "2020-01-20 2020-01-20 09:04:00  \n",
       "2020-01-23 2020-01-23 23:04:00  \n",
       "2020-01-26 2020-01-26 05:17:00  \n",
       "2020-02-02 2020-02-02 09:11:00  \n",
       "2020-02-15 2020-02-15 09:03:00  \n",
       "2020-02-18 2020-02-18 12:37:00  \n",
       "2020-04-10 2020-04-10 07:54:00  \n",
       "2020-05-21 2020-05-21 10:12:00  \n",
       "2020-07-13 2020-07-13 11:11:00  \n",
       "2020-08-12 2020-08-12 10:08:00  \n",
       "2020-09-04 2020-09-04 11:18:00  \n",
       "\n",
       "[238 rows x 4 columns]"
      ]
     },
     "execution_count": 45,
     "metadata": {},
     "output_type": "execute_result"
    }
   ],
   "source": [
    "merged = pd.merge(left=ysri_times, right=yssy_times,how = 'inner',on='TM')\\\n",
    "    .rename(columns = {'first_x':'ysri_start', 'last_x':'ysri_last', 'first_y':'yssy_start', 'last_y':'yssy_last'})\n",
    "merged #,merged.shape"
   ]
  },
  {
   "cell_type": "code",
   "execution_count": 46,
   "metadata": {},
   "outputs": [
    {
     "name": "stdout",
     "output_type": "stream",
     "text": [
      "Of the common storm days at YSSY and YSRI,\n",
      "about a 1/4 - 25% of Days storms affect YSRI after YSSY : 62\n",
      "\n",
      "Of the common storm days at YSSY and YSRI,\n",
      "about 3/4 - 75% of Days storms affect YSSY after YSRI : 175\n"
     ]
    }
   ],
   "source": [
    "ts_yssy_then_ysri = merged.loc[(merged['ysri_start']>merged['yssy_start'])]\n",
    "print(\"Of the common storm days at YSSY and YSRI,\\n\\\n",
    "about a 1/4 - 25% of Days storms affect YSRI after YSSY :\",\\\n",
    "    ts_yssy_then_ysri.shape[0])\n",
    "\n",
    "ts_ysri_then_yssy = merged.loc[(merged['yssy_start']>merged['ysri_start'])]\n",
    "print(\"\\nOf the common storm days at YSSY and YSRI,\\n\\\n",
    "about 3/4 - 75% of Days storms affect YSSY after YSRI :\",\\\n",
    "    ts_ysri_then_yssy.shape[0])\n"
   ]
  },
  {
   "cell_type": "code",
   "execution_count": 47,
   "metadata": {},
   "outputs": [
    {
     "name": "stdout",
     "output_type": "stream",
     "text": [
      "About 175 days i.e 0.74% of days, storms are detected FIRST at Richmond and LATER on at Sydney.\n",
      "Average travel time =  141 minutes.\n"
     ]
    }
   ],
   "source": [
    "print(f'About {ts_ysri_then_yssy.shape[0]} days i.e {ts_ysri_then_yssy.shape[0]/merged.shape[0]:.2f}% of days, storms are detected FIRST at Richmond and LATER on at Sydney.\\nAverage travel time =  {(ts_ysri_then_yssy[\"yssy_start\"]-ts_ysri_then_yssy[\"ysri_start\"]).mean().seconds/60:.0f} minutes.')"
   ]
  },
  {
   "cell_type": "code",
   "execution_count": 48,
   "metadata": {},
   "outputs": [
    {
     "data": {
      "text/plain": [
       "DatetimeIndex(['2008-03-07', '2008-03-25', '2008-08-22', '2008-09-14',\n",
       "               '2008-11-14', '2008-11-20', '2008-12-18', '2009-01-15',\n",
       "               '2009-02-21', '2009-03-14', '2009-10-06', '2009-11-12',\n",
       "               '2010-02-05', '2010-02-12', '2010-02-28', '2010-05-21',\n",
       "               '2010-12-16', '2011-10-29', '2011-11-08', '2012-01-05',\n",
       "               '2012-01-08', '2012-02-13', '2012-02-17', '2012-02-19',\n",
       "               '2012-11-27', '2012-12-25', '2013-01-13', '2013-02-24',\n",
       "               '2014-02-26', '2014-03-07', '2014-03-24', '2014-04-04',\n",
       "               '2014-09-16', '2014-10-14', '2015-01-20', '2015-02-12',\n",
       "               '2015-02-15', '2015-03-01', '2015-03-20', '2015-04-21',\n",
       "               '2015-12-15', '2015-12-16', '2016-01-25', '2017-06-07',\n",
       "               '2017-10-22', '2017-10-26', '2017-12-08', '2017-12-16',\n",
       "               '2018-02-09', '2018-04-02', '2018-06-06', '2018-12-15',\n",
       "               '2018-12-31', '2019-01-22', '2019-01-27', '2019-03-14',\n",
       "               '2019-11-26', '2020-01-06', '2020-01-23', '2020-04-10',\n",
       "               '2020-05-21', '2020-09-04'],\n",
       "              dtype='datetime64[ns]', name='TM', freq=None)"
      ]
     },
     "execution_count": 48,
     "metadata": {},
     "output_type": "execute_result"
    }
   ],
   "source": [
    "# Some days also when storms detected 1st at YSSY and then YSRI\n",
    "# chech if matches with any easterly sector steering!!\n",
    "merged.loc[(merged['ysri_start']>merged['yssy_start'])].index"
   ]
  }
 ],
 "metadata": {
  "kernelspec": {
   "display_name": "Python 3",
   "language": "python",
   "name": "python3"
  },
  "language_info": {
   "codemirror_mode": {
    "name": "ipython",
    "version": 3
   },
   "file_extension": ".py",
   "mimetype": "text/x-python",
   "name": "python",
   "nbconvert_exporter": "python",
   "pygments_lexer": "ipython3",
   "version": "3.6.8"
  }
 },
 "nbformat": 4,
 "nbformat_minor": 4
}
