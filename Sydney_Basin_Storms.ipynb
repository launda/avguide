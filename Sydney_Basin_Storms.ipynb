{
 "cells": [
  {
   "cell_type": "markdown",
   "metadata": {},
   "source": [
    "## Sydney Basin Thunderstorm Climatology based on GPATS data"
   ]
  },
  {
   "cell_type": "code",
   "execution_count": 7,
   "metadata": {},
   "outputs": [],
   "source": [
    "import pandas as pd\n",
    "import numpy as np\n",
    "import seaborn as sns\n",
    "import matplotlib.pyplot as plt\n",
    "import os\n",
    "\n",
    "get_ipython().run_line_magic('matplotlib', 'inline')\n",
    "# %matplotlib notebook for interactivity\n",
    "import utility_functions_sep2018 as bous\n",
    "\n",
    "'''\n",
    "Just change station id variable to generate plots for other airports\n",
    "'''\n",
    "\n",
    "cur_dir='/home/accounts/qdisplay/avguide/app/data'\n",
    "cur_dir='/home/bou/shared/stats-R/flask_projects/avguide/app/data'"
   ]
  },
  {
   "cell_type": "code",
   "execution_count": 26,
   "metadata": {},
   "outputs": [],
   "source": [
    "def get_gpats_data(cur_dir:str=\"./gpats_data/\",sta:str=\"YBBN\",res=None)->pd.DataFrame:\n",
    "    \"\"\"[summary]\n",
    "    Args:\n",
    "        cur_dir (str, optional): [Folder that stores gpat data]. Defaults to \"./gpats_data/\".\n",
    "        \n",
    "        sta (str, optional): [Aviation ID/location]. Defaults to \"YBBN\".\n",
    "        \n",
    "        res (str): downsample bin size \n",
    "        The gpats data is micro sec resolution. Thats a lot of data points and huge memory gobbler!\n",
    "        a resample to 1min will downsample the series into 1 minute bins and sum the values of the timestamps falling into a bin\n",
    "        a resample to 30min likewise downsamples to into 30 minute bins, H - 1hour bins, D - 1day into daily bins, M in monthly etc etc\n",
    "        resample takes these other optional parameters, 'closed' and 'label'\n",
    "        closed : {‘right’, ‘left’}\n",
    "        Which side of bin interval is closed. \n",
    "        The default is ‘left’ for all frequency offsets except for ‘M’, ‘A’, ‘Q’, ‘BM’, ‘BA’, ‘BQ’, \n",
    "        and ‘W’ which all have a default of ‘right’.\n",
    "        label : {‘right’, ‘left’}\n",
    "        Which bin edge label to label bucket with. \n",
    "        The default is ‘left’ for all frequency offsets except for ‘M’, ‘A’, ‘Q’, ‘BM’, ‘BA’, ‘BQ’, \n",
    "        and ‘W’ which all have a default of ‘right’.\n",
    "        \n",
    "        ideally you want to resample to 1min if you want to merge with aws METAR/SPECI data\n",
    "        \n",
    "    Returns:\n",
    "        pd.DataFrame: [description]\n",
    "    \"\"\"\n",
    "    # join is smart so cur_dir can be like ./gpats  or ./gpats/\n",
    "    gpats_file = os.path.join(cur_dir, f'gpats_{sta}_10NM.csv')\n",
    "    print(\"Reading {} gpats file {}\".format(sta, gpats_file))\n",
    "    if res is None:\n",
    "        return (pd.read_csv(gpats_file,parse_dates=True, index_col='TM'))\n",
    "    else:\n",
    "        return(pd.read_csv(gpats_file,parse_dates=True, index_col='TM').\\\n",
    "                resample(res).\\\n",
    "                agg(dict(LATITUDE='mean', LONGITUDE='mean', AMP='count')).\\\n",
    "                dropna())\n",
    "    ''' PREVIOUS VER of CODE\n",
    "    gpats = pd.read_csv(gpats_file,parse_dates=True, index_col='TM')\n",
    "    has HH:MM:SS resolution, mostly HH:MM so we trim it\n",
    "    We have non-standard datetime, use pd.to_datetime after pd.read_csv\n",
    "    apply custom string format to drops higher precision microseconds'''\n",
    "    # gpats_new_index = gpats.index.strftime('%Y:%m:%d %H:%M:%S')\n",
    "    '''\n",
    "    convert string/object dateime back to datetime type\n",
    "    and use that as new index for gpats df'''\n",
    "    # gpats.index = pd.to_datetime(gpats_new_index,\n",
    "    #                             format='%Y:%m:%d %H:%M:%S',\n",
    "    #                             errors='coerce')"
   ]
  },
  {
   "cell_type": "code",
   "execution_count": 24,
   "metadata": {},
   "outputs": [],
   "source": [
    "####################################################\n",
    "########## TS START/END/DURATION FM GPATS###########\n",
    "####################################################\n",
    "\n",
    "def get_gpats_start_end_duration(gpat:pd.DataFrame)->pd.DataFrame:\n",
    "\n",
    "    import numpy as np\n",
    "\n",
    "    '''define multiple aggregations per group\n",
    "    use the 'AMP' column for counting strikes\n",
    "    use 'Time' col to grab first and last gpats for a given day\n",
    "    '''\n",
    "    gpats = gpat.copy()\n",
    "    gpats['Time'] = gpats.index\n",
    "\n",
    "    aggregator = {'AMP' : {'gpats_cnt':'count'}, 'Time' : ['first','last']}\n",
    "    daily = gpats.resample('D').apply(aggregator).dropna()\n",
    "    # NB using a dict with renaming is deprecated\n",
    "    # and will be removed in a future version!!\n",
    "\n",
    "    tmp = daily['Time']\n",
    "    daily.loc[:, ('Time','duration')] = round(\\\n",
    "        (tmp['last'] - tmp['first'])/np.timedelta64(1, 'h') , 1)\n",
    "\n",
    "    # drop outer-most column index level 0 ['CNT','Time']\n",
    "    daily.columns = daily.columns.droplevel(0)\n",
    "\n",
    "    # get rid of zero duration events\n",
    "    # daily = daily[daily['duration'] > '00:00:00']\n",
    "    daily = daily[daily['duration'] > 0]\n",
    "\n",
    "    return( daily[['gpats_cnt','duration','first','last']])"
   ]
  },
  {
   "cell_type": "code",
   "execution_count": 76,
   "metadata": {
    "scrolled": true
   },
   "outputs": [
    {
     "name": "stdout",
     "output_type": "stream",
     "text": [
      "Reading YSSY gpats file /home/bou/shared/stats-R/flask_projects/avguide/app/data/gpats_YSSY_10NM.csv\n",
      "<class 'pandas.core.frame.DataFrame'>\n",
      "DatetimeIndex: 41119 entries, 2008-02-26 06:13:58.524000 to 2020-09-21 11:28:29.815000\n",
      "Data columns (total 3 columns):\n",
      "LATITUDE     41119 non-null float64\n",
      "LONGITUDE    41119 non-null float64\n",
      "AMP          41119 non-null float64\n",
      "dtypes: float64(3)\n",
      "memory usage: 1.3 MB\n",
      "None\n"
     ]
    },
    {
     "data": {
      "text/html": [
       "<div>\n",
       "<style scoped>\n",
       "    .dataframe tbody tr th:only-of-type {\n",
       "        vertical-align: middle;\n",
       "    }\n",
       "\n",
       "    .dataframe tbody tr th {\n",
       "        vertical-align: top;\n",
       "    }\n",
       "\n",
       "    .dataframe thead th {\n",
       "        text-align: right;\n",
       "    }\n",
       "</style>\n",
       "<table border=\"1\" class=\"dataframe\">\n",
       "  <thead>\n",
       "    <tr style=\"text-align: right;\">\n",
       "      <th></th>\n",
       "      <th>LATITUDE</th>\n",
       "      <th>LONGITUDE</th>\n",
       "      <th>AMP</th>\n",
       "    </tr>\n",
       "    <tr>\n",
       "      <th>TM</th>\n",
       "      <th></th>\n",
       "      <th></th>\n",
       "      <th></th>\n",
       "    </tr>\n",
       "  </thead>\n",
       "  <tbody>\n",
       "    <tr>\n",
       "      <th>2020-09-21 11:20:17.668</th>\n",
       "      <td>-34.10306</td>\n",
       "      <td>151.07315</td>\n",
       "      <td>-29.9</td>\n",
       "    </tr>\n",
       "    <tr>\n",
       "      <th>2020-09-21 11:21:09.725</th>\n",
       "      <td>-34.09893</td>\n",
       "      <td>151.04572</td>\n",
       "      <td>-13.6</td>\n",
       "    </tr>\n",
       "    <tr>\n",
       "      <th>2020-09-21 11:21:58.776</th>\n",
       "      <td>-34.07595</td>\n",
       "      <td>151.05222</td>\n",
       "      <td>50.4</td>\n",
       "    </tr>\n",
       "    <tr>\n",
       "      <th>2020-09-21 11:23:25.179</th>\n",
       "      <td>-34.02961</td>\n",
       "      <td>151.17613</td>\n",
       "      <td>-14.2</td>\n",
       "    </tr>\n",
       "    <tr>\n",
       "      <th>2020-09-21 11:23:25.212</th>\n",
       "      <td>-34.01039</td>\n",
       "      <td>151.12048</td>\n",
       "      <td>-13.8</td>\n",
       "    </tr>\n",
       "    <tr>\n",
       "      <th>2020-09-21 11:23:25.260</th>\n",
       "      <td>-34.00524</td>\n",
       "      <td>151.12358</td>\n",
       "      <td>-14.9</td>\n",
       "    </tr>\n",
       "    <tr>\n",
       "      <th>2020-09-21 11:24:23.725</th>\n",
       "      <td>-34.10694</td>\n",
       "      <td>151.11787</td>\n",
       "      <td>-27.5</td>\n",
       "    </tr>\n",
       "    <tr>\n",
       "      <th>2020-09-21 11:25:35.909</th>\n",
       "      <td>-34.10696</td>\n",
       "      <td>151.10039</td>\n",
       "      <td>-65.3</td>\n",
       "    </tr>\n",
       "    <tr>\n",
       "      <th>2020-09-21 11:25:35.953</th>\n",
       "      <td>-34.10568</td>\n",
       "      <td>151.06783</td>\n",
       "      <td>41.7</td>\n",
       "    </tr>\n",
       "    <tr>\n",
       "      <th>2020-09-21 11:28:29.815</th>\n",
       "      <td>-34.05155</td>\n",
       "      <td>151.14589</td>\n",
       "      <td>13.7</td>\n",
       "    </tr>\n",
       "  </tbody>\n",
       "</table>\n",
       "</div>"
      ],
      "text/plain": [
       "                         LATITUDE  LONGITUDE   AMP\n",
       "TM                                                \n",
       "2020-09-21 11:20:17.668 -34.10306  151.07315 -29.9\n",
       "2020-09-21 11:21:09.725 -34.09893  151.04572 -13.6\n",
       "2020-09-21 11:21:58.776 -34.07595  151.05222  50.4\n",
       "2020-09-21 11:23:25.179 -34.02961  151.17613 -14.2\n",
       "2020-09-21 11:23:25.212 -34.01039  151.12048 -13.8\n",
       "2020-09-21 11:23:25.260 -34.00524  151.12358 -14.9\n",
       "2020-09-21 11:24:23.725 -34.10694  151.11787 -27.5\n",
       "2020-09-21 11:25:35.909 -34.10696  151.10039 -65.3\n",
       "2020-09-21 11:25:35.953 -34.10568  151.06783  41.7\n",
       "2020-09-21 11:28:29.815 -34.05155  151.14589  13.7"
      ]
     },
     "execution_count": 76,
     "metadata": {},
     "output_type": "execute_result"
    }
   ],
   "source": [
    "sta='YSSY' # change to explore fog plots for other locations\n",
    "gpats_file = os.path.join(cur_dir, f'gpats_{sta}_10NM.csv')\n",
    "# resample data to 1 min (just minimises memory footprint/performance)\n",
    "# no real impact to data interpretatability\n",
    "# g_ms = pd.read_csv(gpats_file,parse_dates=True, index_col='TM')\n",
    "g_ms = get_gpats_data(cur_dir=cur_dir,sta=sta)\n",
    "print(g_ms.info())\n",
    "# 41119 gpats strikes , 1.3MB memory footprint\n",
    "g_ms.tail(10)"
   ]
  },
  {
   "cell_type": "code",
   "execution_count": 77,
   "metadata": {},
   "outputs": [
    {
     "name": "stdout",
     "output_type": "stream",
     "text": [
      "Reading YSSY gpats file /home/bou/shared/stats-R/flask_projects/avguide/app/data/gpats_YSSY_10NM.csv\n",
      "<class 'pandas.core.frame.DataFrame'>\n",
      "DatetimeIndex: 10930 entries, 2008-02-26 06:13:00 to 2020-09-21 11:28:00\n",
      "Data columns (total 3 columns):\n",
      "LATITUDE     10930 non-null float64\n",
      "LONGITUDE    10930 non-null float64\n",
      "AMP          10930 non-null int64\n",
      "dtypes: float64(2), int64(1)\n",
      "memory usage: 341.6 KB\n",
      "None\n"
     ]
    },
    {
     "data": {
      "text/html": [
       "<div>\n",
       "<style scoped>\n",
       "    .dataframe tbody tr th:only-of-type {\n",
       "        vertical-align: middle;\n",
       "    }\n",
       "\n",
       "    .dataframe tbody tr th {\n",
       "        vertical-align: top;\n",
       "    }\n",
       "\n",
       "    .dataframe thead th {\n",
       "        text-align: right;\n",
       "    }\n",
       "</style>\n",
       "<table border=\"1\" class=\"dataframe\">\n",
       "  <thead>\n",
       "    <tr style=\"text-align: right;\">\n",
       "      <th></th>\n",
       "      <th>LATITUDE</th>\n",
       "      <th>LONGITUDE</th>\n",
       "      <th>AMP</th>\n",
       "    </tr>\n",
       "    <tr>\n",
       "      <th>TM</th>\n",
       "      <th></th>\n",
       "      <th></th>\n",
       "      <th></th>\n",
       "    </tr>\n",
       "  </thead>\n",
       "  <tbody>\n",
       "    <tr>\n",
       "      <th>2020-09-21 11:21:00</th>\n",
       "      <td>-34.08744</td>\n",
       "      <td>151.048970</td>\n",
       "      <td>2</td>\n",
       "    </tr>\n",
       "    <tr>\n",
       "      <th>2020-09-21 11:23:00</th>\n",
       "      <td>-34.01508</td>\n",
       "      <td>151.140063</td>\n",
       "      <td>3</td>\n",
       "    </tr>\n",
       "    <tr>\n",
       "      <th>2020-09-21 11:24:00</th>\n",
       "      <td>-34.10694</td>\n",
       "      <td>151.117870</td>\n",
       "      <td>1</td>\n",
       "    </tr>\n",
       "    <tr>\n",
       "      <th>2020-09-21 11:25:00</th>\n",
       "      <td>-34.10632</td>\n",
       "      <td>151.084110</td>\n",
       "      <td>2</td>\n",
       "    </tr>\n",
       "    <tr>\n",
       "      <th>2020-09-21 11:28:00</th>\n",
       "      <td>-34.05155</td>\n",
       "      <td>151.145890</td>\n",
       "      <td>1</td>\n",
       "    </tr>\n",
       "  </tbody>\n",
       "</table>\n",
       "</div>"
      ],
      "text/plain": [
       "                     LATITUDE   LONGITUDE  AMP\n",
       "TM                                            \n",
       "2020-09-21 11:21:00 -34.08744  151.048970    2\n",
       "2020-09-21 11:23:00 -34.01508  151.140063    3\n",
       "2020-09-21 11:24:00 -34.10694  151.117870    1\n",
       "2020-09-21 11:25:00 -34.10632  151.084110    2\n",
       "2020-09-21 11:28:00 -34.05155  151.145890    1"
      ]
     },
     "execution_count": 77,
     "metadata": {},
     "output_type": "execute_result"
    }
   ],
   "source": [
    "# resample data to 1 min (just minimises memory footprint/performance)\n",
    "# no real impact to data interpretatability\n",
    "# but it puts a limit to gpats in any given hour <=60  \n",
    "# so when we normalise by say total number of TS days - mean shud be also <= 60\n",
    "# and good way to compare activiy across hours\n",
    "g_min = get_gpats_data(cur_dir=cur_dir,sta=sta,res='1min')\n",
    "print(g_min.info())\n",
    "# 10930 rows/gpats strikes , 341kB Vs 1.3MB - almost 1/5 of raw dataset   \n",
    "g_min.tail()"
   ]
  },
  {
   "cell_type": "code",
   "execution_count": 80,
   "metadata": {},
   "outputs": [
    {
     "data": {
      "text/plain": [
       "(TM\n",
       " 2020-09-17     0\n",
       " 2020-09-18     0\n",
       " 2020-09-19     0\n",
       " 2020-09-20     0\n",
       " 2020-09-21    26\n",
       " Freq: D, Name: AMP, dtype: int64, TM\n",
       " 2020-09-17     0\n",
       " 2020-09-18     0\n",
       " 2020-09-19     0\n",
       " 2020-09-20     0\n",
       " 2020-09-21    26\n",
       " Freq: D, Name: AMP, dtype: int64)"
      ]
     },
     "execution_count": 80,
     "metadata": {},
     "output_type": "execute_result"
    }
   ],
   "source": [
    "# To find days with gpats - resample('D') \n",
    "# NB: resample introduce \"ALL\" days regardless whether gpats data or not \n",
    "# g_ms.resample('D')['AMP'].count() - if using raw millisecond gpats data\n",
    "g_min.resample('D')['AMP'].sum().tail(), g_ms.resample('D')['AMP'].count().tail()"
   ]
  },
  {
   "cell_type": "code",
   "execution_count": 83,
   "metadata": {},
   "outputs": [
    {
     "name": "stdout",
     "output_type": "stream",
     "text": [
      "Reading YSSY gpats file /home/bou/shared/stats-R/flask_projects/avguide/app/data/gpats_YSSY_10NM.csv\n",
      "Reading YSSY gpats file /home/bou/shared/stats-R/flask_projects/avguide/app/data/gpats_YSSY_10NM.csv\n"
     ]
    },
    {
     "data": {
      "text/plain": [
       "TM\n",
       "2020-09-17     0\n",
       "2020-09-18     0\n",
       "2020-09-19     0\n",
       "2020-09-20     0\n",
       "2020-09-21    26\n",
       "Freq: D, Name: AMP, dtype: int64"
      ]
     },
     "execution_count": 83,
     "metadata": {},
     "output_type": "execute_result"
    }
   ],
   "source": [
    "# same result if original gpats read in 30min bin counts or 1hour bin counts\n",
    "g_30min = get_gpats_data(cur_dir=cur_dir,sta=sta,res='30min')\n",
    "g_1hr   = get_gpats_data(cur_dir=cur_dir,sta=sta,res='H')\n",
    "g_hr.resample('D')['AMP'].sum().tail()"
   ]
  },
  {
   "cell_type": "code",
   "execution_count": 84,
   "metadata": {},
   "outputs": [
    {
     "name": "stdout",
     "output_type": "stream",
     "text": [
      "Reading YSSY gpats file /home/bou/shared/stats-R/flask_projects/avguide/app/data/gpats_YSSY_10NM.csv\n"
     ]
    },
    {
     "data": {
      "text/plain": [
       "TM\n",
       "2020-07-12     6\n",
       "2020-07-13     4\n",
       "2020-08-12     5\n",
       "2020-09-04     4\n",
       "2020-09-21    26\n",
       "Name: AMP, dtype: int64"
      ]
     },
     "execution_count": 84,
     "metadata": {},
     "output_type": "execute_result"
    }
   ],
   "source": [
    "# best to just do daily bin counts - as the fn drops days with non-zero gpats \n",
    "g_day = get_gpats_data(cur_dir=cur_dir,sta=sta,res='D')['AMP']\n",
    "g_day.tail()"
   ]
  },
  {
   "cell_type": "code",
   "execution_count": 105,
   "metadata": {
    "scrolled": true
   },
   "outputs": [
    {
     "name": "stdout",
     "output_type": "stream",
     "text": [
      "Reading YSSY gpats file /home/bou/shared/stats-R/flask_projects/avguide/app/data/gpats_YSSY_10NM.csv\n",
      "Number of TS days in YSSY: Feb-2008 to Sep-2020 = 390 days\n"
     ]
    },
    {
     "data": {
      "text/plain": [
       "TM\n",
       "2020-07-12     6\n",
       "2020-07-13     4\n",
       "2020-08-12     5\n",
       "2020-09-04     4\n",
       "2020-09-21    26\n",
       "Name: AMP, dtype: int64"
      ]
     },
     "execution_count": 105,
     "metadata": {},
     "output_type": "execute_result"
    }
   ],
   "source": [
    "# NB if we read gpats with higher resample rate than daily, hourly, min, etc\n",
    "# then we would need to drop those days with no strikes (also just 1 strike cud be spurious)\n",
    "# as expected same values as in one liner above\n",
    "# note use of sum() here - count() will give lower values obviously\n",
    "g_min = get_gpats_data(cur_dir=cur_dir,sta=sta,res='1min')\n",
    "g_tmp = g_min.resample('D')['AMP'].sum() #resample to daily and add gpats counts\n",
    "ts_days = g_tmp.loc[g_tmp>1] # we demand more than one gpats strikes on given day !\n",
    "print(f'Number of TS days in {sta}: {ts_days.index[0].strftime(\"%b-%Y\")} to \\\n",
    "{ts_days.index[-1].strftime(\"%b-%Y\")} = {ts_days.shape[0]} days')\n",
    "ts_days.tail()"
   ]
  },
  {
   "cell_type": "code",
   "execution_count": 94,
   "metadata": {
    "scrolled": true
   },
   "outputs": [
    {
     "data": {
      "text/plain": [
       "TM\n",
       "1     48\n",
       "2     44\n",
       "3     45\n",
       "4     33\n",
       "5     17\n",
       "6     21\n",
       "7     16\n",
       "8     13\n",
       "9     20\n",
       "10    38\n",
       "11    48\n",
       "12    47\n",
       "Name: AMP, dtype: int64"
      ]
     },
     "execution_count": 94,
     "metadata": {},
     "output_type": "execute_result"
    }
   ],
   "source": [
    "# To get number of days with TS in each month,\n",
    "# group by month and count days with TS to get monthly summaries\n",
    "# sum() not appripriate here as this would ADD up all gpats strikes\n",
    "# we want to add days, not gpats strikes in days\n",
    "\n",
    "g_month = ts_days.groupby(ts_days.index.month).count()\n",
    "g_month"
   ]
  },
  {
   "cell_type": "code",
   "execution_count": 132,
   "metadata": {},
   "outputs": [
    {
     "name": "stdout",
     "output_type": "stream",
     "text": [
      "Reading YSSY gpats file /home/bou/shared/stats-R/flask_projects/avguide/app/data/gpats_YSSY_10NM.csv\n",
      "TM\n",
      "2020-07-12     6\n",
      "2020-07-13     4\n",
      "2020-08-12     5\n",
      "2020-09-04     4\n",
      "2020-09-21    26\n",
      "Name: AMP, dtype: int64\n"
     ]
    },
    {
     "data": {
      "text/plain": [
       "TM\n",
       "1     48\n",
       "2     44\n",
       "3     45\n",
       "4     33\n",
       "5     17\n",
       "6     21\n",
       "7     16\n",
       "8     13\n",
       "9     20\n",
       "10    38\n",
       "11    48\n",
       "12    47\n",
       "Name: AMP, dtype: int64"
      ]
     },
     "execution_count": 132,
     "metadata": {},
     "output_type": "execute_result"
    }
   ],
   "source": [
    "ts_days = get_gpats_data(cur_dir=cur_dir,sta=sta,res='D')['AMP']\n",
    "ts_days = ts_days.loc[ts_days>1]  # we demand more than one gpats strikes on given day !\n",
    "print(ts_days.tail())\n",
    "g_month = ts_days.groupby(ts_days.index.month).count()\n",
    "g_month"
   ]
  },
  {
   "cell_type": "code",
   "execution_count": 238,
   "metadata": {},
   "outputs": [
    {
     "name": "stdout",
     "output_type": "stream",
     "text": [
      "Reading YSSY gpats file /home/bou/shared/stats-R/flask_projects/avguide/app/data/gpats_YSSY_10NM.csv\n",
      "TM\n",
      "2020-08-12 10:00:00     2\n",
      "2020-09-04 09:00:00     1\n",
      "2020-09-04 11:00:00     3\n",
      "2020-09-21 10:00:00     1\n",
      "2020-09-21 11:00:00    25\n",
      "Name: AMP, dtype: int64\n",
      "Reading YSSY gpats file /home/bou/shared/stats-R/flask_projects/avguide/app/data/gpats_YSSY_10NM.csv\n",
      "count    4592.000000\n",
      "mean        0.249129\n",
      "std         0.953390\n",
      "min         0.000000\n",
      "25%         0.000000\n",
      "50%         0.000000\n",
      "75%         0.000000\n",
      "max        12.000000\n",
      "Name: AMP, dtype: float64\n",
      "TM\n",
      "2020-09-17    0\n",
      "2020-09-18    0\n",
      "2020-09-19    0\n",
      "2020-09-20    0\n",
      "2020-09-21    2\n",
      "Freq: D, Name: AMP, dtype: int64\n",
      "\n",
      "Total TS days over 12 years = 297 days\n"
     ]
    },
    {
     "data": {
      "text/plain": [
       "TM\n",
       "1     34\n",
       "2     34\n",
       "3     32\n",
       "4     19\n",
       "5     15\n",
       "6     18\n",
       "7     15\n",
       "8     12\n",
       "9     13\n",
       "10    27\n",
       "11    40\n",
       "12    38\n",
       "Name: AMP, dtype: int64"
      ]
     },
     "execution_count": 238,
     "metadata": {},
     "output_type": "execute_result"
    }
   ],
   "source": [
    "# appears that if we resample hourly and then do daily aggregate/count get slightly diff stats \n",
    "g_hr   = get_gpats_data(cur_dir=cur_dir,sta=sta,res='H')['AMP'] # hourly bin gpats counts\n",
    "print(g_hr.tail())\n",
    "g_day = g_hr.resample('D').count() \n",
    "\n",
    "# one liner for above \n",
    "g_day = get_gpats_data(cur_dir=cur_dir,sta=sta,res='H')['AMP'].resample('D').count()\n",
    "\n",
    "# max poss count would be 24 meaning ts in every hour of day, min 0\n",
    "print(g_day.describe()) # note max is 12 - what a day!! TS for 12 hours\n",
    "print(g_day.tail())\n",
    "g_tmp_days = g_day.loc[g_day>1] # if we demand more than one gpats strikes on given day !\n",
    "g_month_from_hourly = g_tmp_days.groupby(g_tmp_days.index.month).count()\n",
    "print(f'\\nTotal TS days over 12 years = {g_month_from_hourly.sum()} days')\n",
    "g_month_from_hourly"
   ]
  },
  {
   "cell_type": "code",
   "execution_count": 150,
   "metadata": {},
   "outputs": [
    {
     "data": {
      "text/plain": [
       "TM\n",
       "1     14\n",
       "2     10\n",
       "3     13\n",
       "4     14\n",
       "5      2\n",
       "6      3\n",
       "7      1\n",
       "8      1\n",
       "9      7\n",
       "10    11\n",
       "11     8\n",
       "12     9\n",
       "Name: AMP, dtype: int64"
      ]
     },
     "execution_count": 150,
     "metadata": {},
     "output_type": "execute_result"
    }
   ],
   "source": [
    "# difference in monthly ts days counts - quite large diff over 12 years, e.g. 14 days in Jan\n",
    "\n",
    "g_month - g_month_from_hourly"
   ]
  },
  {
   "cell_type": "code",
   "execution_count": 151,
   "metadata": {
    "scrolled": false
   },
   "outputs": [
    {
     "data": {
      "text/plain": [
       "TM\n",
       "1     4.00\n",
       "2     3.67\n",
       "3     3.75\n",
       "4     2.75\n",
       "5     1.42\n",
       "6     1.75\n",
       "7     1.33\n",
       "8     1.08\n",
       "9     1.67\n",
       "10    3.17\n",
       "11    4.00\n",
       "12    3.92\n",
       "Name: AMP, dtype: float64"
      ]
     },
     "execution_count": 151,
     "metadata": {},
     "output_type": "execute_result"
    }
   ],
   "source": [
    "# Normalise total monthly thunder days (divide by num of years) to average monthly thunder days\n",
    "# rounded to 1 DP, Nov,Dec,Jan on average has about 4 thunder days every year\n",
    "# Oct, Feb, Mar not too far behind (avg ~ 3.5 thunder days) \n",
    "round((g_month/12),2)"
   ]
  },
  {
   "cell_type": "code",
   "execution_count": 155,
   "metadata": {},
   "outputs": [
    {
     "data": {
      "text/plain": [
       "TM\n",
       "1     2.83\n",
       "2     2.83\n",
       "3     2.67\n",
       "4     1.58\n",
       "5     1.25\n",
       "6     1.50\n",
       "7     1.25\n",
       "8     1.00\n",
       "9     1.08\n",
       "10    2.25\n",
       "11    3.33\n",
       "12    3.17\n",
       "Name: AMP, dtype: float64"
      ]
     },
     "execution_count": 155,
     "metadata": {},
     "output_type": "execute_result"
    }
   ],
   "source": [
    "round((g_month_from_hourly/12),2)"
   ]
  },
  {
   "cell_type": "code",
   "execution_count": 126,
   "metadata": {},
   "outputs": [
    {
     "name": "stdout",
     "output_type": "stream",
     "text": [
      "Reading YSSY gpats file /home/bou/shared/stats-R/flask_projects/avguide/app/data/gpats_YSSY_10NM.csv\n"
     ]
    },
    {
     "data": {
      "text/plain": [
       "TM\n",
       "1     163.0\n",
       "2     118.0\n",
       "3     115.0\n",
       "4      76.0\n",
       "5      39.0\n",
       "6      19.0\n",
       "7      22.0\n",
       "8      37.0\n",
       "9      44.0\n",
       "10     92.0\n",
       "11    136.0\n",
       "12    161.0\n",
       "Name: AMP, dtype: float64"
      ]
     },
     "execution_count": 126,
     "metadata": {},
     "output_type": "execute_result"
    }
   ],
   "source": [
    "# We can normalise monthly gpats count if we divide by number of thunder days \n",
    "# in given month to get sense of how lightning active each month is\n",
    "# Dec and Jan is most lightning active, followed 2nd place Nov, then 3rd place Feb/Mar \n",
    "# 1st get count raw strikes without any resampling to min or hour\n",
    "g_ms = get_gpats_data(cur_dir=cur_dir,sta=sta)  # raw gpats data (no binning aggregation yet) \n",
    "g_tmp = g_ms.resample('D')['\n",
    "                           AMP'].count()  # resample daily and get gpats counts\n",
    "g_tmp_days = g_tmp.loc[g_tmp>1]\n",
    "g_month_activity = g_tmp_days.groupby(g_tmp_days.index.month).sum() # get montly gpats counts\n",
    "# g_month_activity = ts_days.groupby(ts_days.index.month).sum()\n",
    "round(g_month_activity/g_month) # divide by number of ts days in each month"
   ]
  },
  {
   "cell_type": "code",
   "execution_count": 156,
   "metadata": {},
   "outputs": [
    {
     "name": "stdout",
     "output_type": "stream",
     "text": [
      "Reading YSSY gpats file /home/bou/shared/stats-R/flask_projects/avguide/app/data/gpats_YSSY_10NM.csv\n"
     ]
    },
    {
     "data": {
      "image/png": "[encoded data removed]",
      "text/plain": [
       "<Figure size 720x360 with 1 Axes>"
      ]
     },
     "metadata": {
      "needs_background": "light"
     },
     "output_type": "display_data"
    }
   ],
   "source": [
    "# see Fig 1.1 http://webnsw.bom.gov.au/samu/samu_operational/directives/SAMU_Thunderstorm_Directive.pdf\n",
    "# that figure is for 1939 to 2014 Average Thunder days per nonth\n",
    "# trends are similar - peak about 4.0 in Nov/Dec/Jab, so 4 days with TS in these months (about 13%)\n",
    "# we have more broad peak Jan to Mar and Oct to Dec\n",
    "\n",
    "dict_mon = dict(zip(\n",
    "    [1,2,3,4,5,6,7,8,9,10,11,12],\n",
    "    [\"Jan\",\"Feb\",\"Mar\",\"Apr\",\"May\",\"Jun\",\"Jul\",\"Aug\",\"Sep\",\"Oct\",\"Nov\",\"Dec\"]))\n",
    "\n",
    "dat = get_gpats_data(cur_dir=cur_dir,sta=sta,res='H')['AMP'].resample('D').count()\n",
    "ts_days = dat.loc[dat>0]\n",
    "ts_days = dat.loc[dat>1]  # if we demand more than one gpats strikes on given day !\n",
    "avg_mon_ts_days = ts_days.groupby(ts_days.index.month).count()/12\n",
    "round(avg_mon_ts_days,2)\n",
    "\n",
    "fig, ax = plt.subplots(figsize=(10,5), nrows=1, ncols=1 )\n",
    "avg_mon_ts_days.plot( kind='bar', grid=True, ax=ax)\n",
    "title = f'Average Thunder days per month at YSSY:\\\n",
    "{ts_days.index[0].strftime(\"%b-%Y\")} to {ts_days.index[-1].strftime(\"%b-%Y\")}'\n",
    "ax.set_title(title, color='b',fontsize=15)\n",
    "ax.set_ylabel('Days', color='g', fontsize=20)\n",
    "ax.set_xlabel('Months', color='g', fontsize=20)\n",
    "# g.get_xticks() [ 0  1  2  3  4  5  6  7  8  9 10]\n",
    "\n",
    "xlabels=[dict_mon[x+1] for x in ax.get_xticks()]\n",
    "    \n",
    "# xlabels=list( map( lambda x : dict_mon[x], ax.get_xticks()+2) )  # both give same result\n",
    "# xlabels = ['{:,.2f}'.format(x) + 'K' for x in ax.get_xticks()/1000]\n",
    "ax.set_xticklabels(xlabels,rotation=45, horizontalalignment='right')\n",
    "#g.set_xticklabels(ax.get_xticklabels(), rotation=45, horizontalalignment='right')\n",
    "ax.tick_params(labelsize=10)"
   ]
  },
  {
   "cell_type": "code",
   "execution_count": 160,
   "metadata": {},
   "outputs": [
    {
     "data": {
      "text/plain": [
       "TM\n",
       "1      9.44\n",
       "2      9.44\n",
       "3      8.89\n",
       "4      5.28\n",
       "5      4.17\n",
       "6      5.00\n",
       "7      4.17\n",
       "8      3.33\n",
       "9      3.61\n",
       "10     7.50\n",
       "11    11.11\n",
       "12    10.56\n",
       "Name: AMP, dtype: float64"
      ]
     },
     "execution_count": 160,
     "metadata": {},
     "output_type": "execute_result"
    }
   ],
   "source": [
    "# Assuming 30 days per month, this is the climatological probability storms \n",
    "# in any given month\n",
    "# Nov,Dec,Jan has 13% chance of storms on any given day - quite high!\n",
    "# Is this the correct way to do this???\n",
    "round((g_month/(12*30))*100,2) \n",
    "round((g_month_from_hourly/(12*30))*100,2)"
   ]
  },
  {
   "cell_type": "code",
   "execution_count": 164,
   "metadata": {
    "scrolled": true
   },
   "outputs": [
    {
     "data": {
      "text/plain": [
       "24.75"
      ]
     },
     "execution_count": 164,
     "metadata": {},
     "output_type": "execute_result"
    }
   ],
   "source": [
    "# Average thunder days annually \n",
    "# see climate_averages thunder-lightning map below\n",
    "sum(g_month/12)   # 32.5  <- (bit more than what average annual thunder days map suggests)\n",
    "sum(g_month_from_hourly/12)  # matches averahe thunder day about YSSY well - about 25 thunder days per year"
   ]
  },
  {
   "cell_type": "markdown",
   "metadata": {},
   "source": [
    "## http://www.bom.gov.au/climate/averages/climatology/thunder/tdays.png\n",
    "- based on analysis using 10 years of data 1990 to 1999 \n",
    "- about 20 years old data so not as reliable probably\n",
    "\n",
    "![](http://www.bom.gov.au/climate/averages/climatology/thunder/tdays.png)"
   ]
  },
  {
   "cell_type": "code",
   "execution_count": 180,
   "metadata": {
    "scrolled": true
   },
   "outputs": [
    {
     "name": "stdout",
     "output_type": "stream",
     "text": [
      "Reading YSSY gpats file /home/bou/shared/stats-R/flask_projects/avguide/app/data/gpats_YSSY_10NM.csv\n"
     ]
    },
    {
     "data": {
      "image/png": "[encoded data removed]",
      "text/plain": [
       "<Figure size 720x360 with 1 Axes>"
      ]
     },
     "metadata": {
      "needs_background": "light"
     },
     "output_type": "display_data"
    }
   ],
   "source": [
    "# note resample by default introduces observations/rows in dataset \n",
    "# in this case resample('1min') and aggregate makes no difference to actual counts\n",
    "# see also fig 1.2  http://webnsw.bom.gov.au/samu/samu_operational/directives/SAMU_Thunderstorm_Directive.pdf\n",
    "# very similar trends to whats here\n",
    "\n",
    "# no need for double resamples !!\n",
    "g1_hour = pd.read_csv(gpats_file,parse_dates=True, index_col='TM')\\\n",
    "          .resample('H')['AMP'].count()\n",
    "\n",
    "# if use hourly resample counts - result not too diferent for hour of day comparisions\n",
    "g1_hour =  get_gpats_data(cur_dir=cur_dir,sta=sta,res='H')['AMP']\n",
    "\n",
    "# we get max 1 gpats count for any minute , so its either 0 or 1 for every minute\n",
    "# giving max gpats count 60 in an hour, anything in range 0 to 60 in an hour \n",
    "\n",
    "\n",
    "g1_hour = g1_hour.loc[g1_hour>1]\n",
    "gpats_by_hour = g1_hour.groupby(g1_hour.index.hour).count() # NB not sum() !\n",
    "\n",
    "fig, ax = plt.subplots(figsize=(10,5), nrows=1, ncols=1 )\n",
    "gpats_by_hour.plot( kind='bar', ax=ax)\n",
    "title = f'TS by Time of Day at YSSY: {ts_days.index[0].strftime(\"%b-%Y\")} to {ts_days.index[-1].strftime(\"%b-%Y\")}'\n",
    "ax.set_title(title, color='b',fontsize=15)\n",
    "ax.set_ylabel('TS counts', color='g', fontsize=20)\n",
    "ax.set_xlabel('Time of day UTC ', color='g', fontsize=20)\n",
    "# g.get_xticks() [ 0  1  2  3  4  5  6  7  8  9 10]\n",
    "\n",
    "xlabels=[x for x in ax.get_xticks()]\n",
    "    \n",
    "# xlabels=list( map( lambda x : dict_mon[x], ax.get_xticks()+2) )  # both give same result\n",
    "\n",
    "# xlabels = ['{:,.2f}'.format(x) + 'K' for x in ax.get_xticks()/1000]\n",
    "ax.set_xticklabels(xlabels,rotation=45, horizontalalignment='right')\n",
    "#g.set_xticklabels(ax.get_xticklabels(), rotation=45, horizontalalignment='right')\n",
    "ax.tick_params(labelsize=10)"
   ]
  },
  {
   "cell_type": "code",
   "execution_count": 175,
   "metadata": {},
   "outputs": [
    {
     "data": {
      "image/png": "[encoded data removed]",
      "text/plain": [
       "<Figure size 720x360 with 1 Axes>"
      ]
     },
     "metadata": {
      "needs_background": "light"
     },
     "output_type": "display_data"
    }
   ],
   "source": [
    "# Normalise - just divide by total number of TS days \n",
    "# Quite crude because not all days will have TS at all hours of the day\n",
    "# for instance most days TS only between 4 to 10Z\n",
    "gpats_by_hour = (gpats_by_hour/ts_days.shape[0])*100\n",
    "fig, ax = plt.subplots(figsize=(10,5), nrows=1, ncols=1 )\n",
    "gpats_by_hour.plot( kind='bar', ax=ax)\n",
    "title = f'Probability of TS by Time of Day at YSSY: {ts_days.index[0].strftime(\"%b-%Y\")} to {ts_days.index[-1].strftime(\"%b-%Y\")}'\n",
    "ax.set_title(title, color='b',fontsize=15)\n",
    "ax.set_ylabel('Prob (% chance)', color='g', fontsize=20)\n",
    "ax.set_xlabel('Time of day UTC ', color='g', fontsize=20)\n",
    "xlabels=[x for x in ax.get_xticks()]\n",
    "ax.set_xticklabels(xlabels,rotation=45, horizontalalignment='right')\n",
    "ax.tick_params(labelsize=10)"
   ]
  },
  {
   "cell_type": "markdown",
   "metadata": {},
   "source": [
    "We can see that the highest chance of TS (about 16 to 18%) is between 4 to 9Z (2pm to 7pm) and failry low after 16Z 2am in t emorning hours."
   ]
  },
  {
   "cell_type": "code",
   "execution_count": 176,
   "metadata": {},
   "outputs": [
    {
     "name": "stdout",
     "output_type": "stream",
     "text": [
      "10\n",
      "11\n"
     ]
    }
   ],
   "source": [
    "dict_mon\n",
    "keys = list(dict_mon.keys())\n",
    "vals = list(dict_mon.values())\n",
    "print(keys[vals.index('Oct')])\n",
    "print(keys[vals.index('Nov')])"
   ]
  },
  {
   "cell_type": "code",
   "execution_count": 195,
   "metadata": {},
   "outputs": [
    {
     "name": "stdout",
     "output_type": "stream",
     "text": [
      "Reading YSSY gpats file /home/bou/shared/stats-R/flask_projects/avguide/app/data/gpats_YSSY_10NM.csv\n"
     ]
    },
    {
     "data": {
      "image/png": "[encoded data removed]",
      "text/plain": [
       "<Figure size 720x360 with 1 Axes>"
      ]
     },
     "metadata": {
      "needs_background": "light"
     },
     "output_type": "display_data"
    }
   ],
   "source": [
    "# note resample by default introduces observations/rows in dataset \n",
    "# in this case resample('1min') and aggregate makes no difference to actual counts\n",
    "# actually this gives same result without the double resample hassles\n",
    "\n",
    "g1_hour =  get_gpats_data(cur_dir=cur_dir,sta=sta,res='H')['AMP']\n",
    "g1_hour = g1_hour.loc[g1_hour>1]   # only keep data with > 1 gpat count per hour\n",
    "gpats_by_hour = g1_hour.groupby(g1_hour.index.hour).count()\n",
    "\n",
    "# hourly trend for Nov only\n",
    "mon=keys[vals.index('Nov')]\n",
    "g1_hour_mon = g1_hour.loc[g1_hour.index.month==mon]  \n",
    "gpats_by_hour_mon = g1_hour_mon.groupby(g1_hour_mon.index.hour).count()\n",
    "# gpats_by_hour/24\n",
    "\n",
    "\n",
    "fig, ax = plt.subplots(figsize=(10,5), nrows=1, ncols=1 )\n",
    "gpats_by_hour_mon.plot( kind='bar', ax=ax)\n",
    "title = f'GPATS by Time of Day at {sta} in {dict_mon[mon]}: \\\n",
    "{ts_days.index[0].strftime(\"%b-%Y\")} to {ts_days.index[-1].strftime(\"%b-%Y\")}'\n",
    "ax.set_title(title, color='b',fontsize=15)\n",
    "ax.set_ylabel('Hourly gpat counts', color='g', fontsize=20)\n",
    "ax.set_xlabel('Time of day UTC ', color='g', fontsize=20)\n",
    "# g.get_xticks() [ 0  1  2  3  4  5  6  7  8  9 10]\n",
    "\n",
    "xlabels=[x for x in ax.get_xticks()]\n",
    "    \n",
    "# xlabels=list( map( lambda x : dict_mon[x], ax.get_xticks()+2) )  # both give same result\n",
    "\n",
    "# xlabels = ['{:,.2f}'.format(x) + 'K' for x in ax.get_xticks()/1000]\n",
    "ax.set_xticklabels(xlabels,rotation=45, horizontalalignment='right')\n",
    "#g.set_xticklabels(ax.get_xticklabels(), rotation=45, horizontalalignment='right')\n",
    "ax.tick_params(labelsize=10)"
   ]
  },
  {
   "cell_type": "markdown",
   "metadata": {},
   "source": [
    "For month of November,\n",
    "- highest freq at 04Z, i.e 3pm local Syd time 14 TS days over 12 years\n",
    "- next highest at 03Z and 05Z , about 12 TS days over 12 years, so almost every Nov, get TS at this hour  \n",
    "- peak times for TS in NOV between 2 to 8Z"
   ]
  },
  {
   "cell_type": "code",
   "execution_count": 196,
   "metadata": {
    "scrolled": true
   },
   "outputs": [
    {
     "data": {
      "text/plain": [
       "TM\n",
       "1     0.333333\n",
       "2     0.333333\n",
       "3     0.666667\n",
       "4     1.000000\n",
       "5     1.166667\n",
       "6     0.916667\n",
       "7     0.833333\n",
       "8     0.750000\n",
       "9     0.666667\n",
       "10    0.416667\n",
       "11    0.250000\n",
       "12    0.250000\n",
       "13    0.333333\n",
       "14    0.166667\n",
       "15    0.166667\n",
       "16    0.083333\n",
       "17    0.083333\n",
       "18    0.250000\n",
       "19    0.250000\n",
       "20    0.166667\n",
       "21    0.083333\n",
       "22    0.166667\n",
       "Name: AMP, dtype: float64"
      ]
     },
     "execution_count": 196,
     "metadata": {},
     "output_type": "execute_result"
    }
   ],
   "source": [
    "# get gpats count by hour for for each hour over all days/years\n",
    "# gpats_by_hour = g1_hour.groupby(g1_hour.index.hour).count()\n",
    "gpats_by_hour_mon / 12.0"
   ]
  },
  {
   "cell_type": "code",
   "execution_count": 197,
   "metadata": {},
   "outputs": [
    {
     "name": "stdout",
     "output_type": "stream",
     "text": [
      "Reading YSSY gpats file /home/bou/shared/stats-R/flask_projects/avguide/app/data/gpats_YSSY_10NM.csv\n"
     ]
    },
    {
     "data": {
      "text/plain": [
       "<matplotlib.axes._subplots.AxesSubplot at 0x7f0e29d4fad0>"
      ]
     },
     "execution_count": 197,
     "metadata": {},
     "output_type": "execute_result"
    },
    {
     "data": {
      "image/png": "[encoded data removed]",
      "text/plain": [
       "<Figure size 432x288 with 1 Axes>"
      ]
     },
     "metadata": {
      "needs_background": "light"
     },
     "output_type": "display_data"
    }
   ],
   "source": [
    "# November hourly trend \n",
    "mon=keys[vals.index('Dec')]\n",
    "g1_hour =  get_gpats_data(cur_dir=cur_dir,sta=sta,res='H')['AMP']\n",
    "g1_hour = g1_hour.loc[g1_hour>1] \n",
    "g1_dec = g1_hour.loc[g1_hour.index.month==mon]\n",
    "(g1_dec.groupby(g1_dec.index.hour).count()).plot(kind='bar')"
   ]
  },
  {
   "cell_type": "markdown",
   "metadata": {},
   "source": [
    "For month of November, on average \n",
    "- storms observed about 7 days in Oct hours 2-4Z\n",
    "- storms observed about 11-12 days in Oct hours 4-5Z\n",
    "- peak 4 to 7Z , about 15 to 18 days have storms on average between these hours in Nov!"
   ]
  },
  {
   "cell_type": "code",
   "execution_count": 199,
   "metadata": {},
   "outputs": [
    {
     "name": "stdout",
     "output_type": "stream",
     "text": [
      "Reading YSSY gpats file /home/bou/shared/stats-R/flask_projects/avguide/app/data/gpats_YSSY_10NM.csv\n"
     ]
    },
    {
     "data": {
      "text/plain": [
       "<matplotlib.axes._subplots.AxesSubplot at 0x7f0e2db825d0>"
      ]
     },
     "execution_count": 199,
     "metadata": {},
     "output_type": "execute_result"
    },
    {
     "data": {
      "image/png": "[encoded data removed]",
      "text/plain": [
       "<Figure size 432x288 with 1 Axes>"
      ]
     },
     "metadata": {
      "needs_background": "light"
     },
     "output_type": "display_data"
    }
   ],
   "source": [
    "# to see hourly variation by season\n",
    "g1_hour =  get_gpats_data(cur_dir=cur_dir,sta=sta,res='H')['AMP']\n",
    "g1_hour = g1_hour.loc[g1_hour>1]  # only keep data with > 1 gpat count per hour\n",
    "\n",
    "spring = (g1_hour.index.month == 9) | (g1_hour.index.month == 10) | (g1_hour.index.month == 11)\n",
    "summer = (g1_hour.index.month == 12) | (g1_hour.index.month == 1) | (g1_hour.index.month == 2)\n",
    "autumn = (g1_hour.index.month == 3) | (g1_hour.index.month == 4) | (g1_hour.index.month == 5)\n",
    "winter = (g1_hour.index.month == 6) | (g1_hour.index.month == 7) | (g1_hour.index.month == 8)\n",
    "\n",
    "\n",
    "\n",
    "'''\n",
    "Not sure best way to get relative freq TS at given hour of day \n",
    "the TS counts for given hour is for total TS in that hour over 12 years - divide by 12 \n",
    "'''\n",
    "g1_spring = g1_hour.loc[spring]\n",
    "(g1_spring.groupby(g1_spring.index.hour).count()/12).plot(kind='line', color='#4b0082', linewidth=4,\n",
    "         marker='h', markerfacecolor='lightgreen', markeredgewidth=2)"
   ]
  },
  {
   "cell_type": "code",
   "execution_count": 200,
   "metadata": {},
   "outputs": [
    {
     "data": {
      "text/plain": [
       "<matplotlib.axes._subplots.AxesSubplot at 0x7f0e2a9a81d0>"
      ]
     },
     "execution_count": 200,
     "metadata": {},
     "output_type": "execute_result"
    },
    {
     "data": {
      "image/png": "[encoded data removed]",
      "text/plain": [
       "<Figure size 432x288 with 1 Axes>"
      ]
     },
     "metadata": {
      "needs_background": "light"
     },
     "output_type": "display_data"
    }
   ],
   "source": [
    "g1_summer = g1_hour.loc[summer]\n",
    "(g1_summer.groupby(g1_summer.index.hour).count()/12).plot(kind='line', color='green', linewidth=4,\n",
    "         marker='h', markerfacecolor='lightgreen', markeredgewidth=2)"
   ]
  },
  {
   "cell_type": "code",
   "execution_count": 203,
   "metadata": {},
   "outputs": [
    {
     "data": {
      "text/plain": [
       "Text(0.5, 0, 'Time of day UTC ')"
      ]
     },
     "execution_count": 203,
     "metadata": {},
     "output_type": "execute_result"
    },
    {
     "data": {
      "image/png": "[encoded data removed]",
      "text/plain": [
       "<Figure size 1008x576 with 1 Axes>"
      ]
     },
     "metadata": {
      "needs_background": "light"
     },
     "output_type": "display_data"
    }
   ],
   "source": [
    "\n",
    "g1_autumn = g1_hour.loc[autumn]\n",
    "\n",
    "g1_winter = g1_hour.loc[winter]\n",
    "\n",
    "fig, ax = plt.subplots(figsize=(14,8), nrows=1, ncols=1 )\n",
    "\n",
    "# fix lengend !!\n",
    "\n",
    "(g1_summer.groupby(g1_summer.index.hour).count()/12).plot(kind='line', color='red', linewidth=2,\n",
    "         marker='h', markerfacecolor='lightgreen', markeredgewidth=2)\n",
    "(g1_spring.groupby(g1_spring.index.hour).count()/12).plot(kind='line', color='blue', linewidth=2,\n",
    "         marker='h', markerfacecolor='lightblue', markeredgewidth=2)\n",
    "(g1_autumn.groupby(g1_autumn.index.hour).count()/12).plot(kind='line', color='yellow', linewidth=2,\n",
    "         marker='h', markerfacecolor='lightgreen', markeredgewidth=2)\n",
    "\n",
    "(g1_winter.groupby(g1_winter.index.hour).count()/12).plot(kind='line', color='green', linewidth=2,\n",
    "         marker='h', markerfacecolor='lightgreen', markeredgewidth=2)\n",
    "\n",
    "title = f'Relative Freq TS TS Occurence by Time of Day at {sta} \\n(for all 4 seasons: \\\n",
    "{ts_days.index[0].strftime(\"%b-%Y\")} to {ts_days.index[-1].strftime(\"%b-%Y\")})'\n",
    "ax.set_title(title, color='b',fontsize=15)\n",
    "ax.set_ylabel('Relative Frequency', color='g', fontsize=20)\n",
    "ax.set_xlabel('Time of day UTC ', color='g', fontsize=20)"
   ]
  },
  {
   "cell_type": "code",
   "execution_count": 204,
   "metadata": {},
   "outputs": [
    {
     "name": "stdout",
     "output_type": "stream",
     "text": [
      "Reading YSSY gpats file /home/bou/shared/stats-R/flask_projects/avguide/app/data/gpats_YSSY_10NM.csv\n",
      "TM\n",
      "2020-07-12    4\n",
      "2020-07-13    3\n",
      "2020-08-12    2\n",
      "2020-09-04    2\n",
      "2020-09-21    2\n",
      "Name: AMP, dtype: int64\n",
      "Number of storm days in YSSY 297,  297\n",
      "Reading YSRI gpats file /home/bou/shared/stats-R/flask_projects/avguide/app/data/gpats_YSRI_10NM.csv\n",
      "TM\n",
      "2020-04-29    2\n",
      "2020-05-21    2\n",
      "2020-07-13    4\n",
      "2020-08-08    2\n",
      "2020-08-12    2\n",
      "Name: AMP, dtype: int64\n",
      "Number of storm days in ysri 331,  331\n",
      "Reading YSCN gpats file /home/bou/shared/stats-R/flask_projects/avguide/app/data/gpats_YSCN_10NM.csv\n",
      "TM\n",
      "2020-04-10    3\n",
      "2020-05-21    3\n",
      "2020-07-13    2\n",
      "2020-08-12    2\n",
      "2020-09-21    2\n",
      "Name: AMP, dtype: int64\n",
      "Number of storm days in ysbk 289,  289\n",
      "Reading YSBK gpats file /home/bou/shared/stats-R/flask_projects/avguide/app/data/gpats_YSBK_10NM.csv\n",
      "TM\n",
      "2020-07-12    3\n",
      "2020-07-13    3\n",
      "2020-08-08    2\n",
      "2020-08-12    2\n",
      "2020-09-21    2\n",
      "Name: AMP, dtype: int64\n",
      "Number of storm days in ysbk 285,  285\n",
      "Reading YSHW gpats file /home/bou/shared/stats-R/flask_projects/avguide/app/data/gpats_YSHW_10NM.csv\n",
      "TM\n",
      "2020-05-28    2\n",
      "2020-07-12    2\n",
      "2020-07-13    3\n",
      "2020-08-12    2\n",
      "2020-09-21    2\n",
      "Name: AMP, dtype: int64\n",
      "Number of storm days in yshw 291,  291\n",
      "Reading YSHL gpats file /home/bou/shared/stats-R/flask_projects/avguide/app/data/gpats_YSHL_10NM.csv\n",
      "TM\n",
      "2020-02-18    4\n",
      "2020-04-10    2\n",
      "2020-05-21    2\n",
      "2020-07-13    4\n",
      "2020-08-08    2\n",
      "Name: AMP, dtype: int64\n",
      "Number of storm days in yshl 179,  179\n",
      "Reading YWLM gpats file /home/bou/shared/stats-R/flask_projects/avguide/app/data/gpats_YWLM_10NM.csv\n",
      "TM\n",
      "2020-03-25    2\n",
      "2020-06-07    5\n",
      "2020-07-12    4\n",
      "2020-08-12    2\n",
      "2020-09-21    2\n",
      "Name: AMP, dtype: int64\n",
      "Number of storm days in ywlm 277,  277\n"
     ]
    }
   ],
   "source": [
    "# def get_gpats_data(cur_dir:str=\"./gpats_data/\",sta:str=\"YBBN\")->pd.DataFrame:\n",
    "yssy = get_gpats_data(cur_dir=cur_dir,sta='YSSY',res='H')['AMP']\\\n",
    "       .resample('D').count()\n",
    "yssy = yssy.loc[yssy>1]  # only count days as storm days if more than 2 gpats regsitered\n",
    "print(yssy.tail())\n",
    "print(f'Number of storm days in YSSY {len(yssy.index)},  {len(set(yssy.index))}')\n",
    "\n",
    "ysri = get_gpats_data(cur_dir=cur_dir,sta='YSRI',res='H')['AMP']\\\n",
    "       .resample('D').count()\n",
    "ysri = ysri.loc[ysri>1]  # only count days as storm days if more than 2 gpats regsitered\n",
    "print(ysri.tail())\n",
    "print(f'Number of storm days in ysri {len(ysri.index)},  {len(set(ysri.index))}')\n",
    "\n",
    "yscn = get_gpats_data(cur_dir=cur_dir,sta='YSCN',res='H')['AMP']\\\n",
    "       .resample('D').count()\n",
    "yscn = yscn.loc[yscn>1]  # only count days as storm days if more than 2 gpats regsitered\n",
    "print(yscn.tail())\n",
    "print(f'Number of storm days in ysbk {len(yscn.index)},  {len(set(yscn.index))}')\n",
    "\n",
    "\n",
    "ysbk = get_gpats_data(cur_dir=cur_dir,sta='YSBK',res='H')['AMP']\\\n",
    "       .resample('D').count()\n",
    "ysbk = ysbk.loc[ysbk>1]  # only count days as storm days if more than 2 gpats regsitered\n",
    "print(ysbk.tail())\n",
    "print(f'Number of storm days in ysbk {len(ysbk.index)},  {len(set(ysbk.index))}')\n",
    "\n",
    "yshw = get_gpats_data(cur_dir=cur_dir,sta='YSHW',res='H')['AMP']\\\n",
    "       .resample('D').count()\n",
    "yshw = yshw.loc[yshw>1]  # only count days as storm days if more than 2 gpats regsitered\n",
    "print(yshw.tail())\n",
    "print(f'Number of storm days in yshw {len(yshw.index)},  {len(set(yshw.index))}')\n",
    "\n",
    "yshl = get_gpats_data(cur_dir=cur_dir,sta='YSHL',res='H')['AMP']\\\n",
    "       .resample('D').count()\n",
    "yshl = ysri.loc[yshl>1]  # only count days as storm days if more than 2 gpats regsitered\n",
    "print(yshl.tail())\n",
    "print(f'Number of storm days in yshl {len(yshl.index)},  {len(set(yshl.index))}')\n",
    "\n",
    "ywlm = get_gpats_data(cur_dir=cur_dir,sta='YWLM',res='H')['AMP']\\\n",
    "       .resample('D').count()\n",
    "ywlm = ywlm.loc[ywlm>1]  # only count days as storm days if more than 2 gpats regsitered\n",
    "print(ywlm.tail())\n",
    "print(f'Number of storm days in ywlm {len(ywlm.index)},  {len(set(ywlm.index))}')\n"
   ]
  },
  {
   "cell_type": "markdown",
   "metadata": {},
   "source": [
    "Get relative frequeccies\n",
    "How often SYd gets storms given there are storms at YSRI\n",
    "COnditional probabilities\n",
    "\n",
    "Storms YSSY given TS at YSRI\n",
    "- P(TS YSSY | TS YSRI)\n",
    "- P(TS YSSY | TS YSCN)\n",
    "\n",
    "storms at Banks and Holls given TS Camden\n",
    "\n",
    "- P(TS YSBK | TS YSCN)  or \n",
    "- P(TS YSHW | TS YSCN)\n",
    "\n",
    "\n",
    "Load gpats - get TS dates and set arithmatic to get conditionals"
   ]
  },
  {
   "cell_type": "code",
   "execution_count": 205,
   "metadata": {},
   "outputs": [
    {
     "data": {
      "text/plain": [
       "DatetimeIndex(['2008-02-26', '2008-02-27', '2008-03-07', '2008-03-20',\n",
       "               '2008-03-25', '2008-03-29', '2008-04-13', '2008-05-13',\n",
       "               '2008-05-28', '2008-06-19',\n",
       "               ...\n",
       "               '2020-02-15', '2020-02-18', '2020-05-13', '2020-05-21',\n",
       "               '2020-06-21', '2020-07-12', '2020-07-13', '2020-08-12',\n",
       "               '2020-09-04', '2020-09-21'],\n",
       "              dtype='datetime64[ns]', name='TM', length=297, freq=None)"
      ]
     },
     "execution_count": 205,
     "metadata": {},
     "output_type": "execute_result"
    }
   ],
   "source": [
    "yssy.index"
   ]
  },
  {
   "cell_type": "code",
   "execution_count": 206,
   "metadata": {},
   "outputs": [
    {
     "data": {
      "text/plain": [
       "[Timestamp('2020-02-15 00:00:00'),\n",
       " Timestamp('2020-02-18 00:00:00'),\n",
       " Timestamp('2020-05-13 00:00:00'),\n",
       " Timestamp('2020-05-21 00:00:00'),\n",
       " Timestamp('2020-06-21 00:00:00'),\n",
       " Timestamp('2020-07-12 00:00:00'),\n",
       " Timestamp('2020-07-13 00:00:00'),\n",
       " Timestamp('2020-08-12 00:00:00'),\n",
       " Timestamp('2020-09-04 00:00:00'),\n",
       " Timestamp('2020-09-21 00:00:00')]"
      ]
     },
     "execution_count": 206,
     "metadata": {},
     "output_type": "execute_result"
    }
   ],
   "source": [
    "# removing duplicated from list  \n",
    "# using collections.OrderedDict.fromkeys() \n",
    "from collections import OrderedDict \n",
    "res = list(OrderedDict.fromkeys(yssy.index)) \n",
    "res[-10:]"
   ]
  },
  {
   "cell_type": "code",
   "execution_count": 207,
   "metadata": {},
   "outputs": [
    {
     "name": "stdout",
     "output_type": "stream",
     "text": [
      "Number of days with storms at YSRI:331\n",
      "Number of days with storms at YSSY:297\n",
      "Number of days with storms at both locations: 184\n"
     ]
    }
   ],
   "source": [
    "'''\n",
    "easiest way by which the duplicates are removed from the list - use set()\n",
    "main drawback is that the ordering of the element is lost in this particular method - \n",
    "not too concerned with that here.\n",
    "\n",
    "set(A).union(set(B)),\n",
    "set(A).intersection(set(B)),\n",
    "set(A).symmetric_difference(set(B)),\n",
    "set(A).difference(set(B)),\n",
    "set(A).difference(set(B)))\n",
    "'''\n",
    "\n",
    "# 227 storm dates in common with ysri and yssy, 20 dates when storms possibly only at ysri\n",
    "print(f'Number of days with storms at YSRI:{len(set(ysri.index))}\\n\\\n",
    "Number of days with storms at YSSY:{len(set(yssy.index))}\\n\\\n",
    "Number of days with storms at both locations: {len(set(ysri.index).intersection(set(yssy.index)))}')"
   ]
  },
  {
   "cell_type": "code",
   "execution_count": 208,
   "metadata": {},
   "outputs": [
    {
     "name": "stdout",
     "output_type": "stream",
     "text": [
      "Number of days storms at only YSSY or only YSRI but not at both locations 260,260\n"
     ]
    }
   ],
   "source": [
    "# set symmetric_difference - dates which are not common to both sets (associative)\n",
    "# dates which appear in either one of the sets but not in both \n",
    "# (so not common or opposite of intersection)\n",
    "print(f'Number of days storms at only YSSY or only YSRI but not at both locations \\\n",
    "{len(set(ysri.index).symmetric_difference(set(yssy.index)))},\\\n",
    "{len(set(yssy.index).symmetric_difference(set(ysri.index)))}')"
   ]
  },
  {
   "cell_type": "code",
   "execution_count": 209,
   "metadata": {},
   "outputs": [
    {
     "name": "stdout",
     "output_type": "stream",
     "text": [
      "Number of days storms only at YSRI (and not at YSSY) 147\n",
      "Number of days storms only at YSSY (and not at YSRI) 113\n"
     ]
    }
   ],
   "source": [
    "\n",
    "'''\n",
    "From these 260 days, how many are in yssy alone and hom many in ysri only\n",
    "The set difference of A and B is a set of dates that exists only in set A but not in B'''\n",
    "print(f'Number of days storms only at YSRI (and not at YSSY) \\\n",
    "{len(set(ysri.index).difference(set(yssy.index)))}')\n",
    "\n",
    "print(f'Number of days storms only at YSSY (and not at YSRI) \\\n",
    "{len(set(yssy.index).difference(set(ysri.index)))}')"
   ]
  },
  {
   "cell_type": "code",
   "execution_count": 210,
   "metadata": {},
   "outputs": [
    {
     "name": "stdout",
     "output_type": "stream",
     "text": [
      "probability of TS at YSSY given TS at YSRI = 0.56 or 0.56\n"
     ]
    }
   ],
   "source": [
    "'''\n",
    "ysri had 367 storm days, yssy 347 days, of these common dates\n",
    "i.e Number of days with storms at both locations = 227\n",
    "\n",
    "Out of these, 140 days when storm only at YSRI but not at YSSY\n",
    "We want to find out how many days we get storms at YSSY given they were also observed at YSRI\n",
    "\n",
    "Simple approach \n",
    "1. find all dates when had stormsa at YSRI - call this number a\n",
    "2. find how mnay of these dates storms also at YSSY - b num of days\n",
    "3. conditional prob P(storm YSSY | storm at YSI) = b/a\n",
    "'''\n",
    "print (f'probability of TS at YSSY given TS at YSRI = \\\n",
    "{(len(set(ysri.index)) - len(set(ysri.index).difference(set(yssy.index)))) / len(set(ysri.index)):.2f} or \\\n",
    "{len(set(ysri.index).intersection(set(yssy.index))) / len(set(ysri.index)):.2f}')\n",
    "\n"
   ]
  },
  {
   "cell_type": "code",
   "execution_count": 211,
   "metadata": {},
   "outputs": [
    {
     "name": "stdout",
     "output_type": "stream",
     "text": [
      "probability of TS at YSSY given TS at YSRI = 0.56\n",
      "probability of TS at YSSY given TS at YSCN = 0.64\n",
      "probability of TS at YSSY given TS at YSBK = 0.77\n",
      "probability of TS at YSSY given TS at YSHW = 0.73\n"
     ]
    }
   ],
   "source": [
    "print (f'probability of TS at YSSY given TS at YSRI = \\\n",
    "{len(set(ysri.index).intersection(set(yssy.index))) / len(set(ysri.index)):.2f}')\n",
    "print (f'probability of TS at YSSY given TS at YSCN =\\\n",
    " {len(set(yscn.index).intersection(set(yssy.index))) / len(set(yscn.index)):.2f}')\n",
    "print (f'probability of TS at YSSY given TS at YSBK =\\\n",
    " {len(set(ysbk.index).intersection(set(yssy.index))) / len(set(ysbk.index)):.2f}')\n",
    "print (f'probability of TS at YSSY given TS at YSHW =\\\n",
    " {len(set(yshw.index).intersection(set(yssy.index))) / len(set(yshw.index)):.2f}')"
   ]
  },
  {
   "cell_type": "markdown",
   "metadata": {},
   "source": [
    "THis means that off all the storms that affect YSRI, 63% go on to affect YSSY also,\n",
    "If a storm is at YSBK, than there is 86% chance that storms will also affect YSSY\n",
    "Whether these are the same storms or not can be found by comparing TS onset times at two locations\n",
    "with the condition that storm at upstream locations occurs before storm at downwind  location. \n",
    "\n",
    "However 65% of days when have storms at YSSY, we also have storms at YSRI\n",
    "Does this mean storms form at YSSY and move west to affect YSRI!! "
   ]
  },
  {
   "cell_type": "code",
   "execution_count": 229,
   "metadata": {},
   "outputs": [
    {
     "name": "stdout",
     "output_type": "stream",
     "text": [
      "probability of TS at YSRI given TS at YSSY = 0.62\n"
     ]
    }
   ],
   "source": [
    "print (f'probability of TS at YSRI given TS at YSSY = \\\n",
    "{len(set(yssy.index).intersection(set(ysri.index))) / len(set(yssy.index)):.2f}')"
   ]
  },
  {
   "cell_type": "code",
   "execution_count": 230,
   "metadata": {},
   "outputs": [
    {
     "name": "stdout",
     "output_type": "stream",
     "text": [
      "Reading YSSY gpats file /home/bou/shared/stats-R/flask_projects/avguide/app/data/gpats_YSSY_10NM.csv\n",
      "Unique years in dataset = ['2008' '2009' '2010' '2011' '2012' '2013' '2014' '2015' '2016' '2017'\n",
      " '2018' '2019' '2020']\n"
     ]
    },
    {
     "data": {
      "text/html": [
       "<div>\n",
       "<style scoped>\n",
       "    .dataframe tbody tr th:only-of-type {\n",
       "        vertical-align: middle;\n",
       "    }\n",
       "\n",
       "    .dataframe tbody tr th {\n",
       "        vertical-align: top;\n",
       "    }\n",
       "\n",
       "    .dataframe thead th {\n",
       "        text-align: right;\n",
       "    }\n",
       "</style>\n",
       "<table border=\"1\" class=\"dataframe\">\n",
       "  <thead>\n",
       "    <tr style=\"text-align: right;\">\n",
       "      <th></th>\n",
       "      <th>AMP</th>\n",
       "    </tr>\n",
       "    <tr>\n",
       "      <th>TM</th>\n",
       "      <th></th>\n",
       "    </tr>\n",
       "  </thead>\n",
       "  <tbody>\n",
       "    <tr>\n",
       "      <th>2008</th>\n",
       "      <td>955</td>\n",
       "    </tr>\n",
       "    <tr>\n",
       "      <th>2009</th>\n",
       "      <td>728</td>\n",
       "    </tr>\n",
       "    <tr>\n",
       "      <th>2010</th>\n",
       "      <td>659</td>\n",
       "    </tr>\n",
       "    <tr>\n",
       "      <th>2011</th>\n",
       "      <td>318</td>\n",
       "    </tr>\n",
       "    <tr>\n",
       "      <th>2012</th>\n",
       "      <td>680</td>\n",
       "    </tr>\n",
       "    <tr>\n",
       "      <th>2013</th>\n",
       "      <td>666</td>\n",
       "    </tr>\n",
       "    <tr>\n",
       "      <th>2014</th>\n",
       "      <td>1199</td>\n",
       "    </tr>\n",
       "    <tr>\n",
       "      <th>2015</th>\n",
       "      <td>1287</td>\n",
       "    </tr>\n",
       "    <tr>\n",
       "      <th>2016</th>\n",
       "      <td>904</td>\n",
       "    </tr>\n",
       "    <tr>\n",
       "      <th>2017</th>\n",
       "      <td>856</td>\n",
       "    </tr>\n",
       "    <tr>\n",
       "      <th>2018</th>\n",
       "      <td>1211</td>\n",
       "    </tr>\n",
       "    <tr>\n",
       "      <th>2019</th>\n",
       "      <td>1040</td>\n",
       "    </tr>\n",
       "    <tr>\n",
       "      <th>2020</th>\n",
       "      <td>427</td>\n",
       "    </tr>\n",
       "  </tbody>\n",
       "</table>\n",
       "</div>"
      ],
      "text/plain": [
       "       AMP\n",
       "TM        \n",
       "2008   955\n",
       "2009   728\n",
       "2010   659\n",
       "2011   318\n",
       "2012   680\n",
       "2013   666\n",
       "2014  1199\n",
       "2015  1287\n",
       "2016   904\n",
       "2017   856\n",
       "2018  1211\n",
       "2019  1040\n",
       "2020   427"
      ]
     },
     "execution_count": 230,
     "metadata": {},
     "output_type": "execute_result"
    }
   ],
   "source": [
    "sta = 'YSSY'\n",
    "gpats_file = os.path.join(cur_dir, f'gpats_{sta}_10NM.csv')\n",
    "df = get_gpats_data(cur_dir,sta=sta,res='1min')\n",
    "\n",
    "months = df.index.strftime('%b')\n",
    "years = df.index.strftime('%Y')\n",
    "unique_years = pd.Series( df.index.strftime('%Y')).unique()\n",
    "print(f\"Unique years in dataset = {unique_years}\")\n",
    "# Get TS days per year, 1st the silly way\n",
    "pd.Series(years).value_counts().sort_index()\n",
    "\n",
    "# smarter way (note both are wrong ways to do this!)\n",
    "yearly_gpats = df.groupby(df.index.year)[['AMP']].agg('count')\n",
    "yearly_gpats\n"
   ]
  },
  {
   "cell_type": "code",
   "execution_count": 232,
   "metadata": {},
   "outputs": [
    {
     "name": "stdout",
     "output_type": "stream",
     "text": [
      "Reading YSSY gpats file /home/bou/shared/stats-R/flask_projects/avguide/app/data/gpats_YSSY_10NM.csv\n",
      "TM\n",
      "2020-01-06    3\n",
      "2020-01-07    3\n",
      "2020-01-15    3\n",
      "2020-01-16    2\n",
      "2020-01-20    6\n",
      "2020-01-23    4\n",
      "2020-01-26    2\n",
      "2020-02-02    4\n",
      "2020-02-15    3\n",
      "2020-02-18    2\n",
      "2020-05-13    4\n",
      "2020-05-21    3\n",
      "2020-06-21    2\n",
      "2020-07-12    4\n",
      "2020-07-13    3\n",
      "2020-08-12    2\n",
      "2020-09-04    2\n",
      "2020-09-21    2\n",
      "Name: AMP, dtype: int64\n",
      "\n",
      "Storm days Sydney by year\n",
      "       count\n",
      "TM         \n",
      "2008     27\n",
      "2009     24\n",
      "2010     20\n",
      "2011     18\n",
      "2012     22\n",
      "2013     23\n",
      "2014     27\n",
      "2015     30\n",
      "2016     22\n",
      "2017     23\n",
      "2018     24\n",
      "2019     19\n",
      "2020     18\n",
      "\n",
      "Total Number of storms days Sydney from Feb-2008 to Sep-2020 : 297 days\n",
      "\n",
      "Annual Average TS days in Sydney : 22.846153846153847\n",
      "See also - http://www.bom.gov.au/jsp/ncc/climate_averages/thunder-lightning/index.jsp\n"
     ]
    }
   ],
   "source": [
    "'''\n",
    "Note we can't compare like this across years as some years get more active/severe storms so higher gpats count. \n",
    "We only interested in how many storm days (not the severity as in how many gpats strikes were recorded on the day)\n",
    "'''\n",
    "sta = 'YSSY'\n",
    "gpats_file = os.path.join(cur_dir, f'gpats_{sta}_10NM.csv')\n",
    "df = get_gpats_data(cur_dir,sta=sta,res='H')['AMP'].resample('D').count()\n",
    "ts_days = df.loc[df>1]\n",
    "# we assume we need more than one gpats in a given day to count it as a ts day\n",
    "print(ts_days.loc['2020':]) # storm days/dates 2020\n",
    "# many days with only 2 or 3 gpats - cross check with manual obs and see if all okay\n",
    "\n",
    "ts_days_by_year = ts_days.groupby(ts_days.index.year).count()\\\n",
    "    .to_frame()\\\n",
    "    .rename(columns = {'AMP':'count'})\n",
    "\n",
    "num_years = len(pd.Series( df.index.strftime('%Y')).unique()) # number of years in dataset\n",
    "print(\"\\nStorm days Sydney by year\\n\",ts_days_by_year)\n",
    "print(f\"\\nTotal Number of storms days Sydney from \\\n",
    "{df.index[0].strftime('%b-%Y')} to {df.index[-1].strftime('%b-%Y')} : \\\n",
    "{ts_days_by_year.sum().values[0]} days\")\n",
    "\n",
    "print(f\"\\nAnnual Average TS days in Sydney : {(ts_days_by_year.sum().values[0])/num_years}\")\n",
    "\n",
    "print(\"See also - http://www.bom.gov.au/jsp/ncc/climate_averages/thunder-lightning/index.jsp\")\n",
    "# meaningless\n",
    "# ts_days_by_year/len(pd.Series( df.index.strftime('%Y')).unique())\n"
   ]
  },
  {
   "cell_type": "code",
   "execution_count": 240,
   "metadata": {
    "scrolled": true
   },
   "outputs": [
    {
     "data": {
      "text/plain": [
       "<matplotlib.axes._subplots.AxesSubplot at 0x7f0e296bdb90>"
      ]
     },
     "execution_count": 240,
     "metadata": {},
     "output_type": "execute_result"
    },
    {
     "data": {
      "image/png": "[encoded data removed]",
      "text/plain": [
       "<Figure size 432x288 with 1 Axes>"
      ]
     },
     "metadata": {
      "needs_background": "light"
     },
     "output_type": "display_data"
    }
   ],
   "source": [
    "ts_days_by_year.plot(kind='bar', grid=True)"
   ]
  },
  {
   "cell_type": "code",
   "execution_count": 233,
   "metadata": {},
   "outputs": [
    {
     "data": {
      "text/html": [
       "<div>\n",
       "<style scoped>\n",
       "    .dataframe tbody tr th:only-of-type {\n",
       "        vertical-align: middle;\n",
       "    }\n",
       "\n",
       "    .dataframe tbody tr th {\n",
       "        vertical-align: top;\n",
       "    }\n",
       "\n",
       "    .dataframe thead th {\n",
       "        text-align: right;\n",
       "    }\n",
       "</style>\n",
       "<table border=\"1\" class=\"dataframe\">\n",
       "  <thead>\n",
       "    <tr style=\"text-align: right;\">\n",
       "      <th></th>\n",
       "      <th>count</th>\n",
       "    </tr>\n",
       "    <tr>\n",
       "      <th>TM</th>\n",
       "      <th></th>\n",
       "    </tr>\n",
       "  </thead>\n",
       "  <tbody>\n",
       "    <tr>\n",
       "      <th>Jan</th>\n",
       "      <td>34</td>\n",
       "    </tr>\n",
       "    <tr>\n",
       "      <th>Feb</th>\n",
       "      <td>34</td>\n",
       "    </tr>\n",
       "    <tr>\n",
       "      <th>Mar</th>\n",
       "      <td>32</td>\n",
       "    </tr>\n",
       "    <tr>\n",
       "      <th>Apr</th>\n",
       "      <td>19</td>\n",
       "    </tr>\n",
       "    <tr>\n",
       "      <th>May</th>\n",
       "      <td>15</td>\n",
       "    </tr>\n",
       "    <tr>\n",
       "      <th>Jun</th>\n",
       "      <td>18</td>\n",
       "    </tr>\n",
       "    <tr>\n",
       "      <th>Jul</th>\n",
       "      <td>15</td>\n",
       "    </tr>\n",
       "    <tr>\n",
       "      <th>Aug</th>\n",
       "      <td>12</td>\n",
       "    </tr>\n",
       "    <tr>\n",
       "      <th>Sep</th>\n",
       "      <td>13</td>\n",
       "    </tr>\n",
       "    <tr>\n",
       "      <th>Oct</th>\n",
       "      <td>27</td>\n",
       "    </tr>\n",
       "    <tr>\n",
       "      <th>Nov</th>\n",
       "      <td>40</td>\n",
       "    </tr>\n",
       "    <tr>\n",
       "      <th>Dec</th>\n",
       "      <td>38</td>\n",
       "    </tr>\n",
       "  </tbody>\n",
       "</table>\n",
       "</div>"
      ],
      "text/plain": [
       "     count\n",
       "TM        \n",
       "Jan     34\n",
       "Feb     34\n",
       "Mar     32\n",
       "Apr     19\n",
       "May     15\n",
       "Jun     18\n",
       "Jul     15\n",
       "Aug     12\n",
       "Sep     13\n",
       "Oct     27\n",
       "Nov     40\n",
       "Dec     38"
      ]
     },
     "execution_count": 233,
     "metadata": {},
     "output_type": "execute_result"
    }
   ],
   "source": [
    "ts_days_by_month = ts_days.groupby(ts_days.index.month).count().to_frame()\\\n",
    "    .rename(columns = {'AMP':'count'})\n",
    "\n",
    "maps = {1:'Jan',2:'Feb',3:'Mar',4:'Apr',5:'May',6:'Jun',\\\n",
    "    7:'Jul',8:'Aug', 9:'Sep', 10:'Oct',11:'Nov',12:'Dec'}   \n",
    "\n",
    "# better not to crate dict mapping manually - use zip like this\n",
    "month_map = dict(zip(ts_days.index.month.unique(),\\\n",
    "     ts_days.index.strftime('%b').unique()))\n",
    "\n",
    "ts_days_by_month.rename(mapper=month_map, axis='index',inplace=True)\n",
    "#print(ts_days_by_month.rename(mapper=maps, axis='index'))  # just checked out correct as\n",
    "ts_days_by_month\n"
   ]
  },
  {
   "cell_type": "code",
   "execution_count": 234,
   "metadata": {},
   "outputs": [
    {
     "data": {
      "text/plain": [
       "True"
      ]
     },
     "execution_count": 234,
     "metadata": {},
     "output_type": "execute_result"
    }
   ],
   "source": [
    "# check that year and month sums/counts checks out\n",
    "ts_days_by_month.sum()[0]==ts_days_by_year.sum()[0]"
   ]
  },
  {
   "cell_type": "code",
   "execution_count": 235,
   "metadata": {},
   "outputs": [
    {
     "name": "stdout",
     "output_type": "stream",
     "text": [
      "Average Thunder days by month\n",
      "         count\n",
      "TM           \n",
      "Jan  2.615385\n",
      "Feb  2.615385\n",
      "Mar  2.461538\n",
      "Apr  1.461538\n",
      "May  1.153846\n",
      "Jun  1.384615\n",
      "Jul  1.153846\n",
      "Aug  0.923077\n",
      "Sep  1.000000\n",
      "Oct  2.076923\n",
      "Nov  3.076923\n",
      "Dec  2.923077\n"
     ]
    }
   ],
   "source": [
    "print(f\"Average Thunder days by month\\n {ts_days_by_month/num_years}\")"
   ]
  },
  {
   "cell_type": "code",
   "execution_count": 223,
   "metadata": {},
   "outputs": [
    {
     "name": "stdout",
     "output_type": "stream",
     "text": [
      "Reading YSSY gpats file /home/bou/shared/stats-R/flask_projects/avguide/app/data/gpats_YSSY_10NM.csv\n"
     ]
    },
    {
     "name": "stderr",
     "output_type": "stream",
     "text": [
      "/home/bou/py37/lib64/python3.7/site-packages/ipykernel_launcher.py:17: FutureWarning: using a dict with renaming is deprecated and will be removed\n",
      "in a future version.\n",
      "\n",
      "For column-specific groupby renaming, use named aggregation\n",
      "\n",
      "    >>> df.groupby(...).agg(name=('column', aggfunc))\n",
      "\n"
     ]
    },
    {
     "name": "stdout",
     "output_type": "stream",
     "text": [
      "Reading YSRI gpats file /home/bou/shared/stats-R/flask_projects/avguide/app/data/gpats_YSRI_10NM.csv\n"
     ]
    }
   ],
   "source": [
    "sta = 'YSSY'\n",
    "gpats_file = os.path.join(cur_dir, f'gpats_{sta}_10NM.csv')\n",
    "gpats = get_gpats_data(cur_dir,sta=sta,res='1min')\n",
    "yssy_times = get_gpats_start_end_duration(gpats)[['first','last']]\n",
    "\n",
    "sta = 'YSRI'\n",
    "gpats_file = os.path.join(cur_dir, f'gpats_{sta}_10NM.csv')\n",
    "gpats = get_gpats_data(cur_dir,sta=sta,res='1min')\n",
    "ysri_times = get_gpats_start_end_duration(gpats)[['first','last']]"
   ]
  },
  {
   "cell_type": "code",
   "execution_count": 224,
   "metadata": {},
   "outputs": [
    {
     "data": {
      "text/plain": [
       "(DatetimeIndex(['2008-02-26', '2008-02-27', '2008-03-07', '2008-03-24',\n",
       "                '2008-03-25', '2008-03-28', '2008-04-07', '2008-04-13',\n",
       "                '2008-05-13', '2008-06-19',\n",
       "                ...\n",
       "                '2020-02-18', '2020-02-26', '2020-03-25', '2020-04-10',\n",
       "                '2020-04-29', '2020-05-21', '2020-07-13', '2020-08-08',\n",
       "                '2020-08-12', '2020-09-04'],\n",
       "               dtype='datetime64[ns]', name='TM', length=384, freq=None),\n",
       "                          first                last\n",
       " TM                                                \n",
       " 2020-05-21 2020-05-21 08:12:00 2020-05-21 09:04:00\n",
       " 2020-07-13 2020-07-13 07:50:00 2020-07-13 13:08:00\n",
       " 2020-08-08 2020-08-08 08:51:00 2020-08-08 09:07:00\n",
       " 2020-08-12 2020-08-12 08:43:00 2020-08-12 09:04:00\n",
       " 2020-09-04 2020-09-04 10:25:00 2020-09-04 10:51:00,\n",
       "                          first                last\n",
       " TM                                                \n",
       " 2020-07-12 2020-07-12 05:53:00 2020-07-12 13:58:00\n",
       " 2020-07-13 2020-07-13 09:52:00 2020-07-13 11:11:00\n",
       " 2020-08-12 2020-08-12 09:24:00 2020-08-12 10:08:00\n",
       " 2020-09-04 2020-09-04 09:05:00 2020-09-04 11:18:00\n",
       " 2020-09-21 2020-09-21 10:35:00 2020-09-21 11:28:00)"
      ]
     },
     "execution_count": 224,
     "metadata": {},
     "output_type": "execute_result"
    }
   ],
   "source": [
    "ysri_times.index,ysri_times.tail(),yssy_times.tail()"
   ]
  },
  {
   "cell_type": "code",
   "execution_count": 225,
   "metadata": {},
   "outputs": [
    {
     "data": {
      "text/html": [
       "<div>\n",
       "<style scoped>\n",
       "    .dataframe tbody tr th:only-of-type {\n",
       "        vertical-align: middle;\n",
       "    }\n",
       "\n",
       "    .dataframe tbody tr th {\n",
       "        vertical-align: top;\n",
       "    }\n",
       "\n",
       "    .dataframe thead th {\n",
       "        text-align: right;\n",
       "    }\n",
       "</style>\n",
       "<table border=\"1\" class=\"dataframe\">\n",
       "  <thead>\n",
       "    <tr style=\"text-align: right;\">\n",
       "      <th></th>\n",
       "      <th>ysri_start</th>\n",
       "      <th>ysri_last</th>\n",
       "      <th>yssy_start</th>\n",
       "      <th>yssy_last</th>\n",
       "    </tr>\n",
       "    <tr>\n",
       "      <th>TM</th>\n",
       "      <th></th>\n",
       "      <th></th>\n",
       "      <th></th>\n",
       "      <th></th>\n",
       "    </tr>\n",
       "  </thead>\n",
       "  <tbody>\n",
       "    <tr>\n",
       "      <th>2008-02-26</th>\n",
       "      <td>2008-02-26 04:08:00</td>\n",
       "      <td>2008-02-26 16:28:00</td>\n",
       "      <td>2008-02-26 06:13:00</td>\n",
       "      <td>2008-02-26 20:29:00</td>\n",
       "    </tr>\n",
       "    <tr>\n",
       "      <th>2008-02-27</th>\n",
       "      <td>2008-02-27 07:24:00</td>\n",
       "      <td>2008-02-27 23:47:00</td>\n",
       "      <td>2008-02-27 07:53:00</td>\n",
       "      <td>2008-02-27 23:58:00</td>\n",
       "    </tr>\n",
       "    <tr>\n",
       "      <th>2008-03-07</th>\n",
       "      <td>2008-03-07 08:46:00</td>\n",
       "      <td>2008-03-07 13:21:00</td>\n",
       "      <td>2008-03-07 08:38:00</td>\n",
       "      <td>2008-03-07 10:58:00</td>\n",
       "    </tr>\n",
       "    <tr>\n",
       "      <th>2008-03-25</th>\n",
       "      <td>2008-03-25 10:47:00</td>\n",
       "      <td>2008-03-25 11:08:00</td>\n",
       "      <td>2008-03-25 05:19:00</td>\n",
       "      <td>2008-03-25 12:19:00</td>\n",
       "    </tr>\n",
       "    <tr>\n",
       "      <th>2008-04-13</th>\n",
       "      <td>2008-04-13 01:34:00</td>\n",
       "      <td>2008-04-13 09:51:00</td>\n",
       "      <td>2008-04-13 02:12:00</td>\n",
       "      <td>2008-04-13 09:38:00</td>\n",
       "    </tr>\n",
       "    <tr>\n",
       "      <th>...</th>\n",
       "      <td>...</td>\n",
       "      <td>...</td>\n",
       "      <td>...</td>\n",
       "      <td>...</td>\n",
       "    </tr>\n",
       "    <tr>\n",
       "      <th>2020-04-10</th>\n",
       "      <td>2020-04-10 07:58:00</td>\n",
       "      <td>2020-04-10 08:03:00</td>\n",
       "      <td>2020-04-10 07:02:00</td>\n",
       "      <td>2020-04-10 07:54:00</td>\n",
       "    </tr>\n",
       "    <tr>\n",
       "      <th>2020-05-21</th>\n",
       "      <td>2020-05-21 08:12:00</td>\n",
       "      <td>2020-05-21 09:04:00</td>\n",
       "      <td>2020-05-21 08:02:00</td>\n",
       "      <td>2020-05-21 10:12:00</td>\n",
       "    </tr>\n",
       "    <tr>\n",
       "      <th>2020-07-13</th>\n",
       "      <td>2020-07-13 07:50:00</td>\n",
       "      <td>2020-07-13 13:08:00</td>\n",
       "      <td>2020-07-13 09:52:00</td>\n",
       "      <td>2020-07-13 11:11:00</td>\n",
       "    </tr>\n",
       "    <tr>\n",
       "      <th>2020-08-12</th>\n",
       "      <td>2020-08-12 08:43:00</td>\n",
       "      <td>2020-08-12 09:04:00</td>\n",
       "      <td>2020-08-12 09:24:00</td>\n",
       "      <td>2020-08-12 10:08:00</td>\n",
       "    </tr>\n",
       "    <tr>\n",
       "      <th>2020-09-04</th>\n",
       "      <td>2020-09-04 10:25:00</td>\n",
       "      <td>2020-09-04 10:51:00</td>\n",
       "      <td>2020-09-04 09:05:00</td>\n",
       "      <td>2020-09-04 11:18:00</td>\n",
       "    </tr>\n",
       "  </tbody>\n",
       "</table>\n",
       "<p>238 rows × 4 columns</p>\n",
       "</div>"
      ],
      "text/plain": [
       "                    ysri_start           ysri_last          yssy_start  \\\n",
       "TM                                                                       \n",
       "2008-02-26 2008-02-26 04:08:00 2008-02-26 16:28:00 2008-02-26 06:13:00   \n",
       "2008-02-27 2008-02-27 07:24:00 2008-02-27 23:47:00 2008-02-27 07:53:00   \n",
       "2008-03-07 2008-03-07 08:46:00 2008-03-07 13:21:00 2008-03-07 08:38:00   \n",
       "2008-03-25 2008-03-25 10:47:00 2008-03-25 11:08:00 2008-03-25 05:19:00   \n",
       "2008-04-13 2008-04-13 01:34:00 2008-04-13 09:51:00 2008-04-13 02:12:00   \n",
       "...                        ...                 ...                 ...   \n",
       "2020-04-10 2020-04-10 07:58:00 2020-04-10 08:03:00 2020-04-10 07:02:00   \n",
       "2020-05-21 2020-05-21 08:12:00 2020-05-21 09:04:00 2020-05-21 08:02:00   \n",
       "2020-07-13 2020-07-13 07:50:00 2020-07-13 13:08:00 2020-07-13 09:52:00   \n",
       "2020-08-12 2020-08-12 08:43:00 2020-08-12 09:04:00 2020-08-12 09:24:00   \n",
       "2020-09-04 2020-09-04 10:25:00 2020-09-04 10:51:00 2020-09-04 09:05:00   \n",
       "\n",
       "                     yssy_last  \n",
       "TM                              \n",
       "2008-02-26 2008-02-26 20:29:00  \n",
       "2008-02-27 2008-02-27 23:58:00  \n",
       "2008-03-07 2008-03-07 10:58:00  \n",
       "2008-03-25 2008-03-25 12:19:00  \n",
       "2008-04-13 2008-04-13 09:38:00  \n",
       "...                        ...  \n",
       "2020-04-10 2020-04-10 07:54:00  \n",
       "2020-05-21 2020-05-21 10:12:00  \n",
       "2020-07-13 2020-07-13 11:11:00  \n",
       "2020-08-12 2020-08-12 10:08:00  \n",
       "2020-09-04 2020-09-04 11:18:00  \n",
       "\n",
       "[238 rows x 4 columns]"
      ]
     },
     "execution_count": 225,
     "metadata": {},
     "output_type": "execute_result"
    }
   ],
   "source": [
    "merged = pd.merge(left=ysri_times, right=yssy_times,how = 'inner',on='TM')\\\n",
    "    .rename(columns = {'first_x':'ysri_start', 'last_x':'ysri_last', 'first_y':'yssy_start', 'last_y':'yssy_last'})\n",
    "merged #,merged.shape"
   ]
  },
  {
   "cell_type": "code",
   "execution_count": 226,
   "metadata": {
    "scrolled": true
   },
   "outputs": [
    {
     "name": "stdout",
     "output_type": "stream",
     "text": [
      "Out of the 238 days when we have storms at both YSSY and YSRI,\n",
      "- on about 62 days or 26% of Days storms hit YSRI after going through YSSY first, and\n",
      "- on about 175 days or 74% of Days storms hit YSSY after going through YSRI first.\n",
      "\n",
      "On average it takes 141 minutes for storms to move from YSRI to YSSY minutes.\n"
     ]
    }
   ],
   "source": [
    "# YSRI TS start time after TS at YSSY\n",
    "ts_yssy_then_ysri = merged.loc[(merged['ysri_start']>merged['yssy_start'])]\n",
    "print(f\"Out of the {merged.shape[0]} days when we have storms at both YSSY and YSRI,\\n\\\n",
    "- on about {ts_yssy_then_ysri.shape[0]} days or {ts_yssy_then_ysri.shape[0]/merged.shape[0]*100:.0f}% \\\n",
    "of Days storms hit YSRI after going through YSSY first, and\")\n",
    "\n",
    "# YSSY TS start time after TS at YSRI - most likely TS advected from YSRI to YSSY\n",
    "ts_ysri_then_yssy = merged.loc[(merged['yssy_start']>merged['ysri_start'])]\n",
    "print(f\"- on about {ts_ysri_then_yssy.shape[0]} days or {ts_ysri_then_yssy.shape[0]/merged.shape[0]*100:.0f}% \\\n",
    "of Days storms hit YSSY after going through YSRI first.\")\n",
    "\n",
    "print(f'\\nOn average it takes \\\n",
    "{(ts_ysri_then_yssy[\"yssy_start\"]-ts_ysri_then_yssy[\"ysri_start\"]).mean().seconds/60:.0f} \\\n",
    "minutes for storms to move from YSRI to YSSY minutes.')"
   ]
  },
  {
   "cell_type": "code",
   "execution_count": 227,
   "metadata": {},
   "outputs": [
    {
     "name": "stdout",
     "output_type": "stream",
     "text": [
      "TM\n",
      "2020-02-02    2\n",
      "2020-02-15    2\n",
      "2020-02-18    6\n",
      "2020-07-13    2\n",
      "2020-08-12    1\n",
      "dtype: int64\n",
      "TM\n",
      "2020-02-02   01:25:00\n",
      "2020-02-15   02:30:00\n",
      "2020-02-18   05:38:00\n",
      "2020-07-13   02:02:00\n",
      "2020-08-12   00:41:00\n",
      "dtype: timedelta64[ns]\n",
      "\n",
      " Limit travel time to 3 hrs 30 min 0 days 03:30:00\n",
      "(175,)\n",
      "(146, 4)\n"
     ]
    }
   ],
   "source": [
    "#ts_ysri_then_yssy[ts_ysri_then_yssy['yssy_start'].dt.hour-ts_ysri_then_yssy['ysri_start'].dt.hour]\n",
    "ts_ysri_then_yssy['yssy_start']   #  dtype: datetime64[ns]\n",
    "ts_ysri_then_yssy['ysri_start'].dt.hour   #  TS start hour at YSRI (dtype: int64)\n",
    "ts_ysri_then_yssy['yssy_start'].dt.hour   #  TS start hour at YSSY (dtype: int64)\n",
    "# we want to set some bounds on TS onset time difference between YSSY and YSRI\n",
    "# specifically we only would like to consider storms at YSSY between 2 to 3 hours of start time at YSRI\n",
    "# series below gives time differene in hours between TS onset YSRI and YSSY\n",
    "# note that we only considering days when stoms onset YSSY is after YSRI\n",
    "# with believe that \"SAME\" storms (that form near YSRI) move eastwards to affect YSSY\n",
    "print( (ts_ysri_then_yssy['yssy_start'].dt.hour - \\\n",
    "        ts_ysri_then_yssy['ysri_start'].dt.hour).tail()   )\n",
    "# above rounds up to nearest hour and resulting datatype is int\n",
    "# to get true timedelta objects - convert series  to datetime and then do subtraction\n",
    "\n",
    "print( (  pd.to_datetime(ts_ysri_then_yssy['yssy_start']) - \\\n",
    "          pd.to_datetime(ts_ysri_then_yssy['ysri_start']) )\\\n",
    "       .tail() )\n",
    "\n",
    "# this works but if you apply .dt.seconds gives int\n",
    "print(\"\\n Limit travel time to 3 hrs 30 min\",  pd.Timedelta(hours=3.5))\n",
    "# we only want to consider TS at YSSY that happen within 2 or 3 hours of onset at YSRI\n",
    "# narrows storms to those likely to have moved from YSRI to YSSY \n",
    "# locations 25nm apart - 25 knots steering should take one hour, 12 knots would give 2 hours\n",
    "# lets set an upper threshold on TS travel time YSRI to YSSY about 3.5 hours\n",
    "# and treat only those days as genuine storm days when TS advects from YSRI to YSSY\n",
    "\n",
    "mask = (  pd.to_datetime(ts_ysri_then_yssy['yssy_start']) - \\\n",
    "          pd.to_datetime(ts_ysri_then_yssy['ysri_start']) ) < pd.Timedelta(hours=3.5) \n",
    "\n",
    "print(mask.shape) # of the 175 days when storms develop 1st at YSRI and then move on to affect YSSY\n",
    "\n",
    "print(ts_ysri_then_yssy.loc[mask].shape)  # 145 have \n"
   ]
  },
  {
   "cell_type": "code",
   "execution_count": 228,
   "metadata": {},
   "outputs": [
    {
     "data": {
      "text/html": [
       "<div>\n",
       "<style scoped>\n",
       "    .dataframe tbody tr th:only-of-type {\n",
       "        vertical-align: middle;\n",
       "    }\n",
       "\n",
       "    .dataframe tbody tr th {\n",
       "        vertical-align: top;\n",
       "    }\n",
       "\n",
       "    .dataframe thead th {\n",
       "        text-align: right;\n",
       "    }\n",
       "</style>\n",
       "<table border=\"1\" class=\"dataframe\">\n",
       "  <thead>\n",
       "    <tr style=\"text-align: right;\">\n",
       "      <th></th>\n",
       "      <th>ysri_start</th>\n",
       "      <th>ysri_last</th>\n",
       "      <th>yssy_start</th>\n",
       "      <th>yssy_last</th>\n",
       "    </tr>\n",
       "    <tr>\n",
       "      <th>TM</th>\n",
       "      <th></th>\n",
       "      <th></th>\n",
       "      <th></th>\n",
       "      <th></th>\n",
       "    </tr>\n",
       "  </thead>\n",
       "  <tbody>\n",
       "    <tr>\n",
       "      <th>2020-01-26</th>\n",
       "      <td>2020-01-26 02:38:00</td>\n",
       "      <td>2020-01-26 08:09:00</td>\n",
       "      <td>2020-01-26 04:22:00</td>\n",
       "      <td>2020-01-26 05:17:00</td>\n",
       "    </tr>\n",
       "    <tr>\n",
       "      <th>2020-02-02</th>\n",
       "      <td>2020-02-02 04:40:00</td>\n",
       "      <td>2020-02-02 08:32:00</td>\n",
       "      <td>2020-02-02 06:05:00</td>\n",
       "      <td>2020-02-02 09:11:00</td>\n",
       "    </tr>\n",
       "    <tr>\n",
       "      <th>2020-02-15</th>\n",
       "      <td>2020-02-15 05:06:00</td>\n",
       "      <td>2020-02-15 09:05:00</td>\n",
       "      <td>2020-02-15 07:36:00</td>\n",
       "      <td>2020-02-15 09:03:00</td>\n",
       "    </tr>\n",
       "    <tr>\n",
       "      <th>2020-07-13</th>\n",
       "      <td>2020-07-13 07:50:00</td>\n",
       "      <td>2020-07-13 13:08:00</td>\n",
       "      <td>2020-07-13 09:52:00</td>\n",
       "      <td>2020-07-13 11:11:00</td>\n",
       "    </tr>\n",
       "    <tr>\n",
       "      <th>2020-08-12</th>\n",
       "      <td>2020-08-12 08:43:00</td>\n",
       "      <td>2020-08-12 09:04:00</td>\n",
       "      <td>2020-08-12 09:24:00</td>\n",
       "      <td>2020-08-12 10:08:00</td>\n",
       "    </tr>\n",
       "  </tbody>\n",
       "</table>\n",
       "</div>"
      ],
      "text/plain": [
       "                    ysri_start           ysri_last          yssy_start  \\\n",
       "TM                                                                       \n",
       "2020-01-26 2020-01-26 02:38:00 2020-01-26 08:09:00 2020-01-26 04:22:00   \n",
       "2020-02-02 2020-02-02 04:40:00 2020-02-02 08:32:00 2020-02-02 06:05:00   \n",
       "2020-02-15 2020-02-15 05:06:00 2020-02-15 09:05:00 2020-02-15 07:36:00   \n",
       "2020-07-13 2020-07-13 07:50:00 2020-07-13 13:08:00 2020-07-13 09:52:00   \n",
       "2020-08-12 2020-08-12 08:43:00 2020-08-12 09:04:00 2020-08-12 09:24:00   \n",
       "\n",
       "                     yssy_last  \n",
       "TM                              \n",
       "2020-01-26 2020-01-26 05:17:00  \n",
       "2020-02-02 2020-02-02 09:11:00  \n",
       "2020-02-15 2020-02-15 09:03:00  \n",
       "2020-07-13 2020-07-13 11:11:00  \n",
       "2020-08-12 2020-08-12 10:08:00  "
      ]
     },
     "execution_count": 228,
     "metadata": {},
     "output_type": "execute_result"
    }
   ],
   "source": [
    "ts_ysri_then_yssy.loc[mask].tail()"
   ]
  },
  {
   "cell_type": "code",
   "execution_count": 214,
   "metadata": {},
   "outputs": [],
   "source": [
    "# put comparision between two stations in to a function so we can \n",
    "# easily compare any two locations\n",
    "\n",
    "\n",
    "def convert_to_hours(delta):\n",
    "    total_seconds = delta.total_seconds()\n",
    "    hours = str(int(total_seconds // 3600)).zfill(2)\n",
    "    minutes = str(int((total_seconds % 3600) // 60)).zfill(2)\n",
    "    seconds = str(int(total_seconds % 60)).zfill(2)\n",
    "    return f\"{hours}:{minutes}:{seconds}\"\n",
    "\n",
    "# delta = timedelta(days=3, hours=21, minutes=2, seconds=5)\n",
    "# 3 days, 21:02:05\n",
    "# convert_to_hours(delta)\n",
    "# 93:02:05\n",
    "# And to convert your dataframe, you can do something like this:\n",
    "# df[\"time\"] = df[\"time\"].apply(convert_to_hours)\n",
    "\n",
    "def duration(diff):\n",
    "    tsec = diff.total_seconds()\n",
    "    hh = int(tsec//3600)\n",
    "    mm = int((tsec%3600)//60)\n",
    "    ss = int((tsec%3600)%60)\n",
    "    #return('{:02d}:{:02d}:{:02d}'.format(hh,mm,ss))\n",
    "    return('{:02d}:{:02d}'.format(hh,mm))\n",
    "\n",
    "def compare_gpats_storm(loc1='YSRI',loc2='YSSY'):\n",
    "    loc1=loc1.upper()\n",
    "    loc2=loc2.upper()\n",
    "    g_loc1 =  get_gpats_data(cur_dir,sta=loc1,res='1min')\n",
    "    ts_loc1 = get_gpats_start_end_duration(g_loc1)[['first','last']]\n",
    "    g_loc2 =  get_gpats_data(cur_dir,sta=loc2,res='1min')\n",
    "    ts_loc2 = get_gpats_start_end_duration(g_loc2)[['first','last']]\n",
    "    \n",
    "    # https://www.generacodice.com/en/articolo/247120/Python+timedelta+in+years\n",
    "    \n",
    "    num_days = ( pd.to_datetime(g_loc1.index[-1]) - pd.to_datetime(g_loc1.index[0]) ).days\n",
    "    num_years = num_days/365.25\n",
    "    \n",
    "    merged = pd.merge(left=ts_loc1, right=ts_loc2,how = 'inner',on='TM')\\\n",
    "    .rename(columns = {'first_x':loc1+'_start', 'last_x':loc1+'_last',\\\n",
    "                       'first_y':loc2+'_start', 'last_y':loc2+'_last'})\n",
    "    \n",
    "    print(f'\\n\\nIn the period between \\\n",
    "    {g_loc1.index[0].strftime(\"%d-%b-%Y\")} and \\\n",
    "    {g_loc1.index[-1].strftime(\"%d-%b-%Y\")}\\n(that is {num_years:.1f} years and {num_days} days \\\n",
    "    \\nNum of storm days at {loc1} = {ts_loc1.shape[0]}\\nNum of storm days at {loc2} = {ts_loc2.shape[0]}\\\n",
    "    \\nNum of days with storm recorded at both locations = {merged.shape[0]}')\n",
    "    \n",
    "    # loc2 TS start time after TS at loc1\n",
    "    ts_loc1_then_loc2 = merged.loc[(merged[loc2+'_start']>merged[loc1+'_start'])]\n",
    "    \n",
    "    print(f\"\\nOut of the {merged.shape[0]} days when we have storms at both {loc1} and {loc2},\\\n",
    "    \\n- on about {ts_loc1_then_loc2.shape[0]} days or {ts_loc1_then_loc2.shape[0]/merged.shape[0]*100:.0f}%\\\n",
    "    of days, storms occurred at {loc2} after {loc1}, and\")\n",
    "\n",
    "    # YSSY TS start time after TS at YSRI - most likely TS advected from YSRI to YSSY\n",
    "    ts_loc2_then_loc1 = merged.loc[(merged[loc1+'_start']>merged[loc2+'_start'])]\n",
    "    \n",
    "    print(f\"- on about {ts_loc2_then_loc1.shape[0]} days or {ts_loc2_then_loc1.shape[0]/merged.shape[0]*100:.0f}%\\\n",
    "    of days, storms occurred at {loc1} after {loc2}.\")\n",
    "    \n",
    "    print(f\"\\nNB:The relative frequencies above account for storms affecting both locations on the same day\\n\\\n",
    "    and requirement they affect the downstream location {loc2} after {loc1} - this assumes storms at {loc2}\\n\\\n",
    "    have advected from {loc1}. This many not always be the case!!\")\n",
    "\n",
    "    print(f\"\\nOn average storms develop near upstream location {loc1} about 0{pd.to_datetime(ts_loc1_then_loc2[loc1+'_start']).dt.hour.median():.0f}Z\")\n",
    "    print(f\"On average storms advect or develop downstream location {loc2} about  0{pd.to_datetime(ts_loc1_then_loc2[loc2+'_start']).dt.hour.median():.0f}Z\")\n",
    "    \n",
    "    travel_time = (pd.to_datetime(ts_loc1_then_loc2[loc2+'_start']) - \\\n",
    "                  pd.to_datetime(ts_loc1_then_loc2[loc1+'_start']))#.apply(convert_to_hours)\n",
    "    \n",
    "    # print(travel_time)\n",
    "    \n",
    "    print(f'\\nTravel time storm from {loc1} to {loc2} (25% and 75% percentiles in hours:minutes HH:MM):\\\n",
    "    \\nbetween {duration(travel_time.quantile(.25))} to\\\n",
    "    {duration(travel_time.quantile(.75))}') #' with mean of {travel_time.quantile(.5)}.')\n",
    "    \n",
    "\n",
    "    return(merged,ts_loc1_then_loc2,ts_loc2_then_loc1)"
   ]
  },
  {
   "cell_type": "code",
   "execution_count": 215,
   "metadata": {
    "scrolled": true
   },
   "outputs": [
    {
     "name": "stdout",
     "output_type": "stream",
     "text": [
      "Reading YSRI gpats file /home/bou/shared/stats-R/flask_projects/avguide/app/data/gpats_YSRI_10NM.csv\n"
     ]
    },
    {
     "name": "stderr",
     "output_type": "stream",
     "text": [
      "/home/bou/py37/lib64/python3.7/site-packages/ipykernel_launcher.py:17: FutureWarning: using a dict with renaming is deprecated and will be removed\n",
      "in a future version.\n",
      "\n",
      "For column-specific groupby renaming, use named aggregation\n",
      "\n",
      "    >>> df.groupby(...).agg(name=('column', aggfunc))\n",
      "\n"
     ]
    },
    {
     "name": "stdout",
     "output_type": "stream",
     "text": [
      "Reading YSSY gpats file /home/bou/shared/stats-R/flask_projects/avguide/app/data/gpats_YSSY_10NM.csv\n",
      "\n",
      "\n",
      "In the period between     26-Feb-2008 and     04-Sep-2020\n",
      "(that is 12.5 years and 4574 days     \n",
      "Num of storm days at YSRI = 384\n",
      "Num of storm days at YSSY = 372    \n",
      "Num of days with storm recorded at both locations = 238\n",
      "\n",
      "Out of the 238 days when we have storms at both YSRI and YSSY,    \n",
      "- on about 175 days or 74%    of days, storms occurred at YSSY after YSRI, and\n",
      "- on about 62 days or 26%    of days, storms occurred at YSRI after YSSY.\n",
      "\n",
      "NB:The relative frequencies above account for storms affecting both locations on the same day\n",
      "    and requirement they affect the downstream location YSSY after YSRI - this assumes storms at YSSY\n",
      "    have advected from YSRI. This many not always be the case!!\n",
      "\n",
      "On average storms develop near upstream location YSRI about 04Z\n",
      "On average storms advect or develop downstream location YSSY about  06Z\n",
      "\n",
      "Travel time storm from YSRI to YSSY (25% and 75% percentiles in hours:minutes HH:MM):    \n",
      "between 00:41 to    02:23\n"
     ]
    }
   ],
   "source": [
    "merged,ts_A2B,ts_B2A = compare_gpats_storm(loc1='Ysri',loc2='yssy')  "
   ]
  },
  {
   "cell_type": "code",
   "execution_count": 216,
   "metadata": {},
   "outputs": [
    {
     "name": "stdout",
     "output_type": "stream",
     "text": [
      "Reading YSCN gpats file /home/bou/shared/stats-R/flask_projects/avguide/app/data/gpats_YSCN_10NM.csv\n"
     ]
    },
    {
     "name": "stderr",
     "output_type": "stream",
     "text": [
      "/home/bou/py37/lib64/python3.7/site-packages/ipykernel_launcher.py:17: FutureWarning: using a dict with renaming is deprecated and will be removed\n",
      "in a future version.\n",
      "\n",
      "For column-specific groupby renaming, use named aggregation\n",
      "\n",
      "    >>> df.groupby(...).agg(name=('column', aggfunc))\n",
      "\n"
     ]
    },
    {
     "name": "stdout",
     "output_type": "stream",
     "text": [
      "Reading YSSY gpats file /home/bou/shared/stats-R/flask_projects/avguide/app/data/gpats_YSSY_10NM.csv\n",
      "\n",
      "\n",
      "In the period between     26-Feb-2008 and     25-Sep-2020\n",
      "(that is 12.6 years and 4595 days     \n",
      "Num of storm days at YSCN = 333\n",
      "Num of storm days at YSSY = 372    \n",
      "Num of days with storm recorded at both locations = 233\n",
      "\n",
      "Out of the 233 days when we have storms at both YSCN and YSSY,    \n",
      "- on about 194 days or 83%    of days, storms occurred at YSSY after YSCN, and\n",
      "- on about 38 days or 16%    of days, storms occurred at YSCN after YSSY.\n",
      "\n",
      "NB:The relative frequencies above account for storms affecting both locations on the same day\n",
      "    and requirement they affect the downstream location YSSY after YSCN - this assumes storms at YSSY\n",
      "    have advected from YSCN. This many not always be the case!!\n",
      "\n",
      "On average storms develop near upstream location YSCN about 04Z\n",
      "On average storms advect or develop downstream location YSSY about  06Z\n",
      "\n",
      "Travel time storm from YSCN to YSSY (25% and 75% percentiles in hours:minutes HH:MM):    \n",
      "between 00:45 to    01:57\n"
     ]
    }
   ],
   "source": [
    "merged,ts_A2B,ts_B2A = compare_gpats_storm(loc1='yscn',loc2='yssy') "
   ]
  },
  {
   "cell_type": "code",
   "execution_count": 217,
   "metadata": {
    "scrolled": false
   },
   "outputs": [
    {
     "name": "stdout",
     "output_type": "stream",
     "text": [
      "Reading YBAF gpats file /home/bou/shared/stats-R/flask_projects/avguide/app/data/gpats_YBAF_10NM.csv\n"
     ]
    },
    {
     "name": "stderr",
     "output_type": "stream",
     "text": [
      "/home/bou/py37/lib64/python3.7/site-packages/ipykernel_launcher.py:17: FutureWarning: using a dict with renaming is deprecated and will be removed\n",
      "in a future version.\n",
      "\n",
      "For column-specific groupby renaming, use named aggregation\n",
      "\n",
      "    >>> df.groupby(...).agg(name=('column', aggfunc))\n",
      "\n"
     ]
    },
    {
     "name": "stdout",
     "output_type": "stream",
     "text": [
      "Reading YBBN gpats file /home/bou/shared/stats-R/flask_projects/avguide/app/data/gpats_YBBN_10NM.csv\n",
      "\n",
      "\n",
      "In the period between     28-Mar-2008 and     25-Sep-2020\n",
      "(that is 12.5 years and 4564 days     \n",
      "Num of storm days at YBAF = 338\n",
      "Num of storm days at YBBN = 322    \n",
      "Num of days with storm recorded at both locations = 279\n",
      "\n",
      "Out of the 279 days when we have storms at both YBAF and YBBN,    \n",
      "- on about 192 days or 69%    of days, storms occurred at YBBN after YBAF, and\n",
      "- on about 50 days or 18%    of days, storms occurred at YBAF after YBBN.\n",
      "\n",
      "NB:The relative frequencies above account for storms affecting both locations on the same day\n",
      "    and requirement they affect the downstream location YBBN after YBAF - this assumes storms at YBBN\n",
      "    have advected from YBAF. This many not always be the case!!\n",
      "\n",
      "On average storms develop near upstream location YBAF about 05Z\n",
      "On average storms advect or develop downstream location YBBN about  06Z\n",
      "\n",
      "Travel time storm from YBAF to YBBN (25% and 75% percentiles in hours:minutes HH:MM):    \n",
      "between 00:16 to    00:58\n"
     ]
    }
   ],
   "source": [
    "merged,ts_A2B,ts_B2A = compare_gpats_storm(loc1='Ybaf',loc2='ybbn')  "
   ]
  },
  {
   "cell_type": "code",
   "execution_count": 218,
   "metadata": {},
   "outputs": [
    {
     "name": "stdout",
     "output_type": "stream",
     "text": [
      "Reading YAMB gpats file /home/bou/shared/stats-R/flask_projects/avguide/app/data/gpats_YAMB_10NM.csv\n"
     ]
    },
    {
     "name": "stderr",
     "output_type": "stream",
     "text": [
      "/home/bou/py37/lib64/python3.7/site-packages/ipykernel_launcher.py:17: FutureWarning: using a dict with renaming is deprecated and will be removed\n",
      "in a future version.\n",
      "\n",
      "For column-specific groupby renaming, use named aggregation\n",
      "\n",
      "    >>> df.groupby(...).agg(name=('column', aggfunc))\n",
      "\n"
     ]
    },
    {
     "name": "stdout",
     "output_type": "stream",
     "text": [
      "Reading YBBN gpats file /home/bou/shared/stats-R/flask_projects/avguide/app/data/gpats_YBBN_10NM.csv\n",
      "\n",
      "\n",
      "In the period between     26-Mar-2008 and     15-Aug-2020\n",
      "(that is 12.4 years and 4524 days     \n",
      "Num of storm days at YAMB = 373\n",
      "Num of storm days at YBBN = 322    \n",
      "Num of days with storm recorded at both locations = 248\n",
      "\n",
      "Out of the 248 days when we have storms at both YAMB and YBBN,    \n",
      "- on about 212 days or 85%    of days, storms occurred at YBBN after YAMB, and\n",
      "- on about 35 days or 14%    of days, storms occurred at YAMB after YBBN.\n",
      "\n",
      "NB:The relative frequencies above account for storms affecting both locations on the same day\n",
      "    and requirement they affect the downstream location YBBN after YAMB - this assumes storms at YBBN\n",
      "    have advected from YAMB. This many not always be the case!!\n",
      "\n",
      "On average storms develop near upstream location YAMB about 05Z\n",
      "On average storms advect or develop downstream location YBBN about  07Z\n",
      "\n",
      "Travel time storm from YAMB to YBBN (25% and 75% percentiles in hours:minutes HH:MM):    \n",
      "between 00:39 to    02:12\n"
     ]
    }
   ],
   "source": [
    "merged,ts_A2B,ts_B2A = compare_gpats_storm(loc1='Yamb',loc2='ybbn')  "
   ]
  },
  {
   "cell_type": "code",
   "execution_count": 54,
   "metadata": {},
   "outputs": [],
   "source": [
    "# Merge with steering level winds - use 500hPa winds as proxy \n",
    "# box plots/ windroses for steering analysis"
   ]
  },
  {
   "cell_type": "markdown",
   "metadata": {},
   "source": [
    "## Conditional probs\n",
    "https://www.mathsisfun.com/data/probability-events-conditional.html\n",
    "\n",
    "![](conditional_probs.png)\n",
    "\n",
    "Is this correct extension of the argument to find conditional pprobability - i.e. chance of storm at YSSY given we had storms at YSRI.\n",
    "\n",
    "Prob(TS@YSSY | TS@YSRI) = Prob( TS@YSSY AND TS@YSRI) / Prob (TS@YSRI) ~ TS days at YSSY AND YSRI / TS days at YSRI\n"
   ]
  },
  {
   "cell_type": "code",
   "execution_count": 56,
   "metadata": {
    "scrolled": true
   },
   "outputs": [],
   "source": [
    "# Some days also when storms detected 1st at YSSY and then YSRI\n",
    "# About 62 days over 12 years - i.e about 5 times per year \n",
    "# chech if matches with any easterly sector steering!! east coast low type maybe\n",
    "# merged.loc[(merged['ysri_start']>merged['yssy_start'])].index"
   ]
  },
  {
   "cell_type": "code",
   "execution_count": 219,
   "metadata": {
    "scrolled": true
   },
   "outputs": [
    {
     "data": {
      "text/plain": [
       "Index(['sfc_P', 'sfc_T', 'sfc_Td', 'sfc_wdir', 'sfc_wspd', 'P910', 'T910',\n",
       "       'Td910', '900_wdir', '900_WS', 'P850', 'T850', 'Td850', '850_wdir',\n",
       "       '850_WS', 'P700', 'T700', 'Td700', '700_wdir', '700_WS', 'P500', 'T500',\n",
       "       'Td500', '500_wdir', '500_WS', 'tmp_rate850_500'],\n",
       "      dtype='object')"
      ]
     },
     "execution_count": 219,
     "metadata": {},
     "output_type": "execute_result"
    }
   ],
   "source": [
    "import pickle\n",
    "import os\n",
    "station='YBBN'\n",
    "#df  = pickle.load(\n",
    "#                open(\n",
    "#                os.path.join('app','data', station+'_aws.pkl'), 'rb'))\n",
    "\n",
    "snd  = pickle.load(\n",
    "                open(\n",
    "                os.path.join('app','data', station+'_sonde_2300_aws.pkl'), 'rb'))\n",
    "\n",
    "# For Brissy we used the 23Z sonde data - adjust for calendar date being 1 more than utc date\n",
    "# \n",
    "dates = snd.index + pd.Timedelta('1 days')  \n",
    "snd.set_index(dates, inplace=True)\n",
    "snd.columns"
   ]
  },
  {
   "cell_type": "code",
   "execution_count": 220,
   "metadata": {
    "scrolled": true
   },
   "outputs": [
    {
     "data": {
      "text/html": [
       "<div>\n",
       "<style scoped>\n",
       "    .dataframe tbody tr th:only-of-type {\n",
       "        vertical-align: middle;\n",
       "    }\n",
       "\n",
       "    .dataframe tbody tr th {\n",
       "        vertical-align: top;\n",
       "    }\n",
       "\n",
       "    .dataframe thead th {\n",
       "        text-align: right;\n",
       "    }\n",
       "</style>\n",
       "<table border=\"1\" class=\"dataframe\">\n",
       "  <thead>\n",
       "    <tr style=\"text-align: right;\">\n",
       "      <th></th>\n",
       "      <th>700_wdir</th>\n",
       "      <th>700_WS</th>\n",
       "      <th>T500</th>\n",
       "      <th>500_wdir</th>\n",
       "      <th>500_WS</th>\n",
       "      <th>tmp_rate850_500</th>\n",
       "    </tr>\n",
       "    <tr>\n",
       "      <th>TM</th>\n",
       "      <th></th>\n",
       "      <th></th>\n",
       "      <th></th>\n",
       "      <th></th>\n",
       "      <th></th>\n",
       "      <th></th>\n",
       "    </tr>\n",
       "  </thead>\n",
       "  <tbody>\n",
       "    <tr>\n",
       "      <th>2020-02-09</th>\n",
       "      <td>345.0</td>\n",
       "      <td>19.6</td>\n",
       "      <td>-7.3</td>\n",
       "      <td>335.0</td>\n",
       "      <td>27.8</td>\n",
       "      <td>23.5</td>\n",
       "    </tr>\n",
       "    <tr>\n",
       "      <th>2020-02-10</th>\n",
       "      <td>350.0</td>\n",
       "      <td>15.4</td>\n",
       "      <td>-7.1</td>\n",
       "      <td>325.0</td>\n",
       "      <td>37.0</td>\n",
       "      <td>23.9</td>\n",
       "    </tr>\n",
       "    <tr>\n",
       "      <th>2020-02-19</th>\n",
       "      <td>260.0</td>\n",
       "      <td>15.4</td>\n",
       "      <td>-4.7</td>\n",
       "      <td>285.0</td>\n",
       "      <td>24.6</td>\n",
       "      <td>23.5</td>\n",
       "    </tr>\n",
       "    <tr>\n",
       "      <th>2020-02-28</th>\n",
       "      <td>245.0</td>\n",
       "      <td>13.4</td>\n",
       "      <td>-9.3</td>\n",
       "      <td>205.0</td>\n",
       "      <td>9.2</td>\n",
       "      <td>26.3</td>\n",
       "    </tr>\n",
       "    <tr>\n",
       "      <th>2020-03-06</th>\n",
       "      <td>325.0</td>\n",
       "      <td>11.4</td>\n",
       "      <td>-5.3</td>\n",
       "      <td>310.0</td>\n",
       "      <td>20.6</td>\n",
       "      <td>23.1</td>\n",
       "    </tr>\n",
       "  </tbody>\n",
       "</table>\n",
       "</div>"
      ],
      "text/plain": [
       "            700_wdir  700_WS  T500  500_wdir  500_WS  tmp_rate850_500\n",
       "TM                                                                   \n",
       "2020-02-09     345.0    19.6  -7.3     335.0    27.8             23.5\n",
       "2020-02-10     350.0    15.4  -7.1     325.0    37.0             23.9\n",
       "2020-02-19     260.0    15.4  -4.7     285.0    24.6             23.5\n",
       "2020-02-28     245.0    13.4  -9.3     205.0     9.2             26.3\n",
       "2020-03-06     325.0    11.4  -5.3     310.0    20.6             23.1"
      ]
     },
     "execution_count": 220,
     "metadata": {},
     "output_type": "execute_result"
    }
   ],
   "source": [
    "snd_days_ts_A2B = snd.loc[ts_A2B.index, ['700_wdir','700_WS','T500','500_wdir','500_WS','tmp_rate850_500']]\n",
    "snd_days_ts_A2B.tail()"
   ]
  },
  {
   "cell_type": "code",
   "execution_count": 221,
   "metadata": {
    "scrolled": true
   },
   "outputs": [
    {
     "data": {
      "text/plain": [
       "<matplotlib.legend.Legend at 0x7f0e281adc90>"
      ]
     },
     "execution_count": 221,
     "metadata": {},
     "output_type": "execute_result"
    },
    {
     "data": {
      "image/png": "[encoded data removed]",
      "text/plain": [
       "<Figure size 640x640 with 1 Axes>"
      ]
     },
     "metadata": {},
     "output_type": "display_data"
    }
   ],
   "source": [
    "from windrose import WindroseAxes\n",
    "import matplotlib.cm as cm\n",
    "\n",
    "wd=snd_days_ts_A2B['500_wdir'].values\n",
    "ws=snd_days_ts_A2B['500_WS'].values\n",
    "ax = WindroseAxes.from_ax()\n",
    "'''A stacked histogram with normed (displayed in percent) results'''\n",
    "ax.bar(wd, ws, bins=np.arange(0, 100, 20), normed=True, nsector=16)\n",
    "ax.set_legend()\n"
   ]
  },
  {
   "cell_type": "code",
   "execution_count": 222,
   "metadata": {},
   "outputs": [
    {
     "data": {
      "text/plain": [
       "<matplotlib.legend.Legend at 0x7f0e28365550>"
      ]
     },
     "execution_count": 222,
     "metadata": {},
     "output_type": "execute_result"
    },
    {
     "data": {
      "image/png": "[encoded data removed]",
      "text/plain": [
       "<Figure size 640x640 with 1 Axes>"
      ]
     },
     "metadata": {},
     "output_type": "display_data"
    }
   ],
   "source": [
    "snd_days_ts_B2A = snd.loc[ts_B2A.index, ['700_wdir','700_WS','T500','500_wdir','500_WS','tmp_rate850_500']]\n",
    "\n",
    "wd=snd_days_ts_B2A['500_wdir'].values\n",
    "ws=snd_days_ts_B2A['500_WS'].values\n",
    "\n",
    "ax = WindroseAxes.from_ax()\n",
    "#ax.contour(wd, ws, bins=np.arange(0, 8, 1), cmap=cm.hot, lw=3)\n",
    "#ax.set_legend()\n",
    "'''A stacked histogram with normed (displayed in percent) results'''\n",
    "ax.bar(wd, ws, bins=np.arange(0, 100, 20), normed=True, nsector=16)\n",
    "ax.set_legend()"
   ]
  }
 ],
 "metadata": {
  "kernelspec": {
   "display_name": "Python 3.7.7 64-bit",
   "language": "python",
   "name": "python37764bitd5fcc5d9fa0241c896ab2aafdb714322"
  },
  "language_info": {
   "codemirror_mode": {
    "name": "ipython",
    "version": 3
   },
   "file_extension": ".py",
   "mimetype": "text/x-python",
   "name": "python",
   "nbconvert_exporter": "python",
   "pygments_lexer": "ipython3",
   "version": "3.7.9"
  }
 },
 "nbformat": 4,
 "nbformat_minor": 2
}
